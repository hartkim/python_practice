{
 "cells": [
  {
   "cell_type": "code",
   "execution_count": null,
   "metadata": {},
   "outputs": [],
   "source": [
    "# 1번\n",
    "def solution(n, k, enemy):\n",
    "    answer = 1\n",
    "    return answer"
   ]
  },
  {
   "cell_type": "code",
   "execution_count": null,
   "metadata": {},
   "outputs": [],
   "source": [
    "# 2번\n",
    "def solution(board):\n",
    "    answer = 0\n",
    "    count_ = 0\n",
    "    count_x = 0\n",
    "    count_o = 0\n",
    "    \n",
    "    for i in range(3):\n",
    "        for j in range(3):\n",
    "            \n",
    "            if board[i][j] ==\".\":\n",
    "                count_ += 1\n",
    "            if board[i][j] == \"X\":\n",
    "                count_x += 1\n",
    "            if board[i][j] == \"O\":\n",
    "                count_o += 1\n",
    "                if count_ == 9:\n",
    "                    answer = 1\n",
    "                if count_x >= count_o:\n",
    "                    answer = 0\n",
    "                \n",
    "    return answer"
   ]
  },
  {
   "cell_type": "code",
   "execution_count": null,
   "metadata": {},
   "outputs": [],
   "source": [
    "# 3번\n",
    "def solution(n, words):\n",
    "    answer = []\n",
    "    for i in range(words):\n",
    "        if words[i][-1] != words[i+1][0]:\n",
    "            answer =[1]\n",
    "    # [실행] 버튼을 누르면 출력 값을 볼 수 있습니다.\n",
    "    print('Hello Python')\n",
    "\n",
    "    return answer"
   ]
  }
 ],
 "metadata": {
  "language_info": {
   "name": "python"
  },
  "orig_nbformat": 4
 },
 "nbformat": 4,
 "nbformat_minor": 2
}
