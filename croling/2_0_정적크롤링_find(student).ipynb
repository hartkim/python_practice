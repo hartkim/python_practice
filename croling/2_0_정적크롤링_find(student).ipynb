{
 "cells": [
  {
   "attachments": {},
   "cell_type": "markdown",
   "id": "787434b0-1096-47ce-9c3b-3205c7418108",
   "metadata": {},
   "source": [
    "# BeautifulSoup\n",
    "- HTML 문서에서 원하는 부분출 추출해내는 라이브러리\n",
    "- 'requests'는 HTML을 텍스트 형태로 출력할 뿐이지 실제 HTML 태그를 다루지는 않는다.\n",
    "- BeautifulSoup 라이브러리는 위의 텍스트 결과를 실제 HTML 코드로 변환해준다. "
   ]
  },
  {
   "attachments": {},
   "cell_type": "markdown",
   "id": "140c1e4a-fc34-454b-881b-732f6926acf4",
   "metadata": {},
   "source": [
    "## BeautifulSoup\n",
    "- BeautifulSoup()\n",
    "    - 문자열 HTML 코드를 실제 HTML 코드로 변환해주는 함수\n",
    "\n",
    "    ```python\n",
    "    BeautifulSoup(문자열, 'html.parser')\n",
    "    # 문자열을 HTML 코드로 해석해서 읽어라\n",
    "    ```\n",
    "\n",
    "- find_all()\n",
    "    - HTML 코드에서 우리가 원하는 부분을 모두 가져오는 함수\n",
    "    - 원하는 부분을 지정할 때 사용하는 것은 태그와  Selector\n",
    "    - 해당 태그의 모든 HTML 코드를 리스트 형태로 반환\n",
    "\n",
    "    ```python\n",
    "    # <div id=\"example1\">\n",
    "    실제HTML코드.find_all(\"div\") # 태그 이름\n",
    "    실제HTML코드.find_all(id=\"example1\") # 선택자 정보\n",
    "\n",
    "    # <div id=\"example1\">, <span class=\"example2\">\n",
    "    실제HTML코드.find_all([\"div\", \"span\"]) # 태그 이름\n",
    "    실제HTML코드.find_all(attrs = {\"id\":\"example1\", \"class\":\"example2\"}) # 선택자 정보\n",
    "    ```\n",
    "\n",
    "\n",
    "\n",
    "- find()\n",
    "    - 하나의 부분만 가져오는 함수\n",
    "\n",
    "    ```python\n",
    "    # <div id=\"example1\">\n",
    "    실제HTML코드.find(\"div\") # 태그 이름\n",
    "    실제HTML코드.find(id=\"example1\") # 선택자 정보\n",
    "    실제HTML코드.find(attrs = {\"id\":\"example1\"}) # 선택자 정보\n",
    "    실제HTML코드.find(\"div\", {\"id\":\"example1\"}) # 태그 이름 + 선택자 정보\n",
    "    ```"
   ]
  },
  {
   "attachments": {},
   "cell_type": "markdown",
   "id": "b4fb138f-c40b-4a43-a981-9dbcd5eaadb2",
   "metadata": {},
   "source": [
    "# 함수 find() vs find_all()\n",
    "- 두 함수의 차이점을 이해하면 효율적으로 크롤링을 할수 있다. \n",
    "- 로또 당첨 번호를 조회해 보자\n",
    "- [당첨번호 확인](https://dhlottery.co.kr/gameResult.do?method=byWin)"
   ]
  },
  {
   "cell_type": "code",
   "execution_count": 1,
   "id": "770339ab",
   "metadata": {},
   "outputs": [],
   "source": [
    "from bs4 import BeautifulSoup\n",
    "import requests"
   ]
  },
  {
   "cell_type": "code",
   "execution_count": 2,
   "id": "e453c2db",
   "metadata": {},
   "outputs": [],
   "source": [
    "def lotto_win():\n",
    "    lotto_url = \"https://dhlottery.co.kr/gameResult.do?method=byWin\"\n",
    "    raw = requests.get(lotto_url)\n",
    "\n",
    "    soup = BeautifulSoup(raw.text, \"html.parser\")\n",
    "    box = soup.find(\"div\", {\"class\":\"num win\"})\n",
    "    numbers = box.find_all(\"span\")\n",
    "    for num in numbers:\n",
    "        print(num.text)"
   ]
  },
  {
   "cell_type": "code",
   "execution_count": 3,
   "id": "ca0367aa",
   "metadata": {},
   "outputs": [
    {
     "name": "stdout",
     "output_type": "stream",
     "text": [
      "3\n",
      "6\n",
      "14\n",
      "22\n",
      "30\n",
      "41\n"
     ]
    }
   ],
   "source": [
    "lotto_win()"
   ]
  },
  {
   "cell_type": "code",
   "execution_count": 4,
   "id": "4db6ad55",
   "metadata": {},
   "outputs": [],
   "source": [
    "finance_url = \"https://finance.naver.com/sise/\"\n",
    "finance_raw = requests.get(finance_url)\n",
    "finance_html = finance_raw.text"
   ]
  },
  {
   "cell_type": "code",
   "execution_count": 6,
   "id": "4e17a94f",
   "metadata": {},
   "outputs": [],
   "source": [
    "soup = BeautifulSoup(finance_html, \"html.parser\")"
   ]
  },
  {
   "cell_type": "code",
   "execution_count": 12,
   "id": "72952df0",
   "metadata": {},
   "outputs": [],
   "source": [
    "s_1 = soup.find('ul', {\"id\":\"popularItemList\"})\n",
    "s_2 = s_1.find_all(\"a\")\n",
    "# s_2 = s_1.find_all(\"li\")"
   ]
  },
  {
   "cell_type": "code",
   "execution_count": 18,
   "id": "0d1645b8",
   "metadata": {},
   "outputs": [
    {
     "name": "stdout",
     "output_type": "stream",
     "text": [
      "1 에코프로\n",
      "2 마녀공장\n",
      "3 현대바이오\n",
      "4 삼성전자\n",
      "5 두산에너빌리티\n",
      "6 한일사료\n",
      "7 에코프로비엠\n",
      "8 POSCO홀딩스\n",
      "9 이수스페셜티케미컬\n",
      "10 이수페타시스\n"
     ]
    }
   ],
   "source": [
    "for j,i in enumerate(s_2):\n",
    "    print(f\"{j+1} {i.text}\")"
   ]
  },
  {
   "attachments": {},
   "cell_type": "markdown",
   "id": "94285171-ea20-435c-9631-b121a63f86d0",
   "metadata": {},
   "source": [
    "# URL 패턴\n",
    "- https://search.hankyung.com/apps.frm/search.news?query=%EC%BD%94%EB%A1%9C%EB%82%98&page=1\n",
    "- url 패턴 : query=\"검색값\"&page=\"페이지값\""
   ]
  },
  {
   "attachments": {},
   "cell_type": "markdown",
   "id": "72d0a6db",
   "metadata": {},
   "source": [
    "- 한경 사이트에서 검색어를 입력하면 기사 제목을 3페이지 까지 크롤링하도록 작성해 보세요\n",
    "```\n",
    "다음날 느껴지는 입체 탄력피부 비결은 아모레퍼시픽 TR... \n",
    "비피도 주가 아모레퍼시픽 마이크로바이옴 관련주 분석\n",
    "아모레퍼시픽 팝업 전시, 유행화장전 꿀잼 방문후기... \n",
    "오프화이트 아모레퍼시픽 프로텍션박스 개봉기\n",
    "신용산 쌀국수 베트남 음식 맛집 아모레퍼시픽 포포유 맛있어\n",
    "아모레퍼시픽 유행화장 팝업전시, 한남동 storyA 꼭 방문해봐요\n",
    "아모레퍼시픽 마케팅 지원자 모의면접 피드백 (1분 자기소개... \n",
    "아모레퍼시픽을 선택할 것인가, 하나투어를 선택할 것인가\n",
    "아모레퍼시픽 유행화장 전시에서 레트로 시간여행하고온 후기!\n",
    "아모레퍼시픽 팝업 전시! 유행화장전으로 시간 여행 떠나요~\n",
    "국내 주식 아모레퍼시픽 유상증자 및 역삼각합병(삼각합병)\n",
    "오프화이트 X 아모레퍼시픽 프로텍션 박스 소장가치 100%야\n",
    "경제기사)_동아에스티_라네즈_아모레퍼시픽_포스코... \n",
    "아모레퍼시픽 빈티지에센스 , 더 맑고 더 탄력있는 항산화에너지\n",
    "[아모레퍼시픽×금귤] ★필독 틈새공지★ 10월부터 쿠폰... \n",
    "서울 성수 나들이 : 아모레퍼시픽 성수점, 커먼그라운드... \n",
    "아모레퍼시픽 타임레스폰스앰플, 압도적 입체 탄력앰플 추천\n",
    "아모레퍼시픽 타임 레스폰스 앰플 ! 입체 탄력 케어에 도움을... \n",
    "아모레퍼시픽(090430) 종목분석 리포트 2022.07.29 교보증권\n",
    "아모레퍼시픽 본사 All about Amore 행사 초청으로... \n",
    "아모레퍼시픽 '22.1Q 실적 리뷰 : 부진의 정점과 긍정적 변화\n",
    "수혜주 - 아모레퍼시픽, LG생활건강, 한국콜마, 코스맥스... \n",
    "(화장품 관련주) 아모레퍼시픽 주가 전망은?\n",
    "LG생활건강, 아모레퍼시픽, 네오팜 - 화장품업계는 중국없으면... \n",
    "화장품 관련주 아모레퍼시픽 주가, 3분기 실적발표 어닝쇼크... \n",
    "삼성전자_이재용_메타_LG생활건강_아모레퍼시픽_한국은행_RP매입\n",
    "아모레퍼시픽 주가, 전망 알아볼까요?\n",
    "아모레퍼시픽 주가 알아보기\n",
    "서울 전시 안드레아스 거스키 사진전 @아모레퍼시픽미술관\n",
    "아모레퍼시픽몰 뷰티포인트 5천원 바이탈뷰티 100원딜 이벤트... \n",
    "```\n",
    "\n"
   ]
  },
  {
   "attachments": {},
   "cell_type": "markdown",
   "id": "ff749162",
   "metadata": {},
   "source": [
    "- [참고: URL 인코딩/디코딩 (URL Encoding/Decoding)](https://it-eldorado.tistory.com/143)  \n",
    "<img src=\"https://blog.kakaocdn.net/dn/caNQvW/btq4JfrNJfP/zdIHGBlZFZr26k2XeHJhbK/img.png\">"
   ]
  },
  {
   "cell_type": "code",
   "execution_count": 31,
   "id": "8a3d1320",
   "metadata": {},
   "outputs": [],
   "source": [
    "def hankyung_news(query, pages):\n",
    "    for page_num in range(1, pages+1):\n",
    "        hankyung_url = f\"https://search.hankyung.com/search/news?query={query}&page={page_num}\"\n",
    "        hankyung_raw = requests.get(hankyung_url)\n",
    "        hankyung_bs = BeautifulSoup(hankyung_raw.text, \"html.parser\")\n",
    "        for i in hankyung_bs.find(\"div\", {\"class\":\"section_cont\"}).find_all(\"li\"):\n",
    "            print(i.find(\"em\", {\"class\":\"tit\"}).text)\n"
   ]
  },
  {
   "cell_type": "code",
   "execution_count": 32,
   "id": "78a733ee",
   "metadata": {},
   "outputs": [
    {
     "name": "stdout",
     "output_type": "stream",
     "text": [
      "억대 연봉 약사→광고 회사 CEO…'캠핑 인 러브2', 화려한 출연자 스펙 공개\n",
      "북한 역도, 쿠바 대회 불참…사실상 파리올림픽 출전 불가(종합)\n",
      "중국 5월 소비자물가 0.2% 상승…생산자물가는 4.6% 하락\n",
      "세이브더칠드런, '네팔 아동노동 근절 캠페인' 추진\n",
      "캐나다, 산불로 대기질 최악…당국, 마스크 착용 지침 다시 꺼냈다\n",
      "관광지 물가 논란 '뜨끔'…제주 '바가지 방지' 나선다\n",
      "경기교육청, 올해 하반기 검정고시 8월 10일 시행\n",
      "목발 짚고 나타난 최태원 \"엑스포 유치에 중요한 행사\"(종합)\n",
      "휴가철 앞두고 '제주 관광 바가지 방지' 입법 추진\n",
      "[주말극장가] '범죄도시 3' 독주 계속…800만 관객 돌파 시도\n",
      "中 당국, 자동차 판매촉진 캠페인…\"보조금 지원·구매 우대\"\n",
      "[르포] 일본 오염수 방류 임박에 부산 수산업계 '초긴장'\n",
      "\"티켓 값 20만원\"…하이브, 업계 공룡의 부담스러운 '팬心 인질극'[TEN초점]\n",
      "진원생명과학, 코로나 DNA·mRNA 백신 교차접종 연구 학술지 게재\n",
      "미련 없이 사표 던진 20년차 기자…퇴사하고 뭐하나 봤더니 [긱스]\n",
      "세종시청 앞, 공원·주차 겸한 '광장주차장' 만든다\n",
      "[해외 바이오 기업] 모든 바이오텍의 롤모델, 리제네론파마슈티컬스\n",
      "\"엄청난 통증\"…최태원 회장, 깁스한 채 부산행 '부상투혼'\n",
      "6년 만에 만난 한일 상의 \"오사카-부산 엑스포 협력\"\n",
      "6년만에 다시 만난 한일상의…\"오사카-부산 엑스포 협력\"\n",
      "EU, 새 난민정책 잠정합의…나눠받거나 1인당 3천만원 내거나\n",
      "산청세계전통의약항노화엑스포 조직위, 일본서 관광객 유치전\n",
      "10기 옥순♥유현철, 재혼 앞두고 동거 시작…'2억9천' PD \"결혼 장려도 만류도 NO\" [일문일답]\n",
      "재택근무 장려했던 구글 \"주 3회 사무실 출근 고과에 반영\"\n",
      "P의 거짓·워헤이븐·TL…국제 게임쇼 수놓은 K-게임\n",
      "최태원 회장, 아킬레스건 파열 불구 부산행\n",
      "최태원, 다리 깁스하고 부산行…\"엑스포 유치에 중요한 행사\"\n",
      "\"여름 성수기 맞아 항공 운임 반등할 것…LCC에 주목해야\"-한국\n",
      "'봇물' 터진 해외여행…결국 이렇게 될 줄이야\n",
      "경상수지, 배당·여행 등에 다시 적자…상품수지는 흑자 전환\n",
      "바닥 기던 해운주…해상 운임 반등하자 '꿈틀'\n",
      "북한 역도팀, 쿠바 대회 불참…파리올림픽 참가도 불투명\n",
      "아우구스틴 하델리히 \"때로는 바이올린이 제 목소리 같아요\"\n",
      "'온라인결제는 도저히'…日 대기업, 원격의료 해결사로 [정영효의 인사이드 재팬]\n",
      "주가 뛰면 대량 매도…'개미 공공의 적' 된 국민연금, 왜 그럴까?\n",
      "박진 \"머지않아 한미일정상회담…NCG 안착 후 日협력 논의 가능\"\n",
      "국토부, '안전한 배달문화 조성' 민·관 협의체 출범\n",
      "'아듀 팬데믹' 美 시카고 호텔 투숙률 96.8% 역대 최고 기록\n",
      "\"테슬라, 스페인에 전기차 투자 검토…지방정부와 논의 중\"\n",
      "\"유럽 근무 北외교관 탈북\"…北국경 개방전 연쇄탈북 가능성(종합2보)\n",
      "삼성에 LG까지 뛰어들었다…불티나게 팔린 '대세' 가전\n",
      "플라이강원, 정비 맡겼던 비행기도 반납…남은 비행기 '1대'\n",
      "서울시 \"영유아 발달검사 무료로 해드려요\"\n",
      "4달 만에 1만명 채용…쿠팡, 삼성보다 많이 뽑았다\n",
      "캐나다 최악의 산불…뉴욕 하늘 연기로 뒤덮었다\n",
      "스페인 SPA 브랜드 '자라'의 질주…명품 LVMH·디올 추격\n",
      "입시부터 취업·이직까지…\"당신의 멘토를 찾아드립니다\"\n",
      "코로나 대출 상환유예 끝나도 최장 60개월 분할 납부 가능\n",
      "[차장 칼럼] 부활한 종북세력에 마침표 찍기\n",
      "불경기에 강하다…\"고려신용정보 주목할 만\"\n"
     ]
    }
   ],
   "source": [
    "query = input(\"검색어를 입력 하세요 : \")\n",
    "pages = int(input(\"몇페이지 까지 검색하실건가요 : \"))\n",
    "hankyung_news(query, pages)"
   ]
  },
  {
   "attachments": {},
   "cell_type": "markdown",
   "id": "592b04c9",
   "metadata": {},
   "source": [
    "```\n",
    "1 - 블링 (BLING) : 해피클 미리클\n",
    "2 - 쎄몽히어로 : 내안의 히어로를 찾아서\n",
    "3 - AMOS1 : Santa Claus\n",
    "4 - Weeekly (위클리) : Happy Christmas\n",
    "5 - TO1 (티오원) : OVERLAP\n",
    "6 - 백예슬 : 크리스마스가 찾아온 길\n",
    "7 - 펀치펀치 (Punch Punch) : WINTER ISLAND\n",
    "8 - EEDO : OUT NOW\n",
    "9 - Ziodina (지오디나) : Christmas Time\n",
    "10 - 도람 : 너야 (Feat. NO.I)\n",
    "11 - Musist : Where R U (Feat. 공시아)\n",
    "12 - 샌드박스 네트워크 : 첫눈\n",
    "```"
   ]
  },
  {
   "attachments": {},
   "cell_type": "markdown",
   "id": "3ebe4f71",
   "metadata": {},
   "source": []
  },
  {
   "cell_type": "code",
   "execution_count": 74,
   "id": "a68eaa94",
   "metadata": {},
   "outputs": [],
   "source": [
    "# 멜론 차트 \n",
    "# melon_raw = requests.get(melon_url, headers = header)\n",
    "# melon_bs = BeautifulSoup(melon_raw.text, \"html.parser\")\n",
    "# tab_name = melon_bs.find(\"div\", {\"class\":\"wrap_tabmenu01 type08\"}).find_all(\"a\")\n",
    "\n",
    "# for i in tab_name:\n",
    "#     print(i.text)\n",
    "#     print(i.attrs['href'])\n",
    "\n",
    "def get_gens(url, header=header):\n",
    "    melon_raw = requests.get(melon_url, headers = header)\n",
    "    melon_bs = BeautifulSoup(melon_raw.text, \"html.parser\")\n",
    "    tab_name = melon_bs.find(\"div\", {\"class\":\"wrap_tabmenu01 type08\"}).find_all(\"a\")\n",
    "\n",
    "    gen_dic = {}\n",
    "    for i in tab_name:\n",
    "        print(i.text)\n",
    "        gen_dic[i.text] = i.attrs['href']\n",
    "\n",
    "    gen_key = input(\"원하는 장르를 입력 하세요 : \")\n",
    "    root_url = \"https://www.melon.com\"\n",
    "    gen_url = gen_dic[gen_key]\n",
    "    url = f\"{root_url}{gen_url}\"\n",
    "    return url \n",
    "# header = {'User-Agent': 'Mozilla/5.0 (Windows NT 6.3; Trident/7.0; rv:11.0) like Gecko'}\n",
    "# melon_url = \"https://www.melon.com/genre/song_list.htm\"\n",
    "# get_gens(melon_url, header)\n",
    "\n",
    "def get_table(url, header=header):\n",
    "    table_raw = requests.get(url, headers = header)\n",
    "    table_bs = BeautifulSoup(table_raw.text, \"html.parser\")\n",
    "    songs = table_bs.find_all(\"div\", {\"class\": \"ellipsis rank01\"})\n",
    "    singers = table_bs.find_all(\"div\", {\"class\": \"ellipsis rank02\"})\n",
    "    return singers, songs\n",
    "\n",
    "def print_table(singers, songs):\n",
    "    for rank, song_info in enumerate(zip(singers, songs)):\n",
    "        singer, song = song_info\n",
    "        singer = singer.find(\"a\").text\n",
    "        song = song.find(\"a\").text\n",
    "        print(rank+1, singer, song)\n",
    "\n"
   ]
  },
  {
   "cell_type": "code",
   "execution_count": 75,
   "id": "4db414eb",
   "metadata": {},
   "outputs": [],
   "source": [
    "# url = 'https://www.melon.com//genre/song_list.htm?gnrCode=GN0300'\n",
    "# table_raw = requests.get(url, headers = header)\n",
    "# table_bs = BeautifulSoup(table_raw.text, \"html.parser\")\n",
    "# songs = table_bs.find_all(\"div\", {\"class\": \"ellipsis rank01\"})\n",
    "# singers = table_bs.find_all(\"div\", {\"class\": \"ellipsis rank02\"})"
   ]
  },
  {
   "cell_type": "code",
   "execution_count": 76,
   "id": "39b9f51d",
   "metadata": {},
   "outputs": [
    {
     "name": "stdout",
     "output_type": "stream",
     "text": [
      "발라드\n",
      "댄스\n",
      "랩/힙합\n",
      "R&B/Soul\n",
      "인디음악\n",
      "록/메탈\n",
      "트로트\n",
      "포크/블루스\n",
      "1 SWITCH Shut Off\n",
      "2 Remind Voice Question\n",
      "3 Maniac Brass Sensation\n",
      "4 Arvia Area Truth\n",
      "5 AMBITION INCEPTION\n",
      "6 gwangil_masion (광일맨션) 靑春 (청춘)\n",
      "7 플레야 Sacrifice\n",
      "8 트러스트(Trust) Robots\n",
      "9 P1Harmony JUMP\n",
      "10 퀸덤퍼즐 RISE UP\n",
      "11 강다니엘 Wasteland\n",
      "12 THE NEW SIX (TNX) Kick It 4 Now\n",
      "13 XODIAC THROW A DICE\n",
      "14 Maniac Brass Rub\n",
      "15 Arvia Area Simple\n",
      "16 Remind Voice Plunge\n",
      "17 tripleS (트리플에스) Cherry Gene\n",
      "18 스타데이즈 (STARDAYS) Galassia\n",
      "19 Hit Boost Crucial\n",
      "20 Forest Music Vast Ocean\n",
      "21 프로미스나인 #menow\n",
      "22 Maniac Brass Parade\n",
      "23 Arvia Area Precious\n",
      "24 Remind Voice Escape\n",
      "25 영후드 (YOUNgHOOD) DREAM GIRL\n",
      "26 브레이브걸스 Shiny World\n",
      "27 @IN_어스 SPACEMAN\n",
      "28 Radio Not Ready or Not\n",
      "29 비비안 (VIVIAN) What I Want\n",
      "30 Crusadope Boom (Feat. Seon, Jason)\n",
      "31 Musist 소문 (Feat. 김윤재)\n",
      "32 조미 (ZHOUMI) Mañana (Our Drama) (Feat. 은혁)\n",
      "33 이소예 일종의 고백 (Rabbit loves you)\n",
      "34 인더스튜디오(INTHESTUDIO) BA LA LA\n",
      "35 Dustin (더스틴) BLACKLIST\n",
      "36 박로시 LUV Myself\n",
      "37 NINE to SIX Don't Call Me\n",
      "38 HORI7ON(호라이즌) Lovey Dovey\n",
      "39 DIAWINGS Finale\n",
      "40 BOYNEXTDOOR One and Only\n",
      "41 XODIAC SPECIAL LOVE\n",
      "42 미즈호 (MIZUHO) RAINBOW\n",
      "43 데니스프로젝트 My Way (feat.노훈) (Nu Disco Mix)\n",
      "44 AB6IX (에이비식스) LOSER\n",
      "45 CIX (씨아이엑스) Save me, Kill me\n",
      "46 캐리 라이트 Life is GOOD no.0\n",
      "47 혜인 Show Time (Feat. 태연)\n",
      "48 이랑 꿈놀이 (Feat.소리)\n",
      "49 김아름 아름다운 도시\n",
      "50 EPEX (이펙스) 잘자요 굿나잇\n"
     ]
    }
   ],
   "source": [
    "header = {'User-Agent': 'Mozilla/5.0 (Windows NT 6.3; Trident/7.0; rv:11.0) like Gecko'}\n",
    "melon_url = \"https://www.melon.com/genre/song_list.htm\"\n",
    "gen_url = get_gens(melon_url, header)\n",
    "sing,song = get_table(gen_url, header)\n",
    "print_table(sing,song)"
   ]
  },
  {
   "cell_type": "code",
   "execution_count": 67,
   "id": "74e605d2",
   "metadata": {},
   "outputs": [
    {
     "data": {
      "text/plain": [
       "'SWITCH'"
      ]
     },
     "execution_count": 67,
     "metadata": {},
     "output_type": "execute_result"
    }
   ],
   "source": [
    "sing[0].find(\"a\").text"
   ]
  },
  {
   "cell_type": "code",
   "execution_count": null,
   "id": "e8d3851e",
   "metadata": {},
   "outputs": [],
   "source": []
  }
 ],
 "metadata": {
  "kernelspec": {
   "display_name": "Python 3",
   "language": "python",
   "name": "python3"
  },
  "language_info": {
   "codemirror_mode": {
    "name": "ipython",
    "version": 3
   },
   "file_extension": ".py",
   "mimetype": "text/x-python",
   "name": "python",
   "nbconvert_exporter": "python",
   "pygments_lexer": "ipython3",
   "version": "3.9.16"
  },
  "vscode": {
   "interpreter": {
    "hash": "dbed800594d50dcd765f608e308af28589ea0d9c6198cea9128f32246235ab90"
   }
  }
 },
 "nbformat": 4,
 "nbformat_minor": 5
}
