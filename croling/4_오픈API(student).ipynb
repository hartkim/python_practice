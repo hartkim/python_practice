{
 "cells": [
  {
   "cell_type": "markdown",
   "metadata": {
    "id": "Cvvb9lXJpmlf"
   },
   "source": [
    "# REST API\n",
    "- HTTP URI를 통해 자원을 명시하고, HTTP Method (POST, GET, PUT, DELETE)를 통해 해당 자원에 대한 CRUD OPERATION을 적용하는 것을 의미한다.\n",
    "- 즉, REST는 자원 기반의 구조 (ROA: Resource Oriented Architecture) 설계의 중심에 Resoure가 있고 HTTP Method를 통해 Resource를 처리하도록 설계된 아키텍쳐를 의미한다.\n",
    "- 웹의 모든 자원에 고유한 ID인 HTTP URI 를 부여한다.\n",
    "\n",
    "<img src=\"https://velog.velcdn.com/images/somday/post/2a7df2da-2a3c-44af-b059-ee03efc125ef/restapi-image.png\">\n",
    "\n",
    "- https://velog.io/@somday/RESTful-API-%EC%9D%B4%EB%9E%80"
   ]
  },
  {
   "cell_type": "code",
   "execution_count": null,
   "metadata": {
    "colab": {
     "base_uri": "https://localhost:8080/",
     "height": 105
    },
    "id": "CPaAaTXambEa",
    "outputId": "37a7c7d7-add2-49af-9be5-d48a408e4668",
    "tags": []
   },
   "outputs": [],
   "source": [
    "# xml을 dict 형태로 저장하는 라이브러리 설치\n",
    "!pip install xmltodict"
   ]
  },
  {
   "cell_type": "code",
   "execution_count": null,
   "metadata": {
    "id": "w6O-j3JtgX9U",
    "tags": []
   },
   "outputs": [],
   "source": [
    "# 필수 라이브러리 불러오기\n",
    "import requests\n",
    "import json\n",
    "import xmltodict\n",
    "import getpass"
   ]
  },
  {
   "cell_type": "code",
   "execution_count": null,
   "metadata": {
    "id": "jhyKfjh0gi8l"
   },
   "outputs": [],
   "source": [
    "# 영화진흥위원회 오픈API 정보 저장\n",
    "# https://www.kobis.or.kr/kobisopenapi/homepg/apiservice/searchServiceInfo.do"
   ]
  },
  {
   "cell_type": "code",
   "execution_count": null,
   "metadata": {
    "id": "8Xmf6J2_pmlk",
    "scrolled": true,
    "tags": []
   },
   "outputs": [],
   "source": [
    "api_KEY = \"00056c423cbaf7d6288c251e09464722\"\n",
    "code_search_url = \"http://www.kobis.or.kr/kobisopenapi/webservice/rest/movie/searchMovieList.json\"\n",
    "\n",
    "params = {\"key\": api_KEY, }\n",
    "response = requests.get(code_search_url, params)\n",
    "movie_info = json.loads(response.text)\n",
    "movie_info[\"movieListResult\"][\"movieList\"]"
   ]
  },
  {
   "cell_type": "code",
   "execution_count": null,
   "metadata": {
    "id": "qaCzs3jFhH6i",
    "tags": []
   },
   "outputs": [],
   "source": [
    "# 영화 제목으로 영화 코드를 불러오는 함수를 만들어 보자"
   ]
  },
  {
   "cell_type": "code",
   "execution_count": null,
   "metadata": {
    "id": "dKQftHy-pmlk",
    "tags": []
   },
   "outputs": [],
   "source": [
    "def movie_search(movie_name):\n",
    "    movie_search_url = \"http://www.kobis.or.kr/kobisopenapi/webservice/rest/movie/searchMovieList.json\"\n",
    "    params = {\"key\": api_KEY, \"movieNm\" : movie_name}\n",
    "    response = requests.get(movie_search_url, params)\n",
    "    movie_info = json.loads(response.text)\n",
    "    # movie_info\n",
    "    return movie_info[\"movieListResult\"]"
   ]
  },
  {
   "cell_type": "code",
   "execution_count": null,
   "metadata": {
    "tags": []
   },
   "outputs": [],
   "source": [
    "# from pandas import json_normalize #json to df \n",
    "movie_search(\"인어공주\")"
   ]
  },
  {
   "cell_type": "code",
   "execution_count": 30,
   "metadata": {
    "tags": []
   },
   "outputs": [],
   "source": [
    "# 전날 박스오치스 기록을 확인해 보세요 \n",
    "\n",
    "d_boxoffice_url = \"http://www.kobis.or.kr/kobisopenapi/webservice/rest/boxoffice/searchDailyBoxOfficeList.json\"\n",
    "params = {\"key\": api_KEY, \"targetDt\" : \"20230612\"}\n",
    "response = requests.get(d_boxoffice_url, params)\n",
    "movie_info = json.loads(response.text)"
   ]
  },
  {
   "cell_type": "code",
   "execution_count": 32,
   "metadata": {
    "tags": []
   },
   "outputs": [],
   "source": [
    "from pandas import json_normalize #json to df "
   ]
  },
  {
   "cell_type": "code",
   "execution_count": 36,
   "metadata": {
    "scrolled": true,
    "tags": []
   },
   "outputs": [
    {
     "data": {
      "text/html": [
       "<div>\n",
       "<style scoped>\n",
       "    .dataframe tbody tr th:only-of-type {\n",
       "        vertical-align: middle;\n",
       "    }\n",
       "\n",
       "    .dataframe tbody tr th {\n",
       "        vertical-align: top;\n",
       "    }\n",
       "\n",
       "    .dataframe thead th {\n",
       "        text-align: right;\n",
       "    }\n",
       "</style>\n",
       "<table border=\"1\" class=\"dataframe\">\n",
       "  <thead>\n",
       "    <tr style=\"text-align: right;\">\n",
       "      <th></th>\n",
       "      <th>rnum</th>\n",
       "      <th>rank</th>\n",
       "      <th>rankInten</th>\n",
       "      <th>rankOldAndNew</th>\n",
       "      <th>movieCd</th>\n",
       "      <th>movieNm</th>\n",
       "      <th>openDt</th>\n",
       "      <th>salesAmt</th>\n",
       "      <th>salesShare</th>\n",
       "      <th>salesInten</th>\n",
       "      <th>salesChange</th>\n",
       "      <th>salesAcc</th>\n",
       "      <th>audiCnt</th>\n",
       "      <th>audiInten</th>\n",
       "      <th>audiChange</th>\n",
       "      <th>audiAcc</th>\n",
       "      <th>scrnCnt</th>\n",
       "      <th>showCnt</th>\n",
       "    </tr>\n",
       "  </thead>\n",
       "  <tbody>\n",
       "    <tr>\n",
       "      <th>0</th>\n",
       "      <td>1</td>\n",
       "      <td>1</td>\n",
       "      <td>0</td>\n",
       "      <td>OLD</td>\n",
       "      <td>20226411</td>\n",
       "      <td>범죄도시3</td>\n",
       "      <td>2023-05-31</td>\n",
       "      <td>1392012445</td>\n",
       "      <td>75.1</td>\n",
       "      <td>-3510102289</td>\n",
       "      <td>-71.6</td>\n",
       "      <td>78458234530</td>\n",
       "      <td>143291</td>\n",
       "      <td>-338156</td>\n",
       "      <td>-70.2</td>\n",
       "      <td>7926132</td>\n",
       "      <td>1968</td>\n",
       "      <td>10871</td>\n",
       "    </tr>\n",
       "    <tr>\n",
       "      <th>1</th>\n",
       "      <td>2</td>\n",
       "      <td>2</td>\n",
       "      <td>0</td>\n",
       "      <td>OLD</td>\n",
       "      <td>20232025</td>\n",
       "      <td>트랜스포머: 비스트의 서막</td>\n",
       "      <td>2023-06-06</td>\n",
       "      <td>235556736</td>\n",
       "      <td>12.7</td>\n",
       "      <td>-912725656</td>\n",
       "      <td>-79.5</td>\n",
       "      <td>6059604280</td>\n",
       "      <td>24004</td>\n",
       "      <td>-87122</td>\n",
       "      <td>-78.4</td>\n",
       "      <td>593485</td>\n",
       "      <td>973</td>\n",
       "      <td>3843</td>\n",
       "    </tr>\n",
       "    <tr>\n",
       "      <th>2</th>\n",
       "      <td>3</td>\n",
       "      <td>3</td>\n",
       "      <td>1</td>\n",
       "      <td>OLD</td>\n",
       "      <td>20231496</td>\n",
       "      <td>가디언즈 오브 갤럭시: Volume 3</td>\n",
       "      <td>2023-05-03</td>\n",
       "      <td>61484093</td>\n",
       "      <td>3.3</td>\n",
       "      <td>-106336544</td>\n",
       "      <td>-63.4</td>\n",
       "      <td>43865066348</td>\n",
       "      <td>6106</td>\n",
       "      <td>-9717</td>\n",
       "      <td>-61.4</td>\n",
       "      <td>4161310</td>\n",
       "      <td>423</td>\n",
       "      <td>699</td>\n",
       "    </tr>\n",
       "    <tr>\n",
       "      <th>3</th>\n",
       "      <td>4</td>\n",
       "      <td>4</td>\n",
       "      <td>2</td>\n",
       "      <td>OLD</td>\n",
       "      <td>20231592</td>\n",
       "      <td>분노의 질주: 라이드 오어 다이</td>\n",
       "      <td>2023-05-17</td>\n",
       "      <td>26217421</td>\n",
       "      <td>1.4</td>\n",
       "      <td>-32899148</td>\n",
       "      <td>-55.7</td>\n",
       "      <td>18367800828</td>\n",
       "      <td>2672</td>\n",
       "      <td>-3103</td>\n",
       "      <td>-53.7</td>\n",
       "      <td>1762653</td>\n",
       "      <td>274</td>\n",
       "      <td>382</td>\n",
       "    </tr>\n",
       "    <tr>\n",
       "      <th>4</th>\n",
       "      <td>5</td>\n",
       "      <td>5</td>\n",
       "      <td>0</td>\n",
       "      <td>OLD</td>\n",
       "      <td>20231839</td>\n",
       "      <td>인어공주</td>\n",
       "      <td>2023-05-24</td>\n",
       "      <td>17155049</td>\n",
       "      <td>0.9</td>\n",
       "      <td>-95739606</td>\n",
       "      <td>-84.8</td>\n",
       "      <td>6520792827</td>\n",
       "      <td>1675</td>\n",
       "      <td>-9324</td>\n",
       "      <td>-84.8</td>\n",
       "      <td>633118</td>\n",
       "      <td>179</td>\n",
       "      <td>230</td>\n",
       "    </tr>\n",
       "    <tr>\n",
       "      <th>5</th>\n",
       "      <td>6</td>\n",
       "      <td>6</td>\n",
       "      <td>0</td>\n",
       "      <td>NEW</td>\n",
       "      <td>20228930</td>\n",
       "      <td>엘리멘탈</td>\n",
       "      <td>2023-06-14</td>\n",
       "      <td>14447000</td>\n",
       "      <td>0.8</td>\n",
       "      <td>14447000</td>\n",
       "      <td>100</td>\n",
       "      <td>33584000</td>\n",
       "      <td>1541</td>\n",
       "      <td>1541</td>\n",
       "      <td>100</td>\n",
       "      <td>3654</td>\n",
       "      <td>6</td>\n",
       "      <td>6</td>\n",
       "    </tr>\n",
       "    <tr>\n",
       "      <th>6</th>\n",
       "      <td>7</td>\n",
       "      <td>7</td>\n",
       "      <td>1</td>\n",
       "      <td>OLD</td>\n",
       "      <td>20231677</td>\n",
       "      <td>남은 인생 10년</td>\n",
       "      <td>2023-05-24</td>\n",
       "      <td>14439000</td>\n",
       "      <td>0.8</td>\n",
       "      <td>-27119900</td>\n",
       "      <td>-65.3</td>\n",
       "      <td>1246735100</td>\n",
       "      <td>1353</td>\n",
       "      <td>-2415</td>\n",
       "      <td>-64.1</td>\n",
       "      <td>115326</td>\n",
       "      <td>88</td>\n",
       "      <td>158</td>\n",
       "    </tr>\n",
       "    <tr>\n",
       "      <th>7</th>\n",
       "      <td>8</td>\n",
       "      <td>8</td>\n",
       "      <td>-5</td>\n",
       "      <td>OLD</td>\n",
       "      <td>20090860</td>\n",
       "      <td>포켓 몬스터 DP: 아르세우스 초극의 시공으로</td>\n",
       "      <td>2009-12-24</td>\n",
       "      <td>11110526</td>\n",
       "      <td>0.6</td>\n",
       "      <td>-228302510</td>\n",
       "      <td>-95.4</td>\n",
       "      <td>4244575264</td>\n",
       "      <td>1236</td>\n",
       "      <td>-24153</td>\n",
       "      <td>-95.1</td>\n",
       "      <td>554834</td>\n",
       "      <td>214</td>\n",
       "      <td>242</td>\n",
       "    </tr>\n",
       "    <tr>\n",
       "      <th>8</th>\n",
       "      <td>9</td>\n",
       "      <td>9</td>\n",
       "      <td>1</td>\n",
       "      <td>OLD</td>\n",
       "      <td>20226270</td>\n",
       "      <td>스즈메의 문단속</td>\n",
       "      <td>2023-03-08</td>\n",
       "      <td>6703009</td>\n",
       "      <td>0.4</td>\n",
       "      <td>-22418824</td>\n",
       "      <td>-77</td>\n",
       "      <td>56714029997</td>\n",
       "      <td>650</td>\n",
       "      <td>-2236</td>\n",
       "      <td>-77.5</td>\n",
       "      <td>5530941</td>\n",
       "      <td>71</td>\n",
       "      <td>81</td>\n",
       "    </tr>\n",
       "    <tr>\n",
       "      <th>9</th>\n",
       "      <td>10</td>\n",
       "      <td>10</td>\n",
       "      <td>2</td>\n",
       "      <td>OLD</td>\n",
       "      <td>20231959</td>\n",
       "      <td>부기맨</td>\n",
       "      <td>2023-06-06</td>\n",
       "      <td>6790952</td>\n",
       "      <td>0.4</td>\n",
       "      <td>-11891098</td>\n",
       "      <td>-63.6</td>\n",
       "      <td>117333272</td>\n",
       "      <td>636</td>\n",
       "      <td>-1059</td>\n",
       "      <td>-62.5</td>\n",
       "      <td>10976</td>\n",
       "      <td>143</td>\n",
       "      <td>188</td>\n",
       "    </tr>\n",
       "  </tbody>\n",
       "</table>\n",
       "</div>"
      ],
      "text/plain": [
       "  rnum rank rankInten rankOldAndNew   movieCd                    movieNm  \\\n",
       "0    1    1         0           OLD  20226411                      범죄도시3   \n",
       "1    2    2         0           OLD  20232025             트랜스포머: 비스트의 서막   \n",
       "2    3    3         1           OLD  20231496      가디언즈 오브 갤럭시: Volume 3   \n",
       "3    4    4         2           OLD  20231592          분노의 질주: 라이드 오어 다이   \n",
       "4    5    5         0           OLD  20231839                       인어공주   \n",
       "5    6    6         0           NEW  20228930                       엘리멘탈   \n",
       "6    7    7         1           OLD  20231677                  남은 인생 10년   \n",
       "7    8    8        -5           OLD  20090860  포켓 몬스터 DP: 아르세우스 초극의 시공으로   \n",
       "8    9    9         1           OLD  20226270                   스즈메의 문단속   \n",
       "9   10   10         2           OLD  20231959                        부기맨   \n",
       "\n",
       "       openDt    salesAmt salesShare   salesInten salesChange     salesAcc  \\\n",
       "0  2023-05-31  1392012445       75.1  -3510102289       -71.6  78458234530   \n",
       "1  2023-06-06   235556736       12.7   -912725656       -79.5   6059604280   \n",
       "2  2023-05-03    61484093        3.3   -106336544       -63.4  43865066348   \n",
       "3  2023-05-17    26217421        1.4    -32899148       -55.7  18367800828   \n",
       "4  2023-05-24    17155049        0.9    -95739606       -84.8   6520792827   \n",
       "5  2023-06-14    14447000        0.8     14447000         100     33584000   \n",
       "6  2023-05-24    14439000        0.8    -27119900       -65.3   1246735100   \n",
       "7  2009-12-24    11110526        0.6   -228302510       -95.4   4244575264   \n",
       "8  2023-03-08     6703009        0.4    -22418824         -77  56714029997   \n",
       "9  2023-06-06     6790952        0.4    -11891098       -63.6    117333272   \n",
       "\n",
       "  audiCnt audiInten audiChange  audiAcc scrnCnt showCnt  \n",
       "0  143291   -338156      -70.2  7926132    1968   10871  \n",
       "1   24004    -87122      -78.4   593485     973    3843  \n",
       "2    6106     -9717      -61.4  4161310     423     699  \n",
       "3    2672     -3103      -53.7  1762653     274     382  \n",
       "4    1675     -9324      -84.8   633118     179     230  \n",
       "5    1541      1541        100     3654       6       6  \n",
       "6    1353     -2415      -64.1   115326      88     158  \n",
       "7    1236    -24153      -95.1   554834     214     242  \n",
       "8     650     -2236      -77.5  5530941      71      81  \n",
       "9     636     -1059      -62.5    10976     143     188  "
      ]
     },
     "execution_count": 36,
     "metadata": {},
     "output_type": "execute_result"
    }
   ],
   "source": [
    "json_normalize(movie_info['boxOfficeResult']['dailyBoxOfficeList'])"
   ]
  },
  {
   "cell_type": "markdown",
   "metadata": {
    "id": "8zxi6fPypmlk"
   },
   "source": [
    "# 네이버API 를 이용해 Papago 번역서비스 사용하기"
   ]
  },
  {
   "cell_type": "code",
   "execution_count": null,
   "metadata": {
    "id": "brluEEK4mp9k"
   },
   "outputs": [],
   "source": [
    "# 네이버 로그인 개발자 페이지 -> 키발급 -> papapgo 서비스\n",
    "# https://developers.naver.com/docs/papago/papago-nmt-example-code.md#python\n",
    "# https://developers.naver.com/"
   ]
  },
  {
   "cell_type": "code",
   "execution_count": 38,
   "metadata": {
    "id": "CbuJA9Iapmll",
    "tags": []
   },
   "outputs": [
    {
     "name": "stdout",
     "output_type": "stream",
     "text": [
      "{\"message\":{\"result\":{\"srcLangType\":\"ko\",\"tarLangType\":\"en\",\"translatedText\":\"Please take a rest\",\"engineType\":\"N2MT\"},\"@type\":\"response\",\"@service\":\"naverservice.nmt.proxy\",\"@version\":\"1.0.0\"}}\n"
     ]
    }
   ],
   "source": [
    "import os\n",
    "import sys\n",
    "import urllib.request\n",
    "client_id = \"a6k3Xyt6F8nfQMrtR3IA\" # 개발자센터에서 발급받은 Client ID 값\n",
    "client_secret = \"NDXTpBgsIo\" # 개발자센터에서 발급받은 Client Secret 값\n",
    "encText = urllib.parse.quote(\"제발 쉬어주세요 \")\n",
    "data = \"source=ko&target=en&text=\" + encText\n",
    "url = \"https://openapi.naver.com/v1/papago/n2mt\"\n",
    "request = urllib.request.Request(url)\n",
    "request.add_header(\"X-Naver-Client-Id\",client_id)\n",
    "request.add_header(\"X-Naver-Client-Secret\",client_secret)\n",
    "response = urllib.request.urlopen(request, data=data.encode(\"utf-8\"))\n",
    "rescode = response.getcode()\n",
    "if(rescode==200):\n",
    "    response_body = response.read()\n",
    "    print(response_body.decode('utf-8'))\n",
    "else:\n",
    "    print(\"Error Code:\" + rescode)"
   ]
  },
  {
   "cell_type": "code",
   "execution_count": 51,
   "metadata": {
    "tags": []
   },
   "outputs": [
    {
     "data": {
      "text/plain": [
       "'Please take a rest'"
      ]
     },
     "execution_count": 51,
     "metadata": {},
     "output_type": "execute_result"
    }
   ],
   "source": [
    "json.loads(response_body)[\"message\"][\"result\"][\"translatedText\"]"
   ]
  },
  {
   "cell_type": "code",
   "execution_count": null,
   "metadata": {},
   "outputs": [],
   "source": [
    "# 자신만의 크롤러를 만들어 보세요.\n",
    "# 2~3 명이 조를 이루어서 만들어 보세요 자유주제\n"
   ]
  }
 ],
 "metadata": {
  "colab": {
   "provenance": []
  },
  "kernelspec": {
   "display_name": "Python 3 (ipykernel)",
   "language": "python",
   "name": "python3"
  },
  "language_info": {
   "codemirror_mode": {
    "name": "ipython",
    "version": 3
   },
   "file_extension": ".py",
   "mimetype": "text/x-python",
   "name": "python",
   "nbconvert_exporter": "python",
   "pygments_lexer": "ipython3",
   "version": "3.10.11"
  }
 },
 "nbformat": 4,
 "nbformat_minor": 4
}
