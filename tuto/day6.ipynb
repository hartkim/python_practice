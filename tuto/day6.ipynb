{
  "cells": [
    {
      "cell_type": "markdown",
      "metadata": {
        "id": "Ad3KniW7ercY"
      },
      "source": [
        "```\n",
        "과목: 수학\n",
        "점수: 20\n",
        "추가 하실 건가요?\n",
        "    yes or no : yes\n",
        "과목: 국어\n",
        "점수: 50\n",
        "추가 하실 건가요?\n",
        "    yes or no : no\n",
        "수학 : 20 \n",
        "국어 : 50 \n",
        "평균 : 35\n",
        "```"
      ]
    },
    {
      "cell_type": "code",
      "execution_count": null,
      "metadata": {
        "id": "N1uTkPDeercg"
      },
      "outputs": [],
      "source": [
        "# type hint\n",
        "def input_subject(subject_list:list) -> None:\n",
        "    data = input(\"과목 : \")\n",
        "    subject_list.append(data)\n",
        "\n",
        "def input_score(score_list:list) -> None:\n",
        "    data = int(input(\"점수 : \"))\n",
        "    score_list.append(data)\n",
        "\n",
        "def average(score_list:list) -> float:\n",
        "    acc = 0\n",
        "    for score in score_list:\n",
        "        acc += score\n",
        "    average = acc/len(score_list)\n",
        "    # round 함수를 사용하면 반올림 처리 가능 \n",
        "    return average\n",
        "\n",
        "\n",
        "def main():\n",
        "    score_list = []\n",
        "    subject_list = []\n",
        "    while True:\n",
        "        input_subject(subject_list)\n",
        "        input_score(score_list)\n",
        "        answer = input(\"\"\"\n",
        "        과목을 추가 하실 건가요? \n",
        "        Yes or No : \n",
        "        \"\"\")\n",
        "        if answer.upper() == \"YES\":\n",
        "            continue\n",
        "        else:\n",
        "            for sub,sco in zip(subject_list, score_list):\n",
        "                print(f\"과목 : {sub}\")\n",
        "                print(f\"점수 : {sco}\")\n",
        "            aver = average(score_list)\n",
        "            print(f\"평균 : {aver}\")\n",
        "            break"
      ]
    },
    {
      "cell_type": "code",
      "execution_count": null,
      "metadata": {
        "id": "Lk0rdwtoercj",
        "outputId": "064e12df-9bbc-484f-fe02-bce5cb0c8c1d"
      },
      "outputs": [
        {
          "name": "stdout",
          "output_type": "stream",
          "text": [
            "과목 : 종교\n",
            "점수 : 0\n",
            "과목 : 수학\n",
            "점수 : 50\n",
            "평균 : 25.0\n"
          ]
        }
      ],
      "source": [
        "main()"
      ]
    },
    {
      "cell_type": "markdown",
      "metadata": {
        "id": "cuDrZGVNerck"
      },
      "source": [
        "```\n",
        "gcd(15, 12) -> 3\n",
        "\n",
        "15          12 gcd(15, 12)\n",
        "(15-12)=3   12 gcd(3, 12)\n",
        "12          3  gcd(12, 3)\n",
        "12-12=0     3  gcd(0, 3)\n",
        "\n",
        "16          21 gcd(16,21)\n",
        "21          16 gcd(21,16)\n",
        "21-16=5     16 gcd(5,16)\n",
        "16          5  gcd(16,5)\n",
        "16-15=1     5  gcd(1, 5)\n",
        "5           1  gcd(5, 1)\n",
        "5-5=0       1  gcd(0, 1)\n",
        "\n",
        "gcd(m,n)\n",
        "경우 1. m < n\n",
        "    - m과 n의 위치를 바꿔 준다\n",
        "경우 2. m >= n 인경우\n",
        "    - m에서 n을 나눠 나머지만 갖고 온다.\n",
        "    - 탈출조건) m에서 n을 나눠 나머지가 0이면 종료  n을 반환\n",
        "```"
      ]
    },
    {
      "cell_type": "code",
      "execution_count": null,
      "metadata": {
        "id": "2r-x0lYvercl"
      },
      "outputs": [],
      "source": [
        "def gcd(m:int, n:int) -> int:\n",
        "    if m < n:\n",
        "        m, n = n, m\n",
        "    if m % n == 0:\n",
        "        return n\n",
        "    else:\n",
        "        return gcd(n, m%n)\n",
        "        # return gcd(m%n, n)"
      ]
    },
    {
      "cell_type": "code",
      "execution_count": null,
      "metadata": {
        "id": "dXODGjIFercm"
      },
      "outputs": [],
      "source": [
        "# 자리 교체 \n",
        "m = 2\n",
        "n = 5\n",
        "\n",
        "# 방법1\n",
        "m, n = n, m \n",
        "\n",
        "# 방법2\n",
        "tmp = n\n",
        "n = m\n",
        "m = tmp"
      ]
    },
    {
      "cell_type": "code",
      "execution_count": null,
      "metadata": {
        "id": "XOKx0dU2ercm",
        "outputId": "d2df272b-be89-4754-a939-625f916f65ce"
      },
      "outputs": [
        {
          "data": {
            "text/plain": [
              "3"
            ]
          },
          "execution_count": 17,
          "metadata": {},
          "output_type": "execute_result"
        }
      ],
      "source": [
        "gcd(12, 15)"
      ]
    },
    {
      "cell_type": "code",
      "execution_count": null,
      "metadata": {
        "id": "t-SqdCyJercn",
        "outputId": "52d30975-210f-4cf3-b0ad-34f0b30e643e"
      },
      "outputs": [
        {
          "data": {
            "text/plain": [
              "1"
            ]
          },
          "execution_count": 18,
          "metadata": {},
          "output_type": "execute_result"
        }
      ],
      "source": [
        "gcd(21, 16)"
      ]
    },
    {
      "cell_type": "code",
      "execution_count": null,
      "metadata": {
        "id": "Sxbdi4oWerco"
      },
      "outputs": [],
      "source": [
        "# 피보나치 수열\n",
        "# 1 , 1 , 2, 3, 5, 8, 13, 21, ...\n",
        "def fibonacci(n:int) -> int:\n",
        "    if n == 1:\n",
        "        return 1\n",
        "    elif n == 2:\n",
        "        return 1\n",
        "    else:\n",
        "        return fibonacci(n-1) + fibonacci(n-2)"
      ]
    },
    {
      "cell_type": "code",
      "execution_count": null,
      "metadata": {
        "id": "vHR4QlPderco",
        "outputId": "99b35dd7-57f6-4d28-dd74-7f9b36176015"
      },
      "outputs": [
        {
          "data": {
            "text/plain": [
              "89"
            ]
          },
          "execution_count": 31,
          "metadata": {},
          "output_type": "execute_result"
        }
      ],
      "source": [
        "fibonacci(11)"
      ]
    },
    {
      "cell_type": "code",
      "execution_count": null,
      "metadata": {
        "id": "YKkZGtEbercp"
      },
      "outputs": [],
      "source": [
        "counter = 0\n",
        "def fibonacci(n:int) -> int:\n",
        "    global counter\n",
        "    counter += 1\n",
        "    print(f\"{counter} 번째 연산입니다.\")\n",
        "    print(f\"fibo {n}을 구하는중\")\n",
        "    print(\"=\"*10)\n",
        "    if n == 1:\n",
        "        return 1\n",
        "    elif n == 2:\n",
        "        return 1\n",
        "    else:\n",
        "        return fibonacci(n-1) + fibonacci(n-2)"
      ]
    },
    {
      "cell_type": "code",
      "execution_count": null,
      "metadata": {
        "id": "AidD-eXUercq"
      },
      "outputs": [],
      "source": [
        "# fibonacci(6)"
      ]
    },
    {
      "cell_type": "code",
      "execution_count": null,
      "metadata": {
        "id": "icu7gquXercq"
      },
      "outputs": [],
      "source": [
        "# 메모화\n",
        "# 동적프로그래밍 \n",
        "# 재귀함수의 연산결과를 딕셔너리에 저장\n",
        "# 1. 딕셔너리 생성(메모 변수 생성)\n",
        "# 2. 함수 선언\n",
        "# 3. 메모에 값이 저장되어 있는지 확인 -> 반환\n",
        "# 4. 없으면 값을 구한다. -> 딕셔너리에 추가 \n",
        "\n",
        "fibo_dict = {1:1, 2:1}\n",
        "def fibo_memo(n:int) -> int:\n",
        "    # 메모 되어 있으면 메모값 리턴\n",
        "    if n in fibo_dict:\n",
        "        return fibo_dict[n]\n",
        "    else:\n",
        "        output = fibo_memo(n-1) + fibo_memo(n-2)\n",
        "        fibo_dict[n] = output\n",
        "        print(fibo_dict)\n",
        "        return output"
      ]
    },
    {
      "cell_type": "markdown",
      "metadata": {
        "id": "LPl-XpXSercr"
      },
      "source": []
    },
    {
      "cell_type": "code",
      "execution_count": null,
      "metadata": {
        "id": "osCfxcDCercr",
        "outputId": "fcffa28b-fed9-4951-82f9-e6766ae16726"
      },
      "outputs": [
        {
          "name": "stdout",
          "output_type": "stream",
          "text": [
            "{1: 1, 2: 1, 3: 2}\n",
            "{1: 1, 2: 1, 3: 2, 4: 3}\n",
            "{1: 1, 2: 1, 3: 2, 4: 3, 5: 5}\n",
            "{1: 1, 2: 1, 3: 2, 4: 3, 5: 5, 6: 8}\n",
            "{1: 1, 2: 1, 3: 2, 4: 3, 5: 5, 6: 8, 7: 13}\n",
            "{1: 1, 2: 1, 3: 2, 4: 3, 5: 5, 6: 8, 7: 13, 8: 21}\n",
            "{1: 1, 2: 1, 3: 2, 4: 3, 5: 5, 6: 8, 7: 13, 8: 21, 9: 34}\n",
            "{1: 1, 2: 1, 3: 2, 4: 3, 5: 5, 6: 8, 7: 13, 8: 21, 9: 34, 10: 55}\n"
          ]
        },
        {
          "data": {
            "text/plain": [
              "55"
            ]
          },
          "execution_count": 50,
          "metadata": {},
          "output_type": "execute_result"
        }
      ],
      "source": [
        "fibo_memo(10)"
      ]
    },
    {
      "cell_type": "code",
      "execution_count": null,
      "metadata": {
        "id": "NOpEYSNQercs"
      },
      "outputs": [],
      "source": [
        "# class\n",
        "# 파이썬이 기본으로 제공하는 자료형, 불리언, 리스트, 사전, 집합 ..."
      ]
    },
    {
      "cell_type": "code",
      "execution_count": null,
      "metadata": {
        "id": "Xc2BXWsZercs",
        "outputId": "ae0cff4f-59ba-4f0e-eff3-f2cd02531033"
      },
      "outputs": [
        {
          "data": {
            "text/plain": [
              "str"
            ]
          },
          "execution_count": 53,
          "metadata": {},
          "output_type": "execute_result"
        }
      ],
      "source": [
        "# Type\n",
        "\n",
        "type(\"hello world\") # 문자열 유형"
      ]
    },
    {
      "cell_type": "code",
      "execution_count": null,
      "metadata": {
        "id": "vihZ425Berct",
        "outputId": "f9e800dc-bcb7-4951-8290-7f2a9596edff"
      },
      "outputs": [
        {
          "data": {
            "text/plain": [
              "int"
            ]
          },
          "execution_count": 54,
          "metadata": {},
          "output_type": "execute_result"
        }
      ],
      "source": [
        "type(10)"
      ]
    },
    {
      "cell_type": "code",
      "execution_count": null,
      "metadata": {
        "id": "G0sBYeSSerct"
      },
      "outputs": [],
      "source": [
        "list_1 = [\"오민엽\", \"이성현\"]"
      ]
    },
    {
      "cell_type": "code",
      "execution_count": null,
      "metadata": {
        "id": "SvnTiVR3ercv"
      },
      "outputs": [],
      "source": [
        "list_1.append(\"박상민\")"
      ]
    },
    {
      "cell_type": "code",
      "execution_count": null,
      "metadata": {
        "id": "uPLxkGk3ercw",
        "outputId": "c464a757-4d20-4435-db3e-96c001789ad6"
      },
      "outputs": [
        {
          "data": {
            "text/plain": [
              "['오민엽', '이성현', '박상민']"
            ]
          },
          "execution_count": 59,
          "metadata": {},
          "output_type": "execute_result"
        }
      ],
      "source": [
        "list_1"
      ]
    },
    {
      "cell_type": "markdown",
      "metadata": {
        "id": "XWMZs36kercw"
      },
      "source": [
        "- 파이썬은 객체(object)라는 단위로 메모리 위의 데이터를 관리한다. 일단 메모리 위에 올라가면 객체다. \n",
        "- 객체 : value 와 type, id\n",
        "    - value (값) : 메모리에 올라간 값\n",
        "    - type (타입) : class 를 나타냄\n",
        "    - id(정체성) : 같은 type이지만 다른 객체일때 구분되는 고유번호"
      ]
    },
    {
      "cell_type": "code",
      "execution_count": null,
      "metadata": {
        "id": "H_QeirMlercx"
      },
      "outputs": [],
      "source": [
        "list_1 = [\"오민엽\", \"이성현\"] # 객체를 만들어 변수에 할당"
      ]
    },
    {
      "cell_type": "code",
      "execution_count": null,
      "metadata": {
        "id": "IeCh5T-7ercx",
        "outputId": "75871689-9569-431f-c1ad-bf8698428321"
      },
      "outputs": [
        {
          "data": {
            "text/plain": [
              "['오민엽', '이성현']"
            ]
          },
          "execution_count": 62,
          "metadata": {},
          "output_type": "execute_result"
        }
      ],
      "source": [
        "list_1 # value"
      ]
    },
    {
      "cell_type": "code",
      "execution_count": null,
      "metadata": {
        "id": "m8J_lqaKercx",
        "outputId": "1eb835f9-5a23-48c6-dac3-6eaa13588cc1"
      },
      "outputs": [
        {
          "data": {
            "text/plain": [
              "list"
            ]
          },
          "execution_count": 63,
          "metadata": {},
          "output_type": "execute_result"
        }
      ],
      "source": [
        "type(list_1)"
      ]
    },
    {
      "cell_type": "code",
      "execution_count": null,
      "metadata": {
        "id": "NBDrvBk5ercy",
        "outputId": "94ca7bc2-0fa4-43bb-f438-5ce927bd9b09"
      },
      "outputs": [
        {
          "data": {
            "text/plain": [
              "140343630305920"
            ]
          },
          "execution_count": 64,
          "metadata": {},
          "output_type": "execute_result"
        }
      ],
      "source": [
        "id(list_1)"
      ]
    },
    {
      "cell_type": "code",
      "execution_count": null,
      "metadata": {
        "id": "eBwP09qUercz"
      },
      "outputs": [],
      "source": [
        "list_2 = [\"오민엽\", \"이성현\"]"
      ]
    },
    {
      "cell_type": "code",
      "execution_count": null,
      "metadata": {
        "id": "x_fjW8DIercz",
        "outputId": "e269a976-4490-46b5-a1a3-9ebc9173d030"
      },
      "outputs": [
        {
          "data": {
            "text/plain": [
              "140343634215104"
            ]
          },
          "execution_count": 66,
          "metadata": {},
          "output_type": "execute_result"
        }
      ],
      "source": [
        "id(list_2)"
      ]
    },
    {
      "cell_type": "markdown",
      "metadata": {
        "id": "pV1IMmxQercz"
      },
      "source": [
        "- 인스턴스 \n",
        "    - 객체가 어떤 class에 속할때, 그 객체를 그 클래스의 instance 라고 부른다.\n",
        "    - instance는 class에 의해 생성된 object (상대적인 개념)\n"
      ]
    },
    {
      "cell_type": "markdown",
      "metadata": {
        "id": "Y74NWLZWercz"
      },
      "source": [
        "# class 예제\n",
        "- 명함 만들기"
      ]
    },
    {
      "cell_type": "code",
      "execution_count": null,
      "metadata": {
        "id": "5zsCnjaHercz"
      },
      "outputs": [],
      "source": [
        "def print_business_card(name, email, addr):\n",
        "    print(\"-\"*10)\n",
        "    print(f\"Name : {name}\")\n",
        "    print(f\"Email : {email}\")\n",
        "    print(f\"Addr : {addr}\")\n",
        "    print(\"-\"*10)"
      ]
    },
    {
      "cell_type": "code",
      "execution_count": null,
      "metadata": {
        "id": "qxX9aDOIerc0"
      },
      "outputs": [],
      "source": [
        "myoh_info = {\"name\":\"오민엽\", \"email\":\"myoh0623@gmail.com\", \"addr\":\"서울시 중구\"}"
      ]
    },
    {
      "cell_type": "code",
      "execution_count": null,
      "metadata": {
        "id": "DAmJUEoHerc0",
        "outputId": "867a63f9-e9b2-40e5-9dc7-32026cf21633"
      },
      "outputs": [
        {
          "name": "stdout",
          "output_type": "stream",
          "text": [
            "----------\n",
            "Name : 오민엽\n",
            "Email : myoh0623@gmail.com\n",
            "Addr : 서울시 중구\n",
            "----------\n"
          ]
        }
      ],
      "source": [
        "print_business_card(**myoh_info)"
      ]
    },
    {
      "cell_type": "code",
      "execution_count": null,
      "metadata": {
        "id": "Dhtq_gJZerc0"
      },
      "outputs": [],
      "source": [
        "name_1 = \"오민엽\"\n",
        "email_1 = \"myoh0623@gmail.com\"\n",
        "addr_1 = \"서울시 중구\""
      ]
    },
    {
      "cell_type": "code",
      "execution_count": null,
      "metadata": {
        "id": "jVbXum1Nerc0",
        "outputId": "9225c202-14dc-4054-d280-6bac4ff1aebf"
      },
      "outputs": [
        {
          "name": "stdout",
          "output_type": "stream",
          "text": [
            "----------\n",
            "Name : 오민엽\n",
            "Email : myoh0623@gmail.com\n",
            "Addr : 서울시 중구\n",
            "----------\n"
          ]
        }
      ],
      "source": [
        "print_business_card(name_1, email_1, addr_1)"
      ]
    },
    {
      "cell_type": "code",
      "execution_count": null,
      "metadata": {
        "id": "I639KXU0erc1"
      },
      "outputs": [],
      "source": [
        "name_2 = \"아이유\"\n",
        "email_2 = \"dlwlrma@gmail.com\"\n",
        "addr_2 = \"서울시 강남구\""
      ]
    },
    {
      "cell_type": "code",
      "execution_count": null,
      "metadata": {
        "id": "di8madagerc1",
        "outputId": "19fbf438-3295-47a9-9e63-1be48ff5ee9c"
      },
      "outputs": [
        {
          "name": "stdout",
          "output_type": "stream",
          "text": [
            "----------\n",
            "Name : 아이유\n",
            "Email : dlwlrma@gmail.com\n",
            "Addr : 서울시 강남구\n",
            "----------\n"
          ]
        }
      ],
      "source": [
        "print_business_card(name_2, email_2, addr_2)"
      ]
    },
    {
      "cell_type": "code",
      "execution_count": null,
      "metadata": {
        "id": "3ifW_ELTerc1"
      },
      "outputs": [],
      "source": [
        "name_list = [\"name1\", \"name2\", \"name3\", \"name4\", ...]\n",
        "email_list = [\"email1\", \"email2\", \"email3\", \"email4\", ...]\n",
        "addr_list = [\"addr1\", \"addr2\", \"addr3\", \"addr4\", ...]"
      ]
    },
    {
      "cell_type": "code",
      "execution_count": null,
      "metadata": {
        "id": "9qQpToTVerc1"
      },
      "outputs": [],
      "source": [
        "# 명함\n",
        "# 속성 : 이름,email, addr\n",
        "# 기능 : print() \n",
        "class BussinessCard:\n",
        "    pass"
      ]
    },
    {
      "cell_type": "code",
      "execution_count": null,
      "metadata": {
        "id": "qQPzgC89erdC"
      },
      "outputs": [],
      "source": [
        "member_1 = BussinessCard()"
      ]
    },
    {
      "cell_type": "code",
      "execution_count": null,
      "metadata": {
        "id": "A7vUjoy7erdC"
      },
      "outputs": [],
      "source": [
        "#class 에 메서드를 추가 해서 정보를 입력해보자\n",
        "# self : 인스턴스 자신을 가리킨다. class 작성시에 우선적으로 self 라고 지정해 놓는다. "
      ]
    },
    {
      "cell_type": "code",
      "execution_count": null,
      "metadata": {
        "id": "m8AgJeFaerdD"
      },
      "outputs": [],
      "source": [
        "class BussinessCard:\n",
        "    def set_info(self, name, email, addr):\n",
        "        self.name = name\n",
        "        self.email = email\n",
        "        self.addr = addr"
      ]
    },
    {
      "cell_type": "code",
      "execution_count": null,
      "metadata": {
        "id": "KmLf2EPVerdD"
      },
      "outputs": [],
      "source": [
        "member_2 = BussinessCard()"
      ]
    },
    {
      "cell_type": "code",
      "execution_count": null,
      "metadata": {
        "id": "92KcZEicerdD",
        "outputId": "72514317-95df-435b-9634-83f25306799a"
      },
      "outputs": [
        {
          "ename": "AttributeError",
          "evalue": "'BussinessCard' object has no attribute 'name'",
          "output_type": "error",
          "traceback": [
            "\u001b[0;31m---------------------------------------------------------------------------\u001b[0m",
            "\u001b[0;31mAttributeError\u001b[0m                            Traceback (most recent call last)",
            "Cell \u001b[0;32mIn[84], line 1\u001b[0m\n\u001b[0;32m----> 1\u001b[0m member_2\u001b[39m.\u001b[39;49mname\n",
            "\u001b[0;31mAttributeError\u001b[0m: 'BussinessCard' object has no attribute 'name'"
          ]
        }
      ],
      "source": [
        "member_2.name"
      ]
    },
    {
      "cell_type": "code",
      "execution_count": null,
      "metadata": {
        "id": "cYk6WnJeerdE",
        "outputId": "e99633e8-b864-492f-cd66-d8f30554e866"
      },
      "outputs": [
        {
          "ename": "AttributeError",
          "evalue": "'BussinessCard' object has no attribute 'email'",
          "output_type": "error",
          "traceback": [
            "\u001b[0;31m---------------------------------------------------------------------------\u001b[0m",
            "\u001b[0;31mAttributeError\u001b[0m                            Traceback (most recent call last)",
            "Cell \u001b[0;32mIn[85], line 1\u001b[0m\n\u001b[0;32m----> 1\u001b[0m member_2\u001b[39m.\u001b[39;49memail\n",
            "\u001b[0;31mAttributeError\u001b[0m: 'BussinessCard' object has no attribute 'email'"
          ]
        }
      ],
      "source": [
        "member_2.email"
      ]
    },
    {
      "cell_type": "code",
      "execution_count": null,
      "metadata": {
        "id": "u5NTGJP4erdE",
        "outputId": "9dfa96c0-1ba3-4cd2-ab74-3660db4d9999"
      },
      "outputs": [
        {
          "ename": "AttributeError",
          "evalue": "'BussinessCard' object has no attribute 'addr'",
          "output_type": "error",
          "traceback": [
            "\u001b[0;31m---------------------------------------------------------------------------\u001b[0m",
            "\u001b[0;31mAttributeError\u001b[0m                            Traceback (most recent call last)",
            "Cell \u001b[0;32mIn[86], line 1\u001b[0m\n\u001b[0;32m----> 1\u001b[0m member_2\u001b[39m.\u001b[39;49maddr\n",
            "\u001b[0;31mAttributeError\u001b[0m: 'BussinessCard' object has no attribute 'addr'"
          ]
        }
      ],
      "source": [
        "member_2.addr"
      ]
    },
    {
      "cell_type": "code",
      "execution_count": null,
      "metadata": {
        "id": "SNWj5_0cerdE"
      },
      "outputs": [],
      "source": [
        "member_2.set_info(\"오민엽\", \"myoh0623@gmail.com\", \"서울시 중구\")"
      ]
    },
    {
      "cell_type": "code",
      "execution_count": null,
      "metadata": {
        "id": "3n67dxeWerdE",
        "outputId": "2038b1f7-f50a-410a-98c4-def834baf658"
      },
      "outputs": [
        {
          "data": {
            "text/plain": [
              "'오민엽'"
            ]
          },
          "execution_count": 88,
          "metadata": {},
          "output_type": "execute_result"
        }
      ],
      "source": [
        "member_2.name"
      ]
    },
    {
      "cell_type": "code",
      "execution_count": null,
      "metadata": {
        "id": "UK5RnuUlerdF",
        "outputId": "31ba02e0-7240-4b9a-dbdb-a55f547b335c"
      },
      "outputs": [
        {
          "data": {
            "text/plain": [
              "'myoh0623@gmail.com'"
            ]
          },
          "execution_count": 89,
          "metadata": {},
          "output_type": "execute_result"
        }
      ],
      "source": [
        "member_2.email"
      ]
    },
    {
      "cell_type": "code",
      "execution_count": null,
      "metadata": {
        "id": "0bs4aya3erdF",
        "outputId": "4681344c-3a4a-4413-cefb-e8d4e9a0cf87"
      },
      "outputs": [
        {
          "data": {
            "text/plain": [
              "'서울시 중구'"
            ]
          },
          "execution_count": 90,
          "metadata": {},
          "output_type": "execute_result"
        }
      ],
      "source": [
        "member_2.addr"
      ]
    },
    {
      "cell_type": "code",
      "execution_count": null,
      "metadata": {
        "id": "ZsRCd-wIerdF"
      },
      "outputs": [],
      "source": [
        "member_3 = BussinessCard()"
      ]
    },
    {
      "cell_type": "code",
      "execution_count": null,
      "metadata": {
        "id": "tRjFe-YherdF"
      },
      "outputs": [],
      "source": [
        "member_3.set_info(\"아이유\", \"dlwlrma@gmail.com\", \"서울시 강남구\")"
      ]
    },
    {
      "cell_type": "code",
      "execution_count": null,
      "metadata": {
        "id": "LbAEuaf8erdG"
      },
      "outputs": [],
      "source": [
        "class BussinessCard:\n",
        "    def set_info(self, name, email, addr):\n",
        "        self.name = name\n",
        "        self.email = email\n",
        "        self.addr = addr\n",
        "    def print_business_card(self, num):\n",
        "        print(\"-\"*10)\n",
        "        print(f\"Name : {self.name}\")\n",
        "        print(f\"Email : {self.email}\")\n",
        "        print(f\"Addr : {self.addr}\")\n",
        "        print(f\"Number : {num}\")\n",
        "        print(\"-\"*10)"
      ]
    },
    {
      "cell_type": "code",
      "execution_count": null,
      "metadata": {
        "id": "iCEr6eXKerdJ"
      },
      "outputs": [],
      "source": [
        "member_4 = BussinessCard()"
      ]
    },
    {
      "cell_type": "code",
      "execution_count": null,
      "metadata": {
        "id": "BxuOGUy5erdK"
      },
      "outputs": [],
      "source": [
        "member_4.set_info(\"아이유\", \"dlwlrma@gmail.com\", \"서울시 강남구\")"
      ]
    },
    {
      "cell_type": "code",
      "execution_count": null,
      "metadata": {
        "id": "7BvBED4jerdK",
        "outputId": "56d74bbe-e5a5-47e2-ba0a-7b8cb0097b2b"
      },
      "outputs": [
        {
          "name": "stdout",
          "output_type": "stream",
          "text": [
            "----------\n",
            "Name : 아이유\n",
            "Email : dlwlrma@gmail.com\n",
            "Addr : 서울시 강남구\n",
            "Number : 010-0000-0000\n",
            "----------\n"
          ]
        }
      ],
      "source": [
        "member_4.print_business_card(\"010-0000-0000\")"
      ]
    },
    {
      "cell_type": "code",
      "execution_count": null,
      "metadata": {
        "id": "9UkfydfcerdK",
        "outputId": "3048c016-40f2-448a-bae2-4c6c05b71af7"
      },
      "outputs": [
        {
          "ename": "AttributeError",
          "evalue": "'BussinessCard' object has no attribute 'num'",
          "output_type": "error",
          "traceback": [
            "\u001b[0;31m---------------------------------------------------------------------------\u001b[0m",
            "\u001b[0;31mAttributeError\u001b[0m                            Traceback (most recent call last)",
            "Cell \u001b[0;32mIn[107], line 1\u001b[0m\n\u001b[0;32m----> 1\u001b[0m member_4\u001b[39m.\u001b[39;49mnum\n",
            "\u001b[0;31mAttributeError\u001b[0m: 'BussinessCard' object has no attribute 'num'"
          ]
        }
      ],
      "source": [
        "member_4.num"
      ]
    },
    {
      "cell_type": "code",
      "execution_count": null,
      "metadata": {
        "id": "dnBp27vRerdL",
        "outputId": "6e0a019e-d43d-4895-ccfa-50c6793b2060"
      },
      "outputs": [
        {
          "ename": "SyntaxError",
          "evalue": "illegal target for annotation (1544019950.py, line 2)",
          "output_type": "error",
          "traceback": [
            "\u001b[0;36m  Cell \u001b[0;32mIn[120], line 2\u001b[0;36m\u001b[0m\n\u001b[0;31m    - __init__ : 생성자는 인스턴스가 생성될때 초기화를 위해 자동으로 호출되는 초기화 method\u001b[0m\n\u001b[0m    ^\u001b[0m\n\u001b[0;31mSyntaxError\u001b[0m\u001b[0;31m:\u001b[0m illegal target for annotation\n"
          ]
        }
      ],
      "source": [
        "# 생성자, 소멸자\n",
        "    # - __init__ : 생성자는 인스턴스가 생성될때 초기화를 위해 자동으로 호출되는 초기화 method \n",
        "    # - __del__ : 소멸자는 인스턴스를 사용하고 메모리에서 제거될 떄 자동으로 호출되는 method"
      ]
    },
    {
      "cell_type": "code",
      "execution_count": null,
      "metadata": {
        "id": "AfXPVJJCerdL"
      },
      "outputs": [],
      "source": [
        "class BussinessCard:\n",
        "    def __init__(self, name:str, email:str, addr:str):\n",
        "        self.name = name\n",
        "        self.email = email\n",
        "        self.addr = addr\n",
        "        \n",
        "    def print_business_card(self, num):\n",
        "        print(\"-\"*10)\n",
        "        print(f\"Name : {self.name}\")\n",
        "        print(f\"Email : {self.email}\")\n",
        "        print(f\"Addr : {self.addr}\")\n",
        "        print(f\"Number : {num}\")\n",
        "        print(\"-\"*10)"
      ]
    },
    {
      "cell_type": "code",
      "execution_count": null,
      "metadata": {
        "id": "--azGz9verdL"
      },
      "outputs": [],
      "source": [
        "# 객체를 생성하는 순간에 __init__ method 가 동작하여 객체 정보를 입력 받는다. \n",
        "member_5 = BussinessCard(\"아이유\", \"dlwlrma@gmail.com\", \"서울시 강남구\")"
      ]
    },
    {
      "cell_type": "code",
      "execution_count": null,
      "metadata": {
        "id": "tnTvCRlgerdL",
        "outputId": "b9e859e5-611c-4793-c133-d8363ec331f3"
      },
      "outputs": [
        {
          "data": {
            "text/plain": [
              "'아이유'"
            ]
          },
          "execution_count": 116,
          "metadata": {},
          "output_type": "execute_result"
        }
      ],
      "source": [
        "member_5.name"
      ]
    },
    {
      "cell_type": "code",
      "execution_count": null,
      "metadata": {
        "id": "rR42AyiUerdM",
        "outputId": "34e244f6-4dc5-4c0f-905e-02cb82a1bf36"
      },
      "outputs": [
        {
          "data": {
            "text/plain": [
              "'dlwlrma@gmail.com'"
            ]
          },
          "execution_count": 117,
          "metadata": {},
          "output_type": "execute_result"
        }
      ],
      "source": [
        "member_5.email"
      ]
    },
    {
      "cell_type": "code",
      "execution_count": null,
      "metadata": {
        "id": "UEjkrycberdM",
        "outputId": "15e054f9-9e27-4ea4-deb1-88424e6c2c16"
      },
      "outputs": [
        {
          "data": {
            "text/plain": [
              "'서울시 강남구'"
            ]
          },
          "execution_count": 118,
          "metadata": {},
          "output_type": "execute_result"
        }
      ],
      "source": [
        "member_5.addr"
      ]
    },
    {
      "cell_type": "code",
      "execution_count": 79,
      "metadata": {
        "id": "NSqzQqxOerdM"
      },
      "outputs": [],
      "source": [
        "# class 를 이용해 학생의 성적 정보를 입력 받으세요\n",
        "# 국어 점수, 영어 점수, 과학 점수을 정보로 입력 받고 평균을 호출하면 평균을 출력하도록\n",
        "\n",
        "class Student:\n",
        "    # 학생의 성적 정보 저장\n",
        "    def __init__(self, name:str, korean:int, eng:int, sci:int):\n",
        "        self.name = name\n",
        "        self.korean = korean\n",
        "        self.eng = eng\n",
        "        self.sci = sci\n",
        "\n",
        "    # 학생의 성적을 더하여 평균을 내는 method\n",
        "    def get_aver(self) -> float:\n",
        "        self.sum = self.korean + self.eng + self.sci\n",
        "        self.aver = self.sum/3\n",
        "        return self.aver\n",
        "\n",
        "    # 학생의 국어 영어 과학 평균 순으로 점수가 호출 되도록 작성해 보세요 \n",
        "    # def to_string(self):\n",
        "    # def __str__(self):\n",
        "    def __repr__(self):\n",
        "        self.student_info = f\"{self.name}\\t{self.korean}\\t{self.eng}\\t{self.sci}\\t{self.get_aver()}\"\n",
        "        return self.student_info\n",
        "\n",
        "\n",
        "# 예) myoh = Student(\"오민엽\", 60, 50, 30)\n",
        "# > print(myoh.to_string())\n",
        "# \"오민엽\" 60 50 40 50 "
      ]
    },
    {
      "cell_type": "code",
      "execution_count": 82,
      "metadata": {},
      "outputs": [],
      "source": [
        "a = Student(\"기분\", 50,50,40)"
      ]
    },
    {
      "cell_type": "code",
      "execution_count": 83,
      "metadata": {},
      "outputs": [
        {
          "name": "stdout",
          "output_type": "stream",
          "text": [
            "기분\t50\t50\t40\t46.666666666666664\n"
          ]
        }
      ],
      "source": [
        "print(a)"
      ]
    },
    {
      "cell_type": "code",
      "execution_count": 84,
      "metadata": {},
      "outputs": [
        {
          "ename": "TypeError",
          "evalue": "Student.get_aver() takes 1 positional argument but 2 were given",
          "output_type": "error",
          "traceback": [
            "\u001b[0;31m---------------------------------------------------------------------------\u001b[0m",
            "\u001b[0;31mTypeError\u001b[0m                                 Traceback (most recent call last)",
            "Cell \u001b[0;32mIn[84], line 1\u001b[0m\n\u001b[0;32m----> 1\u001b[0m a\u001b[39m.\u001b[39;49mget_aver(\u001b[39m30\u001b[39;49m)\n",
            "\u001b[0;31mTypeError\u001b[0m: Student.get_aver() takes 1 positional argument but 2 were given"
          ]
        }
      ],
      "source": [
        "a.get_aver(30)"
      ]
    },
    {
      "cell_type": "code",
      "execution_count": null,
      "metadata": {},
      "outputs": [],
      "source": [
        "# def__str__(self): 해주면 .string 안쳐도 나오게 해준다. 대신 print해야함\n",
        "# def __repr__(self): 해주면 print 안써도 값이 나올수 있게 해준다"
      ]
    },
    {
      "cell_type": "code",
      "execution_count": 2,
      "metadata": {},
      "outputs": [],
      "source": [
        "# 갈루아 -> 20살 -> 갈루아군\n",
        "# a+b = a+b-2\n",
        "\n",
        "\n",
        "class AbeleGroup:\n",
        "    def __init__(self, number:int):\n",
        "        self.number = number \n",
        "\n",
        "    def __repr__(self):\n",
        "        return self.number\n",
        "    \n",
        "    def __add__(self, other: \"AbeleGroup\") -> int: #AbeleGroup을 없애는 것으로 정정을 한다.\n",
        "        result = self.number + other.number - 2\n",
        "        return result\n",
        "    "
      ]
    },
    {
      "cell_type": "code",
      "execution_count": 4,
      "metadata": {},
      "outputs": [],
      "source": [
        "a_10 = AbeleGroup(10)"
      ]
    },
    {
      "cell_type": "code",
      "execution_count": null,
      "metadata": {},
      "outputs": [],
      "source": [
        "a_3 = AbeleGroup(3)\n",
        "a_3 + a_10\n"
      ]
    },
    {
      "cell_type": "code",
      "execution_count": 46,
      "metadata": {},
      "outputs": [],
      "source": [
        "# 벡터\n",
        "# 다음과 같은 연산이 가능한 class를 만들어 보세요\n",
        "# v1 -> (a_1, b_1) Vec2D의 객체여야한다.\n",
        "# v2 -> (a_2, b_2) Vec2D의 객체여야한다.\n",
        "\n",
        "# v_1 + v_2 -> (a_1+a_2, b_1+b_2) Vec2D의 객체여야한다.\n",
        "# v_1 - v_2 -> (a_1-a_2, b_1-b_2) Vec2D의 객체여야한다.\n",
        "\n",
        "# class Vec:\n",
        "#     def Vec2D(self, first, second):\n",
        "#         self.first = first\n",
        "#         self.second = second\n",
        "#     def __add__(self):\n",
        "#         result = self.first + self.first\n",
        "#         return result\n",
        "\n",
        "class Vec2D:\n",
        "    def __init__(self, x: float, y: float): #x를 float으로 받는다~\n",
        "        self.x = x\n",
        "        self.y = y\n",
        "    \n",
        "    def __add__(self, other_vec: \"Vec2D\"):#other가 뭐지?\n",
        "        result_x = self.x + other_vec.x\n",
        "        result_y = self.y + other_vec.y\n",
        "        return Vec2D(result_x, result_y) #재할당??\n",
        "    \n",
        "    def __sub__(self, other_vec: \"Vec2D\"):\n",
        "        result_x = self.x - other_vec.x\n",
        "        result_y = self.y - other_vec.y\n",
        "        return Vec2D(result_x, result_y)\n",
        "\n",
        "\n",
        "    #곱하기는 벡터끼리 곱, or 벡터와 숫자와의 곱을 나타내야한다. 그리고 순서가 바꼈을때도 만들어준다.\n",
        "\n",
        "    def __mul__(self, other): \n",
        "        if isinstance(other, int) or isinstance(other, float): #isinstance(10,int)라면 10이 int냐고 물어보는 것\n",
        "            result_x = self.x * other\n",
        "            result_y = self.y * other\n",
        "            return Vec2D(result_x,result_y)\n",
        "        \n",
        "        elif isinstance(other, Vec2D): # 벡터끼리 곱\n",
        "            result_x = self.x * other.x\n",
        "            result_y = self.y * other.y\n",
        "            return Vec2D(result_x,result_y)\n",
        "        else:\n",
        "            raise TypeError(\"곱셈은 Vec2D 또는 숫자와 가능\")#오류를 발생시키는 것\n",
        "        \n",
        "    \n",
        "    def __rmul__(self, other): # rmul : 역으로 계산이 가능하게 해주는..\n",
        "        return self.__mul__(other)\n",
        "    \n",
        "    def __repr__(self) -> str:\n",
        "        return (f\"{self.x},{self.y}\")"
      ]
    },
    {
      "cell_type": "code",
      "execution_count": 49,
      "metadata": {},
      "outputs": [],
      "source": [
        "v_1 = Vec2D(1,2)\n",
        "v_2 = Vec2D(10,5)"
      ]
    },
    {
      "cell_type": "code",
      "execution_count": 50,
      "metadata": {},
      "outputs": [],
      "source": [
        "v_3 = v_1 + v_2"
      ]
    },
    {
      "cell_type": "code",
      "execution_count": 51,
      "metadata": {},
      "outputs": [
        {
          "data": {
            "text/plain": [
              "110,35"
            ]
          },
          "execution_count": 51,
          "metadata": {},
          "output_type": "execute_result"
        }
      ],
      "source": [
        "v_3 * v_2"
      ]
    },
    {
      "cell_type": "code",
      "execution_count": 52,
      "metadata": {},
      "outputs": [
        {
          "data": {
            "text/plain": [
              "60.5,38.5"
            ]
          },
          "execution_count": 52,
          "metadata": {},
          "output_type": "execute_result"
        }
      ],
      "source": [
        "v_3 * 5.5"
      ]
    },
    {
      "cell_type": "code",
      "execution_count": 53,
      "metadata": {},
      "outputs": [
        {
          "data": {
            "text/plain": [
              "60.5,38.5"
            ]
          },
          "execution_count": 53,
          "metadata": {},
          "output_type": "execute_result"
        }
      ],
      "source": [
        "5.5 * v_3 #rmul 덕분에 자리를 바꿔도 계산할 수 있음"
      ]
    },
    {
      "cell_type": "code",
      "execution_count": 54,
      "metadata": {},
      "outputs": [],
      "source": [
        "class Parent:\n",
        "    def speak_korea(self):\n",
        "        print(\"i can speak korean\")"
      ]
    },
    {
      "cell_type": "code",
      "execution_count": 55,
      "metadata": {},
      "outputs": [],
      "source": [
        "father_1 =Parent()"
      ]
    },
    {
      "cell_type": "code",
      "execution_count": 57,
      "metadata": {},
      "outputs": [
        {
          "name": "stdout",
          "output_type": "stream",
          "text": [
            "i can speak korean\n"
          ]
        }
      ],
      "source": [
        "father_1.speak_korea()"
      ]
    },
    {
      "cell_type": "code",
      "execution_count": 59,
      "metadata": {},
      "outputs": [],
      "source": [
        "class Child1(Parent): #상속이 됨\n",
        "    def speak_eng(self):\n",
        "        print(\"i can speak english\")\n"
      ]
    },
    {
      "cell_type": "code",
      "execution_count": 60,
      "metadata": {},
      "outputs": [],
      "source": [
        "Child_1 =Child1()"
      ]
    },
    {
      "cell_type": "code",
      "execution_count": 63,
      "metadata": {},
      "outputs": [
        {
          "name": "stdout",
          "output_type": "stream",
          "text": [
            "i can speak korean\n"
          ]
        }
      ],
      "source": [
        "Child_1.speak_korea()"
      ]
    },
    {
      "cell_type": "code",
      "execution_count": 64,
      "metadata": {},
      "outputs": [
        {
          "name": "stdout",
          "output_type": "stream",
          "text": [
            "i can speak english\n"
          ]
        }
      ],
      "source": [
        "Child_1.speak_eng()"
      ]
    },
    {
      "cell_type": "code",
      "execution_count": 65,
      "metadata": {},
      "outputs": [],
      "source": [
        "class Child2(Parent): #상속이 됨\n",
        "    def speak_china(self):\n",
        "        print(\"i can speak china\")"
      ]
    },
    {
      "cell_type": "code",
      "execution_count": 69,
      "metadata": {},
      "outputs": [],
      "source": [
        "Child_2 =Child2()"
      ]
    },
    {
      "cell_type": "code",
      "execution_count": 70,
      "metadata": {},
      "outputs": [
        {
          "name": "stdout",
          "output_type": "stream",
          "text": [
            "i can speak china\n"
          ]
        }
      ],
      "source": [
        "Child_2.speak_china()"
      ]
    },
    {
      "cell_type": "code",
      "execution_count": 73,
      "metadata": {},
      "outputs": [],
      "source": [
        "# 연산자 오버로딩\n",
        "class parent2():\n",
        "    def __init__(self,num):\n",
        "        self.num = num #할당\n",
        "    \n",
        "    def speak_eng(self):\n",
        "        print(\"i can speak english\")\n",
        "        "
      ]
    },
    {
      "cell_type": "code",
      "execution_count": 74,
      "metadata": {},
      "outputs": [],
      "source": [
        "# 연산자 오버로딩\n",
        "class child2(parent2):\n",
        "    \n",
        "    def speak_eng(self):\n",
        "        print(\"i can speak english\")\n",
        "\n",
        "    def speak_china(self):\n",
        "        print(\"i can speak china\")"
      ]
    },
    {
      "cell_type": "code",
      "execution_count": 75,
      "metadata": {},
      "outputs": [],
      "source": [
        "child_2 = child2"
      ]
    },
    {
      "cell_type": "code",
      "execution_count": 77,
      "metadata": {},
      "outputs": [
        {
          "ename": "TypeError",
          "evalue": "child2.speak_china() missing 1 required positional argument: 'self'",
          "output_type": "error",
          "traceback": [
            "\u001b[0;31m---------------------------------------------------------------------------\u001b[0m",
            "\u001b[0;31mTypeError\u001b[0m                                 Traceback (most recent call last)",
            "Cell \u001b[0;32mIn[77], line 1\u001b[0m\n\u001b[0;32m----> 1\u001b[0m child_2\u001b[39m.\u001b[39;49mspeak_china()\n",
            "\u001b[0;31mTypeError\u001b[0m: child2.speak_china() missing 1 required positional argument: 'self'"
          ]
        }
      ],
      "source": [
        "child_2.speak_china()"
      ]
    },
    {
      "cell_type": "code",
      "execution_count": null,
      "metadata": {},
      "outputs": [
        {
          "name": "stdout",
          "output_type": "stream",
          "text": [
            "(0, 'hi')\n",
            "(1, 'sj')\n",
            "(2, 'ks')\n"
          ]
        }
      ],
      "source": [
        "name = ['hi','sj','ks']\n",
        "\n",
        "for idx in enumerate(name):\n",
        "    print(idx)"
      ]
    },
    {
      "cell_type": "code",
      "execution_count": null,
      "metadata": {},
      "outputs": [
        {
          "name": "stdout",
          "output_type": "stream",
          "text": [
            "(0, 'hi')\n",
            "(1, 'sj')\n",
            "(2, 'ks')\n"
          ]
        }
      ],
      "source": [
        "name = ['hi','sj','ks']\n",
        "\n",
        "for idx in enumerate(name):\n",
        "    print(idx)"
      ]
    },
    {
      "cell_type": "code",
      "execution_count": null,
      "metadata": {},
      "outputs": [
        {
          "name": "stdout",
          "output_type": "stream",
          "text": [
            "korean\n",
            "English\n",
            "I'm Groot!\n"
          ]
        }
      ],
      "source": [
        "class Person(object):\n",
        "    def __init__(self,name):\n",
        "        self.name = name\n",
        "\n",
        "    def language(self):\n",
        "        pass # 클래스가 내부 동작은 필요 없고, 의미적으로 껍데기만 필요한 경우에 pass를 통해서 껍데기만 만들어 줄 수 있습니다.\n",
        "\n",
        "class Earthling(Person):\n",
        "    def language(self,language):\n",
        "        return language\n",
        "\n",
        "class Groot(Person):\n",
        "    def language(self,language):\n",
        "        return \"I'm Groot!\"\n",
        "\n",
        "name = ['Gachon','Dr.strange','Groot']\n",
        "country =['Korea','USA','Galaxy']\n",
        "language = ['korean','English','Groot']\n",
        "\n",
        "for idx, name in enumerate(name):\n",
        "    if country[idx].upper() != 'GALAXY':\n",
        "        person = Earthling(name)\n",
        "        print(person.language(language[idx]))\n",
        "    else:\n",
        "        groot = Groot(name)\n",
        "        print(groot.language(language[idx]))"
      ]
    },
    {
      "cell_type": "code",
      "execution_count": null,
      "metadata": {},
      "outputs": [],
      "source": [
        "class Person(object):\n",
        "    def __init__(self,name):\n",
        "        self.name = name\n",
        "\n",
        "    def language(self):\n",
        "        pass\n",
        "\n",
        "class Earthling(Person):\n",
        "    def language(self,language):\n",
        "        return language"
      ]
    },
    {
      "cell_type": "code",
      "execution_count": null,
      "metadata": {},
      "outputs": [],
      "source": [
        "a = Person(\"hi\")\n",
        "b = Earthling(\"bubu\")"
      ]
    },
    {
      "cell_type": "code",
      "execution_count": null,
      "metadata": {},
      "outputs": [
        {
          "name": "stdout",
          "output_type": "stream",
          "text": [
            "<bound method Earthling.language of <__main__.Earthling object at 0x7f21dc3df400>>\n"
          ]
        }
      ],
      "source": [
        "print(b.language)"
      ]
    }
  ],
  "metadata": {
    "colab": {
      "provenance": []
    },
    "kernelspec": {
      "display_name": "Python 3",
      "name": "python3"
    },
    "language_info": {
      "codemirror_mode": {
        "name": "ipython",
        "version": 3
      },
      "file_extension": ".py",
      "mimetype": "text/x-python",
      "name": "python",
      "nbconvert_exporter": "python",
      "pygments_lexer": "ipython3",
      "version": "3.10.11"
    }
  },
  "nbformat": 4,
  "nbformat_minor": 0
}
