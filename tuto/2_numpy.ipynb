{
  "cells": [
    {
      "cell_type": "code",
      "execution_count": 1,
      "metadata": {},
      "outputs": [],
      "source": [
        "import numpy as np"
      ]
    },
    {
      "cell_type": "markdown",
      "metadata": {
        "id": "u1OqdFCcOxjA"
      },
      "source": [
        "## 선형대수\n",
        "- 행렬의 곱셈, 분할, 행렬식에 관한 연산을 알아보자.\n"
      ]
    },
    {
      "cell_type": "code",
      "execution_count": null,
      "metadata": {
        "id": "f3WWHA6iOxjB"
      },
      "outputs": [],
      "source": [
        "x = np.array([[1,2,3],\n",
        "              [4,5,6]])"
      ]
    },
    {
      "cell_type": "code",
      "execution_count": null,
      "metadata": {
        "id": "MAadkzrrOxjB"
      },
      "outputs": [],
      "source": [
        "y = np.array([[6,20],\n",
        "             [7,21],\n",
        "             [8,22]])"
      ]
    },
    {
      "cell_type": "code",
      "execution_count": null,
      "metadata": {
        "id": "gaantV6POxjC",
        "outputId": "1d022b4b-e1af-44f6-c987-5cf84893182f"
      },
      "outputs": [
        {
          "data": {
            "text/plain": [
              "array([[ 44, 128],\n",
              "       [107, 317]])"
            ]
          },
          "execution_count": 136,
          "metadata": {},
          "output_type": "execute_result"
        }
      ],
      "source": [
        "np.dot(x,y) #행렬곱 "
      ]
    },
    {
      "cell_type": "code",
      "execution_count": null,
      "metadata": {
        "id": "3niVWTXGOxjC",
        "outputId": "3cc9710e-0310-4a1a-bb0f-cbd1f6fd83f7"
      },
      "outputs": [
        {
          "data": {
            "text/plain": [
              "array([1., 1., 1.])"
            ]
          },
          "execution_count": 137,
          "metadata": {},
          "output_type": "execute_result"
        }
      ],
      "source": [
        "np.ones(3)"
      ]
    },
    {
      "cell_type": "code",
      "execution_count": null,
      "metadata": {
        "id": "aBE1gqpZOxjC",
        "outputId": "5646d59b-22b8-4d14-90ef-2050e6e98d1e"
      },
      "outputs": [
        {
          "data": {
            "text/plain": [
              "array([ 6., 15.])"
            ]
          },
          "execution_count": 138,
          "metadata": {},
          "output_type": "execute_result"
        }
      ],
      "source": [
        "np.dot(x,np.ones(3))"
      ]
    },
    {
      "cell_type": "code",
      "execution_count": null,
      "metadata": {
        "id": "NmWei9TfOxjD"
      },
      "outputs": [],
      "source": [
        "z = np.array([[1],\n",
        "         [1],\n",
        "         [1]])"
      ]
    },
    {
      "cell_type": "code",
      "execution_count": null,
      "metadata": {
        "id": "xm6Eu9msOxjD",
        "outputId": "32f086ed-00a0-430d-9d9f-423c65b2aad9"
      },
      "outputs": [
        {
          "data": {
            "text/plain": [
              "(2, 1)"
            ]
          },
          "execution_count": 140,
          "metadata": {},
          "output_type": "execute_result"
        }
      ],
      "source": [
        "np.dot(x,z).shape"
      ]
    },
    {
      "cell_type": "code",
      "execution_count": null,
      "metadata": {
        "id": "GZC8hcZSOxjD",
        "outputId": "af340a16-c91a-4173-fadb-81c4fc6808ec"
      },
      "outputs": [
        {
          "data": {
            "text/plain": [
              "array([[ 6],\n",
              "       [15]])"
            ]
          },
          "execution_count": 141,
          "metadata": {},
          "output_type": "execute_result"
        }
      ],
      "source": [
        "x @ z"
      ]
    },
    {
      "cell_type": "code",
      "execution_count": null,
      "metadata": {
        "id": "MSDOXxIuOxjD",
        "outputId": "1fa1ffef-4a05-4851-b647-052d882c64e7"
      },
      "outputs": [
        {
          "data": {
            "text/plain": [
              "array([ 6., 15.])"
            ]
          },
          "execution_count": 142,
          "metadata": {},
          "output_type": "execute_result"
        }
      ],
      "source": [
        "x @ np.ones(3)"
      ]
    },
    {
      "cell_type": "markdown",
      "metadata": {
        "id": "ue0n9fmUOxjE"
      },
      "source": [
        "### linalg 모듈\n",
        "- 행렬의 분할과 역행렬, 행렬식과 같은 함수를 포함하고 있다.\n",
        "\n",
        "- diag : 정사각 행렬의 대각/비대각 원소를 1차원 배열로 반환하거나, 1차원 대각선 원소로 하고 나머지는 0으로 채운 단위행렬을 반환한다.\n",
        "- dot : 행렬 곱셈\n",
        "- trace : 행렬의 대각선 원소의 합을 계산 한다.\n",
        "- det : 행렬식을 계산한다.\n",
        "- eig : 정사각 행렬의 고윳값과 고유 벡터를 계산하다.\n",
        "- inv : 정사각 행렬의 역행렬을 계산한다.\n",
        "- qr : QR분해를 계산한다.\n",
        "- svd : 특잇값 분해(SVD)를 계산한다.\n",
        "- solve : A가 정사각 행렬일때 Ax = b를 만족하는 x를 구한다.\n",
        "- lstsq : Ax = b 를 만족하는 최소 제곱해를 구한다.\n",
        "\n",
        "http://elearning.kocw.net/contents4/document/lec/2013/Chungbuk/LeeGeonmyeong1/13.pdf"
      ]
    },
    {
      "cell_type": "markdown",
      "metadata": {
        "id": "ouIzrUNCOxjE"
      },
      "source": [
        "- 점곱 계산"
      ]
    },
    {
      "cell_type": "code",
      "execution_count": null,
      "metadata": {
        "id": "ExRqTCfiOxjE",
        "outputId": "6fd666cc-f154-4d70-f60c-d2cc5276a6cc"
      },
      "outputs": [
        {
          "data": {
            "text/plain": [
              "32"
            ]
          },
          "execution_count": 143,
          "metadata": {},
          "output_type": "execute_result"
        }
      ],
      "source": [
        "# 두 벡터를 만듭니다.\n",
        "vector_a = np.array([1,2,3])\n",
        "vector_b = np.array([4,5,6])\n",
        "\n",
        "# 점곱을 계산합니다.\n",
        "np.dot(vector_a, vector_b)"
      ]
    },
    {
      "cell_type": "code",
      "execution_count": null,
      "metadata": {
        "id": "y_dKGW-VOxjE",
        "outputId": "6848ccb6-e15e-418f-e1e3-2ae758222a1a"
      },
      "outputs": [
        {
          "data": {
            "text/plain": [
              "2"
            ]
          },
          "execution_count": 144,
          "metadata": {},
          "output_type": "execute_result"
        }
      ],
      "source": [
        "scalar_a = np.array(1)\n",
        "scalar_b = np.array(2)\n",
        "np.dot(scalar_a, scalar_b)"
      ]
    },
    {
      "cell_type": "code",
      "execution_count": null,
      "metadata": {
        "id": "lUPfvTVbOxjF",
        "outputId": "46997911-ebb5-4c9f-da1b-c9f334ddec94"
      },
      "outputs": [
        {
          "ename": "ValueError",
          "evalue": "matmul: Input operand 0 does not have enough dimensions (has 0, gufunc core with signature (n?,k),(k,m?)->(n?,m?) requires 1)",
          "output_type": "error",
          "traceback": [
            "\u001b[1;31m---------------------------------------------------------------------------\u001b[0m",
            "\u001b[1;31mValueError\u001b[0m                                Traceback (most recent call last)",
            "\u001b[1;32m<ipython-input-145-2d8b0dafdc29>\u001b[0m in \u001b[0;36m<module>\u001b[1;34m\u001b[0m\n\u001b[0;32m      1\u001b[0m \u001b[1;31m# 스칼라 배열에서는 적용되지 않는다.\u001b[0m\u001b[1;33m\u001b[0m\u001b[1;33m\u001b[0m\u001b[1;33m\u001b[0m\u001b[0m\n\u001b[1;32m----> 2\u001b[1;33m \u001b[0mscalar_a\u001b[0m \u001b[1;33m@\u001b[0m \u001b[0mscalar_b\u001b[0m\u001b[1;33m\u001b[0m\u001b[1;33m\u001b[0m\u001b[0m\n\u001b[0m",
            "\u001b[1;31mValueError\u001b[0m: matmul: Input operand 0 does not have enough dimensions (has 0, gufunc core with signature (n?,k),(k,m?)->(n?,m?) requires 1)"
          ]
        }
      ],
      "source": [
        "# 스칼라 배열에서는 적용되지 않는다.\n",
        "#스칼라는 벡터보다 작은 것\n",
        "scalar_a @ scalar_b"
      ]
    },
    {
      "cell_type": "markdown",
      "metadata": {
        "id": "Y78lxRNxOxjF"
      },
      "source": [
        "- 행렬 덧셈과 뺄셈"
      ]
    },
    {
      "cell_type": "code",
      "execution_count": null,
      "metadata": {
        "id": "7PgEQLfLOxjF",
        "outputId": "36a6e18c-a346-497b-8f37-8a377bbfe8a0"
      },
      "outputs": [
        {
          "data": {
            "text/plain": [
              "array([[ 2,  4,  2],\n",
              "       [ 2,  4,  2],\n",
              "       [ 2,  4, 10]])"
            ]
          },
          "execution_count": 147,
          "metadata": {},
          "output_type": "execute_result"
        }
      ],
      "source": [
        "# 행렬을 만듭니다.\n",
        "matrix_a = np.array([[1, 1, 1],\n",
        "                     [1, 1, 1],\n",
        "                     [1, 1, 2]])\n",
        "\n",
        "# 행렬을 만듭니다.\n",
        "matrix_b = np.array([[1, 3, 1],\n",
        "                     [1, 3, 1],\n",
        "                     [1, 3, 8]])\n",
        "\n",
        "# 두 행렬을 더합니다.\n",
        "np.add(matrix_a, matrix_b)"
      ]
    },
    {
      "cell_type": "code",
      "execution_count": null,
      "metadata": {
        "id": "qvFNVMDDOxjG",
        "outputId": "b0165480-f6ab-42cf-934d-091da5284ffa"
      },
      "outputs": [
        {
          "data": {
            "text/plain": [
              "array([[ 0, -2,  0],\n",
              "       [ 0, -2,  0],\n",
              "       [ 0, -2, -6]])"
            ]
          },
          "execution_count": 148,
          "metadata": {},
          "output_type": "execute_result"
        }
      ],
      "source": [
        "# 두 행렬을 뺍니다.\n",
        "np.subtract(matrix_a, matrix_b)"
      ]
    },
    {
      "cell_type": "code",
      "execution_count": null,
      "metadata": {
        "id": "OeotWEvCOxjG",
        "outputId": "eb05a7cf-ef43-4776-d2f6-86695358c425"
      },
      "outputs": [
        {
          "data": {
            "text/plain": [
              "array([[ 2,  4,  2],\n",
              "       [ 2,  4,  2],\n",
              "       [ 2,  4, 10]])"
            ]
          },
          "execution_count": 149,
          "metadata": {},
          "output_type": "execute_result"
        }
      ],
      "source": [
        "# 두 행렬을 더합니다.\n",
        "matrix_a + matrix_b"
      ]
    },
    {
      "cell_type": "code",
      "execution_count": null,
      "metadata": {
        "id": "TAy80PunOxjG",
        "outputId": "0a049abb-a7c3-4be8-c187-4a7b2b2d3edb"
      },
      "outputs": [
        {
          "data": {
            "text/plain": [
              "array([[ 0, -2,  0],\n",
              "       [ 0, -2,  0],\n",
              "       [ 0, -2, -6]])"
            ]
          },
          "execution_count": 150,
          "metadata": {},
          "output_type": "execute_result"
        }
      ],
      "source": [
        "matrix_a - matrix_b"
      ]
    },
    {
      "cell_type": "markdown",
      "metadata": {
        "id": "1zOrTU8XOxjG"
      },
      "source": [
        "- 행렬 곱셈"
      ]
    },
    {
      "cell_type": "code",
      "execution_count": null,
      "metadata": {
        "id": "IMWdfQIcOxjH",
        "outputId": "aff01f73-3c58-4e84-e1fa-916fa300159c"
      },
      "outputs": [
        {
          "data": {
            "text/plain": [
              "array([[2, 5],\n",
              "       [3, 7]])"
            ]
          },
          "execution_count": 151,
          "metadata": {},
          "output_type": "execute_result"
        }
      ],
      "source": [
        "# 라이브러리를 임포트합니다.\n",
        "import numpy as np\n",
        "\n",
        "# 행렬을 만듭니다.\n",
        "matrix_a = np.array([[1, 1],\n",
        "                     [1, 2]])\n",
        "\n",
        "# 행렬을 만듭니다.\n",
        "matrix_b = np.array([[1, 3],\n",
        "                     [1, 2]])\n",
        "\n",
        "# 두 행렬을 곱합니다.\n",
        "np.dot(matrix_a, matrix_b)"
      ]
    },
    {
      "cell_type": "code",
      "execution_count": null,
      "metadata": {
        "id": "xV03RcBhOxjH",
        "outputId": "cc7adea9-cf08-434b-b747-4bd499c56af9"
      },
      "outputs": [
        {
          "data": {
            "text/plain": [
              "array([[2, 5],\n",
              "       [3, 7]])"
            ]
          },
          "execution_count": 152,
          "metadata": {},
          "output_type": "execute_result"
        }
      ],
      "source": [
        "# 두 행렬을 곱합니다.\n",
        "matrix_a @ matrix_b"
      ]
    },
    {
      "cell_type": "code",
      "execution_count": null,
      "metadata": {
        "id": "xZMaD0F9OxjH",
        "outputId": "76aea5ee-58c8-4871-88b4-baddfa1995cb"
      },
      "outputs": [
        {
          "data": {
            "text/plain": [
              "array([[1, 3],\n",
              "       [1, 4]])"
            ]
          },
          "execution_count": 153,
          "metadata": {},
          "output_type": "execute_result"
        }
      ],
      "source": [
        "# 두 행렬의 원소별 곱셈을 수행합니다.\n",
        "matrix_a * matrix_b"
      ]
    },
    {
      "cell_type": "markdown",
      "metadata": {
        "id": "PkpzgzokOxjH"
      },
      "source": [
        "- 역행렬\n",
        "    - 정방행렬의 역행렬 계산"
      ]
    },
    {
      "cell_type": "code",
      "execution_count": null,
      "metadata": {
        "id": "jKr3epEVOxjI",
        "outputId": "04b6cb2d-69bb-43f0-ee3b-7b83ec104cc2"
      },
      "outputs": [
        {
          "data": {
            "text/plain": [
              "array([[-1.66666667,  1.33333333],\n",
              "       [ 0.66666667, -0.33333333]])"
            ]
          },
          "execution_count": 154,
          "metadata": {},
          "output_type": "execute_result"
        }
      ],
      "source": [
        "matrix = np.array([[1, 4],\n",
        "                   [2, 5]])\n",
        "\n",
        "# 역행렬을 계산합니다.\n",
        "np.linalg.inv(matrix)"
      ]
    },
    {
      "cell_type": "code",
      "execution_count": null,
      "metadata": {
        "id": "MKCMifdGOxjI",
        "outputId": "913b3a30-5568-4cca-c20c-2decc54e6b50"
      },
      "outputs": [
        {
          "data": {
            "text/plain": [
              "array([[1., 0.],\n",
              "       [0., 1.]])"
            ]
          },
          "execution_count": 155,
          "metadata": {},
          "output_type": "execute_result"
        }
      ],
      "source": [
        "matrix @ np.linalg.inv(matrix)"
      ]
    },
    {
      "cell_type": "code",
      "execution_count": null,
      "metadata": {
        "id": "RkaYNnulOxjI",
        "outputId": "93c8361f-c7fa-4133-a369-d6ebd9278ac5"
      },
      "outputs": [
        {
          "data": {
            "text/plain": [
              "array([[-1.16666667,  1.        ],\n",
              "       [-0.33333333,  0.33333333],\n",
              "       [ 0.5       , -0.33333333]])"
            ]
          },
          "execution_count": 156,
          "metadata": {},
          "output_type": "execute_result"
        }
      ],
      "source": [
        "matrix = np.array([[1, 4, 7],\n",
        "                   [2, 5, 8]])\n",
        "\n",
        "# 유사 역행렬을 계산합니다.\n",
        "np.linalg.pinv(matrix)"
      ]
    },
    {
      "cell_type": "markdown",
      "metadata": {
        "id": "5jv6SxggOxjJ"
      },
      "source": [
        "- 행렬의 랭크 구하기"
      ]
    },
    {
      "cell_type": "code",
      "execution_count": null,
      "metadata": {
        "id": "Vl4Nu5biOxjJ",
        "outputId": "54f22e3a-325e-4a62-91f3-c7200549660c"
      },
      "outputs": [
        {
          "data": {
            "text/plain": [
              "2"
            ]
          },
          "execution_count": 157,
          "metadata": {},
          "output_type": "execute_result"
        }
      ],
      "source": [
        "# 라이브러리를 임포트합니다.\n",
        "import numpy as np\n",
        "\n",
        "# 행렬을 만듭니다.\n",
        "mat_1 = np.array([[1, 1, 1],\n",
        "                   [1, 1, 10],\n",
        "                   [1, 1, 15]])\n",
        "\n",
        "# 행렬의 랭크를 반환합니다.\n",
        "np.linalg.matrix_rank(mat_1)"
      ]
    },
    {
      "cell_type": "code",
      "execution_count": null,
      "metadata": {
        "id": "VZAV-egvOxjJ"
      },
      "outputs": [],
      "source": [
        "mat_2 = np.array([[1, 1, 1],\n",
        "                   [1, 1, 1],\n",
        "                   [1, 1, 1]])\n"
      ]
    },
    {
      "cell_type": "code",
      "execution_count": null,
      "metadata": {
        "id": "2ZohiXNYOxjJ",
        "outputId": "d637e450-d92a-4b02-b339-546639a10f41"
      },
      "outputs": [
        {
          "data": {
            "text/plain": [
              "1"
            ]
          },
          "execution_count": 159,
          "metadata": {},
          "output_type": "execute_result"
        }
      ],
      "source": [
        "np.linalg.matrix_rank(mat_2)"
      ]
    },
    {
      "cell_type": "markdown",
      "metadata": {
        "id": "pKevZaqbOxjK"
      },
      "source": [
        "- rank 는 선형 독립적인 행 또는 열의 개수. 특이값 분해를 통해서 계산한다.\n",
        "- ndim 은 행렬의 차원만을 나타낸다."
      ]
    },
    {
      "cell_type": "markdown",
      "metadata": {
        "id": "zLgZ9KEqOxjK"
      },
      "source": [
        "넘파이 0.18 버전에서 `rank()` 함수가 삭제되었습니다. 대신 `ndim()` 함수를 사용하세요."
      ]
    },
    {
      "cell_type": "code",
      "execution_count": null,
      "metadata": {
        "id": "9e9ODgqTOxjK",
        "outputId": "29bb1293-948f-4220-e656-4c1b54b177ee"
      },
      "outputs": [
        {
          "data": {
            "text/plain": [
              "2"
            ]
          },
          "execution_count": 160,
          "metadata": {},
          "output_type": "execute_result"
        }
      ],
      "source": [
        "# 2D 배열이므로 2가 반환됩니다.\n",
        "np.ndim(mat_2)"
      ]
    },
    {
      "cell_type": "markdown",
      "metadata": {
        "id": "QqwwcIYlOxjL"
      },
      "source": [
        "- 행렬식 계산하기"
      ]
    },
    {
      "cell_type": "code",
      "execution_count": null,
      "metadata": {
        "id": "SPrKO7v9OxjL",
        "outputId": "11810eab-51e0-4ab3-bf75-1660771d01da"
      },
      "outputs": [
        {
          "data": {
            "text/plain": [
              "0.0"
            ]
          },
          "execution_count": 161,
          "metadata": {},
          "output_type": "execute_result"
        }
      ],
      "source": [
        "# 행렬을 만듭니다.\n",
        "matrix = np.array([[1, 2, 3],\n",
        "                   [2, 4, 6],\n",
        "                   [3, 8, 9]])\n",
        "\n",
        "# 행렬의 행렬식을 반환합니다.\n",
        "np.linalg.det(matrix)"
      ]
    },
    {
      "cell_type": "markdown",
      "metadata": {
        "id": "qCdLWaDaOxjL"
      },
      "source": [
        "- 행렬의 대각 원소 추출하기"
      ]
    },
    {
      "cell_type": "code",
      "execution_count": null,
      "metadata": {
        "id": "tZja-tQ3OxjL",
        "outputId": "cc9a9ae8-7177-4450-9d68-743932a8a845"
      },
      "outputs": [
        {
          "data": {
            "text/plain": [
              "array([1, 4, 9])"
            ]
          },
          "execution_count": 162,
          "metadata": {},
          "output_type": "execute_result"
        }
      ],
      "source": [
        "matrix.diagonal()"
      ]
    },
    {
      "cell_type": "markdown",
      "metadata": {
        "id": "b89Fcb7vOxjM"
      },
      "source": [
        "- 행렬의 대각합 계싼"
      ]
    },
    {
      "cell_type": "code",
      "execution_count": null,
      "metadata": {
        "id": "Kb68cKQUOxjM",
        "outputId": "201f643c-31c9-4424-b9f2-a39d707fd989"
      },
      "outputs": [
        {
          "data": {
            "text/plain": [
              "14"
            ]
          },
          "execution_count": 163,
          "metadata": {},
          "output_type": "execute_result"
        }
      ],
      "source": [
        "matrix.trace()"
      ]
    },
    {
      "cell_type": "code",
      "execution_count": null,
      "metadata": {
        "id": "j4atg8awOxjM",
        "outputId": "d2ee827d-ef83-450e-9929-2b69082746b5"
      },
      "outputs": [
        {
          "data": {
            "text/plain": [
              "14"
            ]
          },
          "execution_count": 164,
          "metadata": {},
          "output_type": "execute_result"
        }
      ],
      "source": [
        "sum(matrix.diagonal())"
      ]
    },
    {
      "cell_type": "code",
      "execution_count": null,
      "metadata": {
        "id": "2WSB6zkQOxjN",
        "outputId": "41751fb5-4ae2-40ea-c24b-316c8e565166"
      },
      "outputs": [
        {
          "data": {
            "text/plain": [
              "array([13.55075847,  0.74003145, -3.29078992])"
            ]
          },
          "execution_count": 165,
          "metadata": {},
          "output_type": "execute_result"
        }
      ],
      "source": [
        "# 행렬을 만듭니다.\n",
        "matrix = np.array([[1, -1, 3],\n",
        "                   [1, 1, 6],\n",
        "                   [3, 8, 9]])\n",
        "\n",
        "# 고윳값과 고유벡터를 계산합니다.\n",
        "eigenvalues, eigenvectors = np.linalg.eig(matrix)\n",
        "# 고윳값을 확인합니다.\n",
        "eigenvalues"
      ]
    },
    {
      "cell_type": "code",
      "execution_count": null,
      "metadata": {
        "id": "vERBwFn1OxjN",
        "outputId": "dde5e75e-c389-42c4-e442-18facd301690"
      },
      "outputs": [
        {
          "data": {
            "text/plain": [
              "array([[-0.17622017, -0.96677403, -0.53373322],\n",
              "       [-0.435951  ,  0.2053623 , -0.64324848],\n",
              "       [-0.88254925,  0.15223105,  0.54896288]])"
            ]
          },
          "execution_count": 166,
          "metadata": {},
          "output_type": "execute_result"
        }
      ],
      "source": [
        "# 고유벡터를 확인합니다.\n",
        "eigenvectors"
      ]
    },
    {
      "cell_type": "code",
      "execution_count": null,
      "metadata": {
        "id": "k1vdmtaxOxjN"
      },
      "outputs": [],
      "source": [
        "# 추가\n",
        "# 대칭 행렬을 만듭니다.\n",
        "matrix = np.array([[1, -1, 3],\n",
        "                   [-1, 1, 6],\n",
        "                   [3, 6, 9]])\n",
        "\n",
        "# 고윳값과 고유벡터를 계산합니다.\n",
        "eigenvalues, eigenvectors = np.linalg.eigh(matrix)"
      ]
    },
    {
      "cell_type": "markdown",
      "metadata": {
        "id": "wu9TOrFAOxjO"
      },
      "source": [
        "# 고급 Numpy"
      ]
    },
    {
      "cell_type": "markdown",
      "metadata": {
        "id": "93Mc8Xj-OxjO"
      },
      "source": [
        "## ndarray배열 재형성 하기\n",
        "- 배열의 모양을 변환하려면 배열의 인스턴스 메서드인 reshape 메서드에 새로운 모양을 나타내는 튜플을 넘기면 된다.\n",
        "\n",
        "### C 순서와 포트란 순서\n",
        "- 기본적으로 NumPy 배열은 **로우 우선**순서로 생성된다. 이말은 만약 2차원 배열이 있다면 배열의 각 로우에 해당하는 데이터들은 공간적으로 인접한 메모리에 적재된다는 뜻이다.\n",
        "- C (로우우선 순서) : 상위 차원을 우선 탐색 한다.(1번 축을 0번 축보다 우선 탐색한다.)\n",
        "- 포트란 (컬럼 우선 순서) : 사우이 차원을 나중에 탐색한다.(0번 축을 1번 축보다 우선 탐색한다.)"
      ]
    },
    {
      "cell_type": "code",
      "execution_count": null,
      "metadata": {
        "id": "SLFoKYhcOxjO"
      },
      "outputs": [],
      "source": [
        "arr = np.arange(8)"
      ]
    },
    {
      "cell_type": "code",
      "execution_count": null,
      "metadata": {
        "id": "Lg0Q6rOTOxjP",
        "outputId": "47a831d6-45ca-49e3-c4c9-24b9a7872e2b"
      },
      "outputs": [
        {
          "data": {
            "text/plain": [
              "array([0, 1, 2, 3, 4, 5, 6, 7])"
            ]
          },
          "execution_count": 169,
          "metadata": {},
          "output_type": "execute_result"
        }
      ],
      "source": [
        "arr"
      ]
    },
    {
      "cell_type": "code",
      "execution_count": null,
      "metadata": {
        "id": "QnJ9EV2dOxjP",
        "outputId": "b2db1b98-ed22-44f5-d46e-1f749095ad4f"
      },
      "outputs": [
        {
          "data": {
            "text/plain": [
              "array([[0, 1],\n",
              "       [2, 3],\n",
              "       [4, 5],\n",
              "       [6, 7]])"
            ]
          },
          "execution_count": 170,
          "metadata": {},
          "output_type": "execute_result"
        }
      ],
      "source": [
        "arr.reshape((4,2))"
      ]
    },
    {
      "cell_type": "markdown",
      "metadata": {
        "id": "yneUguRCOxjP"
      },
      "source": [
        "- reshape 의 order 의 값에 따라 재형성 순서가 결정된다.\n",
        "    - order ='C': 로우 우서(C순서)\n",
        "    - order ='F': 컬럼 우선(포트란순서)"
      ]
    },
    {
      "cell_type": "code",
      "execution_count": null,
      "metadata": {
        "id": "1QReQJ_IOxjP",
        "outputId": "62afa973-95c8-4090-e13f-452616296184"
      },
      "outputs": [
        {
          "data": {
            "text/plain": [
              "array([[0, 1],\n",
              "       [2, 3],\n",
              "       [4, 5],\n",
              "       [6, 7]])"
            ]
          },
          "execution_count": 171,
          "metadata": {},
          "output_type": "execute_result"
        }
      ],
      "source": [
        "arr.reshape((4,2), order='C')"
      ]
    },
    {
      "cell_type": "code",
      "execution_count": null,
      "metadata": {
        "id": "hah236qROxjQ",
        "outputId": "2fd95279-4d43-47d9-a0b6-e55f770383b1"
      },
      "outputs": [
        {
          "data": {
            "text/plain": [
              "array([[0, 4],\n",
              "       [1, 5],\n",
              "       [2, 6],\n",
              "       [3, 7]])"
            ]
          },
          "execution_count": 172,
          "metadata": {},
          "output_type": "execute_result"
        }
      ],
      "source": [
        "arr.reshape((4,2), order='F')"
      ]
    },
    {
      "cell_type": "markdown",
      "metadata": {
        "id": "Kzle6HJOOxjQ"
      },
      "source": [
        "- reshape 에 넘기는 값 중 하나가 -1이 될 수도 있는데 이경우에는 원본 데이터를 참조해서 적절한 값을 추론하게 된다.\n",
        "- -1은 가능한 많이라는 의미로 사용된다.\n",
        "- magic keyword"
      ]
    },
    {
      "cell_type": "code",
      "execution_count": null,
      "metadata": {
        "id": "futShPyLOxjR"
      },
      "outputs": [],
      "source": [
        "arr = np.arange(15)"
      ]
    },
    {
      "cell_type": "code",
      "execution_count": null,
      "metadata": {
        "id": "t-iy4bS5OxjR",
        "outputId": "aaab877c-1f00-4763-a169-dfda2b30c2e9"
      },
      "outputs": [
        {
          "data": {
            "text/plain": [
              "array([[ 0,  1,  2],\n",
              "       [ 3,  4,  5],\n",
              "       [ 6,  7,  8],\n",
              "       [ 9, 10, 11],\n",
              "       [12, 13, 14]])"
            ]
          },
          "execution_count": 174,
          "metadata": {},
          "output_type": "execute_result"
        }
      ],
      "source": [
        "arr.reshape((5,-1))"
      ]
    },
    {
      "cell_type": "code",
      "execution_count": null,
      "metadata": {
        "id": "iQBBMsXMOxjR"
      },
      "outputs": [],
      "source": [
        "arr = np.arange(30)"
      ]
    },
    {
      "cell_type": "code",
      "execution_count": null,
      "metadata": {
        "id": "fYz9vIyLOxjS"
      },
      "outputs": [],
      "source": [
        "arr_1 = arr.reshape((5,2,-1))"
      ]
    },
    {
      "cell_type": "code",
      "execution_count": null,
      "metadata": {
        "id": "0yHcpG91OxjS",
        "outputId": "5c3fad89-48ca-45c1-84f5-8b31accefcef"
      },
      "outputs": [
        {
          "data": {
            "text/plain": [
              "array([[[ 0,  1,  2],\n",
              "        [ 3,  4,  5]],\n",
              "\n",
              "       [[ 6,  7,  8],\n",
              "        [ 9, 10, 11]],\n",
              "\n",
              "       [[12, 13, 14],\n",
              "        [15, 16, 17]],\n",
              "\n",
              "       [[18, 19, 20],\n",
              "        [21, 22, 23]],\n",
              "\n",
              "       [[24, 25, 26],\n",
              "        [27, 28, 29]]])"
            ]
          },
          "execution_count": 177,
          "metadata": {},
          "output_type": "execute_result"
        }
      ],
      "source": [
        "arr_1"
      ]
    },
    {
      "cell_type": "markdown",
      "metadata": {
        "id": "dCn45gabOxjS"
      },
      "source": [
        "- 다차원 배열을 낮은 차원으로 변환하는 것은 **평탄화** 라고 한다."
      ]
    },
    {
      "cell_type": "code",
      "execution_count": null,
      "metadata": {
        "id": "4_T661cJOxjT",
        "outputId": "14fd87a2-a168-4c5c-a94d-c5edc86d90b5"
      },
      "outputs": [
        {
          "data": {
            "text/plain": [
              "array([[[ 0,  1,  2],\n",
              "        [ 3,  4,  5]],\n",
              "\n",
              "       [[ 6,  7,  8],\n",
              "        [ 9, 10, 11]],\n",
              "\n",
              "       [[12, 13, 14],\n",
              "        [15, 16, 17]],\n",
              "\n",
              "       [[18, 19, 20],\n",
              "        [21, 22, 23]],\n",
              "\n",
              "       [[24, 25, 26],\n",
              "        [27, 28, 29]]])"
            ]
          },
          "execution_count": 178,
          "metadata": {},
          "output_type": "execute_result"
        }
      ],
      "source": [
        "arr_1"
      ]
    },
    {
      "cell_type": "code",
      "execution_count": null,
      "metadata": {
        "id": "7LRz5Mq9OxjT",
        "outputId": "36d03ac6-9492-4641-e1fb-11bcf4ae18d1"
      },
      "outputs": [
        {
          "data": {
            "text/plain": [
              "array([ 0,  1,  2,  3,  4,  5,  6,  7,  8,  9, 10, 11, 12, 13, 14, 15, 16,\n",
              "       17, 18, 19, 20, 21, 22, 23, 24, 25, 26, 27, 28, 29])"
            ]
          },
          "execution_count": 179,
          "metadata": {},
          "output_type": "execute_result"
        }
      ],
      "source": [
        "arr_1.ravel()"
      ]
    },
    {
      "cell_type": "code",
      "execution_count": null,
      "metadata": {
        "id": "kTq1HILaOxjU",
        "outputId": "569033b4-e6b7-4088-ccbc-4e82d0e3b57a"
      },
      "outputs": [
        {
          "data": {
            "text/plain": [
              "array([ 0,  6, 12, 18, 24,  3,  9, 15, 21, 27,  1,  7, 13, 19, 25,  4, 10,\n",
              "       16, 22, 28,  2,  8, 14, 20, 26,  5, 11, 17, 23, 29])"
            ]
          },
          "execution_count": 180,
          "metadata": {},
          "output_type": "execute_result"
        }
      ],
      "source": [
        "arr_1.ravel('F')"
      ]
    },
    {
      "cell_type": "code",
      "execution_count": null,
      "metadata": {
        "id": "d8ReTeDmOxjU",
        "outputId": "843d3b49-dc9a-4906-9caf-b830e2a25091"
      },
      "outputs": [
        {
          "data": {
            "text/plain": [
              "array([ 0,  1,  2,  3,  4,  5,  6,  7,  8,  9, 10, 11, 12, 13, 14, 15, 16,\n",
              "       17, 18, 19, 20, 21, 22, 23, 24, 25, 26, 27, 28, 29])"
            ]
          },
          "execution_count": 181,
          "metadata": {},
          "output_type": "execute_result"
        }
      ],
      "source": [
        "arr_1.reshape((-1))"
      ]
    },
    {
      "cell_type": "code",
      "execution_count": null,
      "metadata": {
        "id": "EiggG-boOxjU",
        "outputId": "dae6bb50-917a-43a6-be2d-a9ddec85b3ef"
      },
      "outputs": [
        {
          "data": {
            "text/plain": [
              "array([ 0,  1,  2,  3,  4,  5,  6,  7,  8,  9, 10, 11, 12, 13, 14, 15, 16,\n",
              "       17, 18, 19, 20, 21, 22, 23, 24, 25, 26, 27, 28, 29])"
            ]
          },
          "execution_count": 182,
          "metadata": {},
          "output_type": "execute_result"
        }
      ],
      "source": [
        "arr_1.flatten()"
      ]
    },
    {
      "cell_type": "markdown",
      "metadata": {
        "id": "CU4bckeoOxjV"
      },
      "source": [
        "# 배열 이어붙이고 나누기"
      ]
    },
    {
      "cell_type": "code",
      "execution_count": null,
      "metadata": {
        "id": "Djes6syVOxjV"
      },
      "outputs": [],
      "source": [
        "arr1 = np.array(([11,12,13],\n",
        "              [14,15,16]))\n",
        "arr2 = np.array(([21,22,23],\n",
        "              [24,25,26]))"
      ]
    },
    {
      "cell_type": "code",
      "execution_count": null,
      "metadata": {
        "id": "lq05ecR2OxjV",
        "outputId": "5e13345c-40b9-4bf3-c21a-939154925d5b"
      },
      "outputs": [
        {
          "data": {
            "text/plain": [
              "array([[11, 12, 13],\n",
              "       [14, 15, 16],\n",
              "       [21, 22, 23],\n",
              "       [24, 25, 26]])"
            ]
          },
          "execution_count": 184,
          "metadata": {},
          "output_type": "execute_result"
        }
      ],
      "source": [
        "np.concatenate([arr1,arr2],axis=0)"
      ]
    },
    {
      "cell_type": "code",
      "execution_count": null,
      "metadata": {
        "id": "eJMJLzTAOxjW",
        "outputId": "64f0f8fb-18d2-40ae-a18c-b5b1ad2417a5"
      },
      "outputs": [
        {
          "data": {
            "text/plain": [
              "array([[11, 12, 13, 21, 22, 23],\n",
              "       [14, 15, 16, 24, 25, 26]])"
            ]
          },
          "execution_count": 185,
          "metadata": {},
          "output_type": "execute_result"
        }
      ],
      "source": [
        "np.concatenate([arr1,arr2],axis=1)"
      ]
    },
    {
      "cell_type": "code",
      "execution_count": null,
      "metadata": {
        "id": "MMGFHkqjOxjW",
        "outputId": "126a8dbc-f557-4106-849c-c22fcfd532c6"
      },
      "outputs": [
        {
          "data": {
            "text/plain": [
              "[array([[11, 12, 13]]),\n",
              " array([[14, 15, 16]]),\n",
              " array([], shape=(0, 3), dtype=int32)]"
            ]
          },
          "execution_count": 186,
          "metadata": {},
          "output_type": "execute_result"
        }
      ],
      "source": [
        "# 실제로 어떻게 동작하는지 확인해 봐야하릇\n",
        "np.split(arr1,[1,3])"
      ]
    },
    {
      "cell_type": "markdown",
      "metadata": {
        "id": "J__sQxbLOxjW"
      },
      "source": [
        "### 브로드캐스팅\n",
        "- 브로드캐스팅은 다른 모양의 배열 간의 산술 연산을 어떻게 수행해야 하는지 설명한다."
      ]
    },
    {
      "cell_type": "code",
      "execution_count": null,
      "metadata": {
        "id": "ZxBTqvaYOxjX"
      },
      "outputs": [],
      "source": [
        "arr_1 = np.arange(5)"
      ]
    },
    {
      "cell_type": "code",
      "execution_count": null,
      "metadata": {
        "id": "dT2HnxTLOxjX",
        "outputId": "b6622632-a8c8-4230-b7e5-bcb6f06d54ac"
      },
      "outputs": [
        {
          "data": {
            "text/plain": [
              "array([0, 1, 2, 3, 4])"
            ]
          },
          "execution_count": 188,
          "metadata": {},
          "output_type": "execute_result"
        }
      ],
      "source": [
        "arr_1"
      ]
    },
    {
      "cell_type": "code",
      "execution_count": null,
      "metadata": {
        "id": "33JLzV8uOxjY",
        "outputId": "2b0c919d-dfa0-4f36-9b4f-daab7e6710b8"
      },
      "outputs": [
        {
          "data": {
            "text/plain": [
              "array([ 0,  4,  8, 12, 16])"
            ]
          },
          "execution_count": 189,
          "metadata": {},
          "output_type": "execute_result"
        }
      ],
      "source": [
        "arr_1*4"
      ]
    },
    {
      "cell_type": "markdown",
      "metadata": {
        "id": "ZyQall5JOxjY"
      },
      "source": [
        "- 여기서 스칼라 값 4는 곱셈 연산 과정에서 배열의 모든 원소로 브로드캐스트 되었다."
      ]
    },
    {
      "cell_type": "code",
      "execution_count": null,
      "metadata": {
        "id": "rMQJ-i3iOxjZ",
        "outputId": "fcfab11a-5a6b-4751-a304-8f1ebfccf89d"
      },
      "outputs": [
        {
          "data": {
            "text/plain": [
              "2.0"
            ]
          },
          "execution_count": 190,
          "metadata": {},
          "output_type": "execute_result"
        }
      ],
      "source": [
        "arr_1.mean(0)"
      ]
    },
    {
      "cell_type": "code",
      "execution_count": null,
      "metadata": {
        "id": "o3HZb4ZKOxjZ"
      },
      "outputs": [],
      "source": [
        "arr_2 = np.random.randn(4,3)"
      ]
    },
    {
      "cell_type": "code",
      "execution_count": null,
      "metadata": {
        "id": "IvHXcIkFOxja",
        "outputId": "96cfe834-79f8-42b4-b5f3-32fae4194ead"
      },
      "outputs": [
        {
          "data": {
            "text/plain": [
              "array([[-2.6950185 , -1.01377031,  0.48165881],\n",
              "       [ 0.98812862, -1.2449303 ,  0.5260334 ],\n",
              "       [-0.08359242, -0.22553094, -1.29938486],\n",
              "       [ 0.82813041, -2.03703304,  1.02251274]])"
            ]
          },
          "execution_count": 192,
          "metadata": {},
          "output_type": "execute_result"
        }
      ],
      "source": [
        "arr_2"
      ]
    },
    {
      "cell_type": "code",
      "execution_count": null,
      "metadata": {
        "id": "XI73-vMJOxja",
        "outputId": "929a7817-3c2c-42b2-d3a4-aaa285c22e04"
      },
      "outputs": [
        {
          "data": {
            "text/plain": [
              "array([-0.24058797, -1.13031615,  0.18270502])"
            ]
          },
          "execution_count": 193,
          "metadata": {},
          "output_type": "execute_result"
        }
      ],
      "source": [
        "arr_2.mean(0)"
      ]
    },
    {
      "cell_type": "code",
      "execution_count": null,
      "metadata": {
        "id": "nqztznBzOxjb",
        "outputId": "0ca35897-9ae1-41f2-f23d-230e607623f5"
      },
      "outputs": [
        {
          "data": {
            "text/plain": [
              "array([-1.07571   ,  0.08974391, -0.5361694 , -0.06212996])"
            ]
          },
          "execution_count": 194,
          "metadata": {},
          "output_type": "execute_result"
        }
      ],
      "source": [
        "arr_2.mean(1)"
      ]
    },
    {
      "cell_type": "markdown",
      "metadata": {
        "id": "BSenju6eOxjb"
      },
      "source": [
        "#### 브로드캐스팅 규칙\n",
        "- 각차원에 대해 축의 길이가 일치하거나 둘 중 하나의 길이가 1이라면 두 배열은 브로드 캐스팅 호환이다."
      ]
    },
    {
      "cell_type": "code",
      "execution_count": null,
      "metadata": {
        "id": "owmqP142Oxjb"
      },
      "outputs": [],
      "source": [
        "arr_1 = np.array([[1,2,3],\n",
        "                [4,5,6],\n",
        "                [7,8,9],\n",
        "                [10,11,12]])"
      ]
    },
    {
      "cell_type": "code",
      "execution_count": null,
      "metadata": {
        "id": "UH_CurH7Oxjb"
      },
      "outputs": [],
      "source": [
        "arr_2 = np.array([1,2,3])"
      ]
    },
    {
      "cell_type": "code",
      "execution_count": null,
      "metadata": {
        "id": "qmRr8MdUOxjc",
        "outputId": "023f32fb-e9ed-4d31-a907-2eaa8011e315"
      },
      "outputs": [
        {
          "data": {
            "text/plain": [
              "array([[ 2,  4,  6],\n",
              "       [ 5,  7,  9],\n",
              "       [ 8, 10, 12],\n",
              "       [11, 13, 15]])"
            ]
          },
          "execution_count": 197,
          "metadata": {},
          "output_type": "execute_result"
        }
      ],
      "source": [
        "arr_1 + arr_2"
      ]
    },
    {
      "cell_type": "code",
      "execution_count": null,
      "metadata": {
        "id": "5XDpbDByOxjc"
      },
      "outputs": [],
      "source": [
        "arr_3 = np.array([[1],[2],[3],[4]])"
      ]
    },
    {
      "cell_type": "code",
      "execution_count": null,
      "metadata": {
        "id": "ZcFI60F2Oxjc",
        "outputId": "7d910cac-2c99-46c6-ae82-0380a806b812"
      },
      "outputs": [
        {
          "data": {
            "text/plain": [
              "array([[ 2,  3,  4],\n",
              "       [ 6,  7,  8],\n",
              "       [10, 11, 12],\n",
              "       [14, 15, 16]])"
            ]
          },
          "execution_count": 199,
          "metadata": {},
          "output_type": "execute_result"
        }
      ],
      "source": [
        "arr_1 + arr_3"
      ]
    },
    {
      "cell_type": "code",
      "execution_count": null,
      "metadata": {
        "id": "P_GjVFc0Oxjd",
        "outputId": "e02f2291-b570-41d2-9daa-f1e26d647b75"
      },
      "outputs": [
        {
          "data": {
            "text/plain": [
              "(4, 3)"
            ]
          },
          "execution_count": 200,
          "metadata": {},
          "output_type": "execute_result"
        }
      ],
      "source": [
        "arr_1.shape"
      ]
    },
    {
      "cell_type": "code",
      "execution_count": null,
      "metadata": {
        "id": "UgbV4pgCOxjd",
        "outputId": "0ab7c834-d7fb-46df-98b6-2700e87e61cf"
      },
      "outputs": [
        {
          "data": {
            "text/plain": [
              "(3,)"
            ]
          },
          "execution_count": 201,
          "metadata": {},
          "output_type": "execute_result"
        }
      ],
      "source": [
        "arr_2.shape"
      ]
    },
    {
      "cell_type": "code",
      "execution_count": null,
      "metadata": {
        "id": "ouyZXywYOxjd",
        "outputId": "f790a5fc-6c5e-4f98-af8b-1e6cb24b3b0e"
      },
      "outputs": [
        {
          "data": {
            "text/plain": [
              "(4, 1)"
            ]
          },
          "execution_count": 202,
          "metadata": {},
          "output_type": "execute_result"
        }
      ],
      "source": [
        "arr_3.shape"
      ]
    },
    {
      "cell_type": "code",
      "execution_count": null,
      "metadata": {
        "id": "UdHkM0itOxjd"
      },
      "outputs": [],
      "source": [
        "arr_3d_1 = np.random.rand(3,4,2)"
      ]
    },
    {
      "cell_type": "code",
      "execution_count": null,
      "metadata": {
        "id": "Ks-Cp_aeOxje"
      },
      "outputs": [],
      "source": [
        "arr_3d_2 = np.random.rand(4,2)"
      ]
    },
    {
      "cell_type": "code",
      "execution_count": null,
      "metadata": {
        "id": "45MPPi1hOxje"
      },
      "outputs": [],
      "source": [
        "arr_3d_3 = np.random.rand(3,4)"
      ]
    },
    {
      "cell_type": "code",
      "execution_count": null,
      "metadata": {
        "id": "cnYFrJqwOxje",
        "outputId": "47000742-8d30-40d3-9a55-aed6e7dad847"
      },
      "outputs": [
        {
          "data": {
            "text/plain": [
              "(3, 4, 2)"
            ]
          },
          "execution_count": 206,
          "metadata": {},
          "output_type": "execute_result"
        }
      ],
      "source": [
        "(arr_3d_1 + arr_3d_2).shape"
      ]
    }
  ],
  "metadata": {
    "colab": {
      "provenance": []
    },
    "kernelspec": {
      "display_name": "Python 3",
      "language": "python",
      "name": "python3"
    },
    "language_info": {
      "codemirror_mode": {
        "name": "ipython",
        "version": 3
      },
      "file_extension": ".py",
      "mimetype": "text/x-python",
      "name": "python",
      "nbconvert_exporter": "python",
      "pygments_lexer": "ipython3",
      "version": "3.9.16"
    }
  },
  "nbformat": 4,
  "nbformat_minor": 0
}
