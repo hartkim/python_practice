{
 "cells": [
  {
   "attachments": {},
   "cell_type": "markdown",
   "metadata": {
    "slideshow": {
     "slide_type": "slide"
    }
   },
   "source": [
    "## Agenda\n",
    "- TimeSeries Data\n",
    "- 시간의 흐름에 따라 변화 하는 data"
   ]
  },
  {
   "cell_type": "code",
   "execution_count": 1,
   "metadata": {
    "slideshow": {
     "slide_type": "skip"
    }
   },
   "outputs": [],
   "source": [
    "import pandas as pd\n",
    "import numpy as np\n",
    "\n",
    "np.random.seed(252)"
   ]
  },
  {
   "attachments": {},
   "cell_type": "markdown",
   "metadata": {
    "slideshow": {
     "slide_type": "slide"
    }
   },
   "source": [
    "## Time Series"
   ]
  },
  {
   "attachments": {},
   "cell_type": "markdown",
   "metadata": {
    "slideshow": {
     "slide_type": "fragment"
    }
   },
   "source": [
    "- \"timeseries\" 데이터는 `DatetimeIndex` 또는 `PeriodIndex`로 구성된 데이터 셋이다"
   ]
  },
  {
   "attachments": {},
   "cell_type": "markdown",
   "metadata": {},
   "source": [
    "### to_datetime"
   ]
  },
  {
   "cell_type": "code",
   "execution_count": 8,
   "metadata": {},
   "outputs": [
    {
     "name": "stdout",
     "output_type": "stream",
     "text": [
      "2023-06-21 00:00:00\n",
      "<class 'pandas._libs.tslibs.timestamps.Timestamp'>\n",
      "2023-06-21 00:00:00\n",
      "<class 'pandas._libs.tslibs.timestamps.Timestamp'>\n"
     ]
    }
   ],
   "source": [
    "# datetime 은 시간 일부분 period는 기간 인덱싱 할 때\n",
    "x= pd.to_datetime('20230621') #  string 인데 timestamp로 바뀐다.\n",
    "print(x)\n",
    "print(type(x))\n",
    "\n",
    "x_1 = pd.to_datetime('2023-06-21')\n",
    "print(x_1)\n",
    "print(type(x_1))\n",
    "# x= pd.to_datetime(20230621) # 되긴 되는데 주로 문자로 입력을 받아준다.\n",
    "# x"
   ]
  },
  {
   "cell_type": "code",
   "execution_count": 10,
   "metadata": {},
   "outputs": [
    {
     "name": "stdout",
     "output_type": "stream",
     "text": [
      "2023-06-21 00:00:00\n",
      "<class 'pandas._libs.tslibs.timestamps.Timestamp'>\n"
     ]
    }
   ],
   "source": [
    "x_2 = pd.to_datetime('2023-06-21', format='%Y-%m-%d') # 연도,month, day 어떻게 분간해줄건지 정하는거\n",
    "print(x_2)\n",
    "print(type(x_2))"
   ]
  },
  {
   "cell_type": "code",
   "execution_count": 11,
   "metadata": {},
   "outputs": [
    {
     "name": "stdout",
     "output_type": "stream",
     "text": [
      "2023-06-21 00:00:00\n",
      "<class 'pandas._libs.tslibs.timestamps.Timestamp'>\n"
     ]
    }
   ],
   "source": [
    "x_1 = pd.to_datetime('20230621', format='%Y%m%d') # 연도,month, day 어떻게 분간해줄건지 정하는거\n",
    "print(x_1)\n",
    "print(type(x_1))"
   ]
  },
  {
   "cell_type": "code",
   "execution_count": 12,
   "metadata": {},
   "outputs": [
    {
     "name": "stdout",
     "output_type": "stream",
     "text": [
      "2023-06-21 00:00:00\n",
      "<class 'pandas._libs.tslibs.timestamps.Timestamp'>\n"
     ]
    }
   ],
   "source": [
    "x_3 = pd.to_datetime('2023_06_21', format='%Y_%m_%d') # 연도,month, day 어떻게 분간해줄건지 정하는거\n",
    "print(x_3)\n",
    "print(type(x_3))"
   ]
  },
  {
   "cell_type": "code",
   "execution_count": 16,
   "metadata": {},
   "outputs": [
    {
     "name": "stdout",
     "output_type": "stream",
     "text": [
      "2023-06-21 00:00:00\n",
      "<class 'pandas._libs.tslibs.timestamps.Timestamp'>\n"
     ]
    }
   ],
   "source": [
    "x_4 = pd.to_datetime('2023년06월21일', format='%Y년%m월%d일') # 연도,month, day 어떻게 분간해줄건지 정하는거\n",
    "print(x_4)\n",
    "print(type(x_4))"
   ]
  },
  {
   "attachments": {},
   "cell_type": "markdown",
   "metadata": {
    "slideshow": {
     "slide_type": "slide"
    }
   },
   "source": [
    "### sample data 생성"
   ]
  },
  {
   "cell_type": "code",
   "execution_count": 2,
   "metadata": {},
   "outputs": [],
   "source": [
    "def random_series(dts):\n",
    "    res = pd.Series(np.random.randn(len(dts)), index=dts)\n",
    "    return res"
   ]
  },
  {
   "attachments": {},
   "cell_type": "markdown",
   "metadata": {},
   "source": [
    "`Timestamp` 를 이용해 시간 객체 생성"
   ]
  },
  {
   "cell_type": "code",
   "execution_count": 3,
   "metadata": {
    "slideshow": {
     "slide_type": "fragment"
    }
   },
   "outputs": [],
   "source": [
    "ts = pd.Timestamp('2023-01-01 00:00')"
   ]
  },
  {
   "cell_type": "code",
   "execution_count": 19,
   "metadata": {},
   "outputs": [
    {
     "data": {
      "text/plain": [
       "Timestamp('2023-01-01 00:00:00')"
      ]
     },
     "execution_count": 19,
     "metadata": {},
     "output_type": "execute_result"
    }
   ],
   "source": [
    "ts"
   ]
  },
  {
   "cell_type": "code",
   "execution_count": 23,
   "metadata": {},
   "outputs": [
    {
     "data": {
      "text/plain": [
       "DatetimeIndex(['2023-01-01'], dtype='datetime64[ns]', freq=None)"
      ]
     },
     "execution_count": 23,
     "metadata": {},
     "output_type": "execute_result"
    }
   ],
   "source": [
    "s_1 = pd.Series(100.1,index=[ts]) #index는 ts로 값은 100.1으로\n",
    "s_1.index"
   ]
  },
  {
   "attachments": {},
   "cell_type": "markdown",
   "metadata": {
    "slideshow": {
     "slide_type": "slide"
    }
   },
   "source": [
    "## Time Series의 함수들\n",
    "- `date_range` : 시작일과 종료일 또는 시작일과 기간을 입력하면 범위 내의 인덱스 생성\n",
    "```\n",
    "s: 초\n",
    "T: 분\n",
    "H: 시간\n",
    "D: 일(day)\n",
    "B: 주말이 아닌 평일\n",
    "W: 주(일요일)\n",
    "W-MON: 주(월요일)\n",
    "M: 각 달(month)의 마지막 날\n",
    "MS: 각 달의 첫날\n",
    "BM: 주말이 아닌 평일 중에서 각 달의 마지막 날\n",
    "BMS: 주말이 아닌 평일 중에서 각 달의 첫날\n",
    "WOM-2THU: 각 달의 두번째 목요일\n",
    "Q-JAN: 각 분기의 첫달의 마지막 날\n",
    "Q-DEC: 각 분기의 마지막 달의 마지막 날\n",
    "```"
   ]
  },
  {
   "cell_type": "code",
   "execution_count": 4,
   "metadata": {
    "slideshow": {
     "slide_type": "fragment"
    }
   },
   "outputs": [
    {
     "data": {
      "text/plain": [
       "DatetimeIndex(['2023-01-02', '2023-01-03', '2023-01-04', '2023-01-05',\n",
       "               '2023-01-06', '2023-01-09', '2023-01-10', '2023-01-11',\n",
       "               '2023-01-12', '2023-01-13',\n",
       "               ...\n",
       "               '2023-12-18', '2023-12-19', '2023-12-20', '2023-12-21',\n",
       "               '2023-12-22', '2023-12-25', '2023-12-26', '2023-12-27',\n",
       "               '2023-12-28', '2023-12-29'],\n",
       "              dtype='datetime64[ns]', length=260, freq='B')"
      ]
     },
     "execution_count": 4,
     "metadata": {},
     "output_type": "execute_result"
    }
   ],
   "source": [
    "# 1년치 평일\n",
    "dts = pd.date_range('2023-01-01', '2023-12-31', freq=\"B\")\n",
    "dts"
   ]
  },
  {
   "cell_type": "code",
   "execution_count": 12,
   "metadata": {},
   "outputs": [
    {
     "data": {
      "text/plain": [
       "2023-01-02   -0.011498\n",
       "2023-01-03   -0.085123\n",
       "2023-01-04    0.075910\n",
       "2023-01-05   -1.649279\n",
       "2023-01-06   -0.751812\n",
       "                ...   \n",
       "2023-12-25   -0.753418\n",
       "2023-12-26   -0.013732\n",
       "2023-12-27   -1.280078\n",
       "2023-12-28   -0.891287\n",
       "2023-12-29    1.178680\n",
       "Freq: B, Length: 260, dtype: float64"
      ]
     },
     "execution_count": 12,
     "metadata": {},
     "output_type": "execute_result"
    }
   ],
   "source": [
    "ts = pd.Series(np.random.randn(len(dts)), index=dts)\n",
    "ts"
   ]
  },
  {
   "cell_type": "code",
   "execution_count": 11,
   "metadata": {},
   "outputs": [
    {
     "data": {
      "text/plain": [
       "DatetimeIndex(['2023-01-01', '2023-01-02', '2023-01-03', '2023-01-04',\n",
       "               '2023-01-05', '2023-01-06'],\n",
       "              dtype='datetime64[ns]', freq='D')"
      ]
     },
     "execution_count": 11,
     "metadata": {},
     "output_type": "execute_result"
    }
   ],
   "source": [
    "# 6일 간격으로 생성\n",
    "dts_6 = pd.date_range('2023-01-01', periods =6)\n",
    "dts_6"
   ]
  },
  {
   "attachments": {},
   "cell_type": "markdown",
   "metadata": {
    "slideshow": {
     "slide_type": "slide"
    }
   },
   "source": [
    "## 시계열 데이터에서의 indexing 과 slicing"
   ]
  },
  {
   "attachments": {},
   "cell_type": "markdown",
   "metadata": {},
   "source": [
    "- indexing"
   ]
  },
  {
   "cell_type": "code",
   "execution_count": 18,
   "metadata": {
    "slideshow": {
     "slide_type": "fragment"
    }
   },
   "outputs": [
    {
     "data": {
      "text/plain": [
       "0.4872299787266356"
      ]
     },
     "execution_count": 18,
     "metadata": {},
     "output_type": "execute_result"
    }
   ],
   "source": [
    "ts[\"2023-03-03\"]"
   ]
  },
  {
   "cell_type": "code",
   "execution_count": 17,
   "metadata": {},
   "outputs": [
    {
     "data": {
      "text/plain": [
       "0.4872299787266356"
      ]
     },
     "execution_count": 17,
     "metadata": {},
     "output_type": "execute_result"
    }
   ],
   "source": [
    "ts.loc[\"2023-03-03\"]"
   ]
  },
  {
   "attachments": {},
   "cell_type": "markdown",
   "metadata": {},
   "source": [
    "- slicing"
   ]
  },
  {
   "cell_type": "code",
   "execution_count": 19,
   "metadata": {
    "scrolled": true,
    "slideshow": {
     "slide_type": "fragment"
    }
   },
   "outputs": [
    {
     "data": {
      "text/plain": [
       "2023-03-03    0.487230\n",
       "2023-03-06    0.527615\n",
       "2023-03-07   -0.587391\n",
       "2023-03-08   -0.527284\n",
       "2023-03-09   -0.347808\n",
       "2023-03-10   -0.143150\n",
       "2023-03-13    1.037533\n",
       "2023-03-14   -0.170931\n",
       "2023-03-15    0.077533\n",
       "2023-03-16   -0.979761\n",
       "2023-03-17   -0.225371\n",
       "2023-03-20    1.309143\n",
       "2023-03-21   -0.611646\n",
       "2023-03-22   -0.785010\n",
       "2023-03-23    0.640952\n",
       "2023-03-24    0.360544\n",
       "2023-03-27   -0.820640\n",
       "2023-03-28    0.106317\n",
       "2023-03-29    1.364270\n",
       "2023-03-30   -0.490908\n",
       "Freq: B, dtype: float64"
      ]
     },
     "execution_count": 19,
     "metadata": {},
     "output_type": "execute_result"
    }
   ],
   "source": [
    "ts[\"2023-03-03\":\"2023-03-30\"]"
   ]
  },
  {
   "cell_type": "code",
   "execution_count": 20,
   "metadata": {},
   "outputs": [
    {
     "data": {
      "text/plain": [
       "2023-03-03    0.487230\n",
       "2023-03-06    0.527615\n",
       "2023-03-07   -0.587391\n",
       "2023-03-08   -0.527284\n",
       "2023-03-09   -0.347808\n",
       "2023-03-10   -0.143150\n",
       "2023-03-13    1.037533\n",
       "2023-03-14   -0.170931\n",
       "2023-03-15    0.077533\n",
       "2023-03-16   -0.979761\n",
       "2023-03-17   -0.225371\n",
       "2023-03-20    1.309143\n",
       "2023-03-21   -0.611646\n",
       "2023-03-22   -0.785010\n",
       "2023-03-23    0.640952\n",
       "2023-03-24    0.360544\n",
       "2023-03-27   -0.820640\n",
       "2023-03-28    0.106317\n",
       "2023-03-29    1.364270\n",
       "2023-03-30   -0.490908\n",
       "Freq: B, dtype: float64"
      ]
     },
     "execution_count": 20,
     "metadata": {},
     "output_type": "execute_result"
    }
   ],
   "source": [
    "ts.loc[\"2023-03-03\":\"2023-03-30\"]"
   ]
  },
  {
   "attachments": {},
   "cell_type": "markdown",
   "metadata": {
    "slideshow": {
     "slide_type": "slide"
    }
   },
   "source": [
    "- 달별 선택"
   ]
  },
  {
   "cell_type": "code",
   "execution_count": 21,
   "metadata": {
    "slideshow": {
     "slide_type": "fragment"
    }
   },
   "outputs": [
    {
     "data": {
      "text/plain": [
       "2023-02-01    2.183902\n",
       "2023-02-02   -0.286083\n",
       "2023-02-03    1.283730\n",
       "2023-02-06    0.570529\n",
       "2023-02-07    0.769769\n",
       "2023-02-08   -0.529443\n",
       "2023-02-09   -0.061445\n",
       "2023-02-10    0.115779\n",
       "2023-02-13    0.827117\n",
       "2023-02-14    1.563864\n",
       "2023-02-15   -0.090980\n",
       "2023-02-16    1.316093\n",
       "2023-02-17    0.372805\n",
       "2023-02-20   -0.267115\n",
       "2023-02-21   -1.963469\n",
       "2023-02-22   -1.499895\n",
       "2023-02-23   -0.003393\n",
       "2023-02-24    1.192385\n",
       "2023-02-27   -0.566533\n",
       "2023-02-28    0.579358\n",
       "Freq: B, dtype: float64"
      ]
     },
     "execution_count": 21,
     "metadata": {},
     "output_type": "execute_result"
    }
   ],
   "source": [
    "#time series의 장점\n",
    "ts[\"2023-02\"]"
   ]
  },
  {
   "attachments": {},
   "cell_type": "markdown",
   "metadata": {
    "slideshow": {
     "slide_type": "slide"
    }
   },
   "source": [
    "- 연별 선택"
   ]
  },
  {
   "cell_type": "code",
   "execution_count": 22,
   "metadata": {
    "slideshow": {
     "slide_type": "fragment"
    }
   },
   "outputs": [
    {
     "data": {
      "text/plain": [
       "2023-01-02   -0.011498\n",
       "2023-01-03   -0.085123\n",
       "2023-01-04    0.075910\n",
       "2023-01-05   -1.649279\n",
       "2023-01-06   -0.751812\n",
       "                ...   \n",
       "2023-12-25   -0.753418\n",
       "2023-12-26   -0.013732\n",
       "2023-12-27   -1.280078\n",
       "2023-12-28   -0.891287\n",
       "2023-12-29    1.178680\n",
       "Freq: B, Length: 260, dtype: float64"
      ]
     },
     "execution_count": 22,
     "metadata": {},
     "output_type": "execute_result"
    }
   ],
   "source": [
    "ts[\"2023\"]"
   ]
  },
  {
   "attachments": {},
   "cell_type": "markdown",
   "metadata": {
    "slideshow": {
     "slide_type": "slide"
    }
   },
   "source": [
    "## 시계열 데이터의 이동 \n",
    "- `shift()` 를 이용해 이동할 수 있다. \n",
    "- [참고](https://towardsdatascience.com/all-the-pandas-shift-you-should-know-for-data-analysis-791c1692b5e)"
   ]
  },
  {
   "attachments": {},
   "cell_type": "markdown",
   "metadata": {
    "slideshow": {
     "slide_type": "slide"
    }
   },
   "source": [
    "### Lagging(후행)"
   ]
  },
  {
   "cell_type": "code",
   "execution_count": 23,
   "metadata": {},
   "outputs": [
    {
     "data": {
      "text/plain": [
       "2023-01-02   -0.011498\n",
       "2023-01-03   -0.085123\n",
       "2023-01-04    0.075910\n",
       "2023-01-30    1.681411\n",
       "2023-01-31    1.157154\n",
       "dtype: float64"
      ]
     },
     "execution_count": 23,
     "metadata": {},
     "output_type": "execute_result"
    }
   ],
   "source": [
    "ts[\"2023-01\"].iloc[[0,1,2,-2,-1]] #0은 1월 2일 1은 1월 3일 2는 1월 4일 / -1은 마지막날 -2는 마지막 전 날"
   ]
  },
  {
   "cell_type": "code",
   "execution_count": 24,
   "metadata": {},
   "outputs": [],
   "source": [
    "ts2k1m=ts[\"2023-01\"].copy()"
   ]
  },
  {
   "cell_type": "code",
   "execution_count": 26,
   "metadata": {},
   "outputs": [
    {
     "data": {
      "text/plain": [
       "2023-01-02   -0.011498\n",
       "2023-01-03   -0.085123\n",
       "2023-01-04    0.075910\n",
       "2023-01-05   -1.649279\n",
       "2023-01-06   -0.751812\n",
       "Freq: B, dtype: float64"
      ]
     },
     "execution_count": 26,
     "metadata": {},
     "output_type": "execute_result"
    }
   ],
   "source": [
    "ts.head()"
   ]
  },
  {
   "cell_type": "code",
   "execution_count": 27,
   "metadata": {},
   "outputs": [
    {
     "data": {
      "text/plain": [
       "2023-01-02         NaN\n",
       "2023-01-03   -0.011498\n",
       "2023-01-04   -0.085123\n",
       "2023-01-05    0.075910\n",
       "2023-01-06   -1.649279\n",
       "Freq: B, dtype: float64"
      ]
     },
     "execution_count": 27,
     "metadata": {},
     "output_type": "execute_result"
    }
   ],
   "source": [
    "ts2k1m.shift(1).head() #shift를 하면 뒤로 한칸식 넘어가는 거임, 후행 이동"
   ]
  },
  {
   "attachments": {},
   "cell_type": "markdown",
   "metadata": {
    "slideshow": {
     "slide_type": "slide"
    }
   },
   "source": [
    "### Leading(선행)"
   ]
  },
  {
   "cell_type": "code",
   "execution_count": 30,
   "metadata": {},
   "outputs": [
    {
     "data": {
      "text/plain": [
       "2023-01-25   -0.467345\n",
       "2023-01-26   -1.724383\n",
       "2023-01-27   -0.858197\n",
       "2023-01-30    1.681411\n",
       "2023-01-31    1.157154\n",
       "Freq: B, dtype: float64"
      ]
     },
     "execution_count": 30,
     "metadata": {},
     "output_type": "execute_result"
    }
   ],
   "source": [
    "ts[\"2023-01\"].tail()"
   ]
  },
  {
   "cell_type": "code",
   "execution_count": null,
   "metadata": {},
   "outputs": [],
   "source": [
    "# 시계열 데이터\n",
    "# 주가 : 앞의... 이어서"
   ]
  },
  {
   "cell_type": "code",
   "execution_count": 29,
   "metadata": {},
   "outputs": [
    {
     "data": {
      "text/plain": [
       "2023-01-25   -1.724383\n",
       "2023-01-26   -0.858197\n",
       "2023-01-27    1.681411\n",
       "2023-01-30    1.157154\n",
       "2023-01-31         NaN\n",
       "Freq: B, dtype: float64"
      ]
     },
     "execution_count": 29,
     "metadata": {},
     "output_type": "execute_result"
    }
   ],
   "source": [
    "ts2k1m.shift(-1).tail() # shift(-1)은 앞으로 한칸 땡김"
   ]
  },
  {
   "attachments": {},
   "cell_type": "markdown",
   "metadata": {
    "slideshow": {
     "slide_type": "slide"
    }
   },
   "source": [
    "## 간격 재조정\n",
    "- `resample` : 시간 간격을 재조정하는 resampling 가능"
   ]
  },
  {
   "cell_type": "code",
   "execution_count": 31,
   "metadata": {
    "slideshow": {
     "slide_type": "fragment"
    }
   },
   "outputs": [],
   "source": [
    "dts = pd.date_range('2023-01-01', '2023-12-31', freq=\"D\")"
   ]
  },
  {
   "cell_type": "code",
   "execution_count": 32,
   "metadata": {},
   "outputs": [],
   "source": [
    "ts_2= pd.Series(np.random.randn(len(dts)), index=dts)"
   ]
  },
  {
   "cell_type": "code",
   "execution_count": 34,
   "metadata": {},
   "outputs": [],
   "source": [
    "grp =ts_2.resample(\"M\") #reampling은 as 쓰면 된다.. 인터넷에 검색할때에는 pandas resample Alias 라고 검색하면 된다."
   ]
  },
  {
   "cell_type": "code",
   "execution_count": 36,
   "metadata": {},
   "outputs": [
    {
     "data": {
      "text/plain": [
       "2023-01-31    12.944141\n",
       "2023-02-28    -2.743348\n",
       "2023-03-31     0.733435\n",
       "2023-04-30    13.682413\n",
       "2023-05-31     2.052528\n",
       "2023-06-30     4.679405\n",
       "2023-07-31     9.142230\n",
       "2023-08-31    -5.928521\n",
       "2023-09-30     4.279923\n",
       "2023-10-31    -4.930352\n",
       "2023-11-30     1.277475\n",
       "2023-12-31     1.138060\n",
       "Freq: M, dtype: float64"
      ]
     },
     "execution_count": 36,
     "metadata": {},
     "output_type": "execute_result"
    }
   ],
   "source": [
    "grp.sum() # 마지막 날을 기준으로"
   ]
  },
  {
   "attachments": {},
   "cell_type": "markdown",
   "metadata": {
    "slideshow": {
     "slide_type": "slide"
    }
   },
   "source": [
    "- Resampling은 groupby와 비슷하게 동작한다. "
   ]
  },
  {
   "cell_type": "code",
   "execution_count": 37,
   "metadata": {},
   "outputs": [
    {
     "data": {
      "text/html": [
       "<div>\n",
       "<style scoped>\n",
       "    .dataframe tbody tr th:only-of-type {\n",
       "        vertical-align: middle;\n",
       "    }\n",
       "\n",
       "    .dataframe tbody tr th {\n",
       "        vertical-align: top;\n",
       "    }\n",
       "\n",
       "    .dataframe thead th {\n",
       "        text-align: right;\n",
       "    }\n",
       "</style>\n",
       "<table border=\"1\" class=\"dataframe\">\n",
       "  <thead>\n",
       "    <tr style=\"text-align: right;\">\n",
       "      <th></th>\n",
       "      <th>mean</th>\n",
       "      <th>sum</th>\n",
       "    </tr>\n",
       "  </thead>\n",
       "  <tbody>\n",
       "    <tr>\n",
       "      <th>2023-01-31</th>\n",
       "      <td>0.417553</td>\n",
       "      <td>12.944141</td>\n",
       "    </tr>\n",
       "    <tr>\n",
       "      <th>2023-02-28</th>\n",
       "      <td>-0.097977</td>\n",
       "      <td>-2.743348</td>\n",
       "    </tr>\n",
       "    <tr>\n",
       "      <th>2023-03-31</th>\n",
       "      <td>0.023659</td>\n",
       "      <td>0.733435</td>\n",
       "    </tr>\n",
       "    <tr>\n",
       "      <th>2023-04-30</th>\n",
       "      <td>0.456080</td>\n",
       "      <td>13.682413</td>\n",
       "    </tr>\n",
       "    <tr>\n",
       "      <th>2023-05-31</th>\n",
       "      <td>0.066211</td>\n",
       "      <td>2.052528</td>\n",
       "    </tr>\n",
       "    <tr>\n",
       "      <th>2023-06-30</th>\n",
       "      <td>0.155980</td>\n",
       "      <td>4.679405</td>\n",
       "    </tr>\n",
       "    <tr>\n",
       "      <th>2023-07-31</th>\n",
       "      <td>0.294911</td>\n",
       "      <td>9.142230</td>\n",
       "    </tr>\n",
       "    <tr>\n",
       "      <th>2023-08-31</th>\n",
       "      <td>-0.191243</td>\n",
       "      <td>-5.928521</td>\n",
       "    </tr>\n",
       "    <tr>\n",
       "      <th>2023-09-30</th>\n",
       "      <td>0.142664</td>\n",
       "      <td>4.279923</td>\n",
       "    </tr>\n",
       "    <tr>\n",
       "      <th>2023-10-31</th>\n",
       "      <td>-0.159044</td>\n",
       "      <td>-4.930352</td>\n",
       "    </tr>\n",
       "    <tr>\n",
       "      <th>2023-11-30</th>\n",
       "      <td>0.042582</td>\n",
       "      <td>1.277475</td>\n",
       "    </tr>\n",
       "    <tr>\n",
       "      <th>2023-12-31</th>\n",
       "      <td>0.036712</td>\n",
       "      <td>1.138060</td>\n",
       "    </tr>\n",
       "  </tbody>\n",
       "</table>\n",
       "</div>"
      ],
      "text/plain": [
       "                mean        sum\n",
       "2023-01-31  0.417553  12.944141\n",
       "2023-02-28 -0.097977  -2.743348\n",
       "2023-03-31  0.023659   0.733435\n",
       "2023-04-30  0.456080  13.682413\n",
       "2023-05-31  0.066211   2.052528\n",
       "2023-06-30  0.155980   4.679405\n",
       "2023-07-31  0.294911   9.142230\n",
       "2023-08-31 -0.191243  -5.928521\n",
       "2023-09-30  0.142664   4.279923\n",
       "2023-10-31 -0.159044  -4.930352\n",
       "2023-11-30  0.042582   1.277475\n",
       "2023-12-31  0.036712   1.138060"
      ]
     },
     "execution_count": 37,
     "metadata": {},
     "output_type": "execute_result"
    }
   ],
   "source": [
    "grp.agg([\"mean\",\"sum\"])"
   ]
  },
  {
   "cell_type": "code",
   "execution_count": null,
   "metadata": {
    "slideshow": {
     "slide_type": "fragment"
    }
   },
   "outputs": [],
   "source": []
  },
  {
   "attachments": {},
   "cell_type": "markdown",
   "metadata": {},
   "source": [
    "## dt접근자\n",
    "- datetime 자료형 시리즈에는 dt 접근자존재\n",
    "- datetime 자료형이 가진 몇가지 유용한 속성과 메서드를 사용할"
   ]
  },
  {
   "cell_type": "code",
   "execution_count": 38,
   "metadata": {},
   "outputs": [
    {
     "data": {
      "text/plain": [
       "0      2023년01월02일\n",
       "1      2023년01월03일\n",
       "2      2023년01월04일\n",
       "3      2023년01월05일\n",
       "4      2023년01월06일\n",
       "          ...     \n",
       "255    2023년12월25일\n",
       "256    2023년12월26일\n",
       "257    2023년12월27일\n",
       "258    2023년12월28일\n",
       "259    2023년12월29일\n",
       "Length: 260, dtype: object"
      ]
     },
     "execution_count": 38,
     "metadata": {},
     "output_type": "execute_result"
    }
   ],
   "source": [
    "pd.Series(ts.index).dt.strftime(\"%Y년%m월%d일\")"
   ]
  },
  {
   "cell_type": "code",
   "execution_count": null,
   "metadata": {},
   "outputs": [],
   "source": []
  }
 ],
 "metadata": {
  "celltoolbar": "Slideshow",
  "kernelspec": {
   "display_name": "Python 3 (ipykernel)",
   "language": "python",
   "name": "python3"
  },
  "language_info": {
   "codemirror_mode": {
    "name": "ipython",
    "version": 3
   },
   "file_extension": ".py",
   "mimetype": "text/x-python",
   "name": "python",
   "nbconvert_exporter": "python",
   "pygments_lexer": "ipython3",
   "version": "3.9.16"
  },
  "toc": {
   "base_numbering": 1,
   "nav_menu": {},
   "number_sections": false,
   "sideBar": true,
   "skip_h1_title": true,
   "title_cell": "Table of Contents",
   "title_sidebar": "Contents",
   "toc_cell": false,
   "toc_position": {
    "height": "calc(100% - 180px)",
    "left": "10px",
    "top": "150px",
    "width": "384px"
   },
   "toc_section_display": true,
   "toc_window_display": true
  }
 },
 "nbformat": 4,
 "nbformat_minor": 4
}
