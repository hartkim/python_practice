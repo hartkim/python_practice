{
 "cells": [
  {
   "cell_type": "code",
   "execution_count": null,
   "metadata": {},
   "outputs": [],
   "source": [
    "# 모듈 실습\n",
    "\n",
    "# mkdir module_lab 으로 디렉터리를 만드세요\n",
    "# module1.py, main.py 두가지 파이썬 파일을 만들어 보세요 #touch 로 만든다\n",
    "# module1.py  FIFO class를 작성하세요\n",
    "#               fifo_1 = FIFO()\n",
    "#               fifo_1.enqueue(\"2344\")를 이용해 추가\n",
    "#               print(fifo_1)\n",
    "\n",
    "\n",
    "# python module1.py를 실행했을 때\n",
    "# FIFO class를 import 할 수 있도록 작성하세요\n",
    "#               fifo_1 = FIFO()\n",
    "#               fifo_1.enqueue(\"5814584\")를 이용해 추가\n",
    "#               print(fifo_1)"
   ]
  },
  {
   "attachments": {},
   "cell_type": "markdown",
   "metadata": {},
   "source": [
    "## 파이썬 프로젝트 구조\n",
    "\n",
    "# 파이썬 프로젝트 구조\n",
    "```\n",
    "|\n",
    "|---package_1/\n",
    "|       |--- module_1.py\n",
    "|       |--- module_2.py\n",
    "|       |--- __init__.py #파이썬 디렉터리를 패키지로 취급할수 있도록 선언 \n",
    "|           inint은 디렉토리 자체를 모듈화를 시키겠다 라는 뜻으로 사용을 한다. 예전에는 없으면 동작안했는데 요새는 동작이 된다.\n",
    "|---package_2/\n",
    "|       |--- module_1.py\n",
    "|       |--- module_2.py\n",
    "|       |--- __init__.py #파이썬 디렉터리를 패키지로 취급할수 있도록 선언\n",
    "|\n",
    "|---main.py()\n",
    "```\n"
   ]
  },
  {
   "cell_type": "code",
   "execution_count": null,
   "metadata": {},
   "outputs": [],
   "source": [
    "# \".\" : ~~의 하위요소\n",
    "\n",
    "# 내장모듈\n",
    "# OS 모듈\n",
    "# datetime 모듈 / 날짜,시간 같이나옴\n",
    "# time 모듈 / 시간 나옴\n"
   ]
  },
  {
   "cell_type": "code",
   "execution_count": null,
   "metadata": {},
   "outputs": [],
   "source": [
    "import os\n",
    "\n",
    "# 1. 현재 디렉터리의 요소를 읽어서 디렉터리인지 파일인지 확인하도록 작성해 보세요\n",
    "for i in os.listdir(\"/home/user\"):\n",
    "    if os.path.isdir(\"/home/user/\"): #dir인지 아닌지 구분해주는 함수\n",
    "        print([i],\"directory\")\n",
    "    elif os.path.isfile(\"/home/user/\"):\n",
    "        print([i],\"file\")\n"
   ]
  },
  {
   "cell_type": "code",
   "execution_count": 17,
   "metadata": {},
   "outputs": [],
   "source": [
    "# 강사님 답\n",
    "import os\n",
    "# 현재 디렉터리(윈도우에서 폴더)의 요소를 구분해 출력\n",
    "def read_dir(path= \"/home/user/\"): #path = 디폴드 값\n",
    "    outputs = os.listdir(path)\n",
    "    for i in outputs:\n",
    "        file_path = os.path.join(path,i)\n",
    "        if os.path.isdir(file_path):\n",
    "            print(f\"디렉터리 :{file_path}\")\n",
    "        else:\n",
    "            print(f\"파일 :{file_path}\")"
   ]
  },
  {
   "cell_type": "code",
   "execution_count": 19,
   "metadata": {},
   "outputs": [],
   "source": [
    "path = \"/home/user/\"\n"
   ]
  },
  {
   "cell_type": "code",
   "execution_count": 20,
   "metadata": {},
   "outputs": [
    {
     "data": {
      "text/plain": [
       "'/home/user/anaconda'"
      ]
     },
     "execution_count": 20,
     "metadata": {},
     "output_type": "execute_result"
    }
   ],
   "source": [
    "i = \"anaconda\"\n",
    "os.path.join(path,i)"
   ]
  },
  {
   "cell_type": "code",
   "execution_count": 30,
   "metadata": {},
   "outputs": [],
   "source": [
    "# 2. 재귀 함수를 이용해 하위 디렉터리에 어떤 내용이 존재하는지 출력해보세요\n",
    "# 강사님 답\n",
    "\n",
    "import os\n",
    "\n",
    "# 현재 디렉터리 의 요소를 구분하여 출력\n",
    "\n",
    "def read_dir(path=\"/home/user/\", indent_level=0): #path = 디폴드 값\n",
    "    outputs = os.listdir(path)\n",
    "\n",
    "    directorys = sorted([directory for directory in outputs if os.path.isdir(os.path.join(path, directory)) ])\n",
    "    files = sorted([fi for fi in outputs if os.path.isfile(os.path.join(path, fi)) ])\n",
    "\n",
    "    for i in directorys:\n",
    "        file_path = os.path.join(path,i)\n",
    "        print(\" \" * indent_level, f\"디렉터리: {file_path}\")\n",
    "        read_dir(file_path, indent_level + 1)\n",
    "    \n",
    "    for i in files:\n",
    "        print(\"  \" * indent_level, f\"파일: {i}\")"
   ]
  },
  {
   "cell_type": "code",
   "execution_count": 32,
   "metadata": {},
   "outputs": [
    {
     "name": "stdout",
     "output_type": "stream",
     "text": [
      " 디렉터리: /home/user/tuto/day7\n",
      "   파일: main.py\n",
      "   파일: module1.py\n",
      " 디렉터리: /home/user/tuto/module_lab\n",
      "  디렉터리: /home/user/tuto/module_lab/__pycache__\n",
      "     파일: module1.cpython-310.pyc\n",
      "   파일: main.py\n",
      "   파일: module1.py\n",
      " 파일: day6.ipynb\n",
      " 파일: day6home.ipynb\n"
     ]
    }
   ],
   "source": [
    "read_dir(\"/home/user/tuto\")"
   ]
  },
  {
   "cell_type": "code",
   "execution_count": null,
   "metadata": {},
   "outputs": [],
   "source": []
  }
 ],
 "metadata": {
  "kernelspec": {
   "display_name": "tuto",
   "language": "python",
   "name": "python3"
  },
  "language_info": {
   "codemirror_mode": {
    "name": "ipython",
    "version": 3
   },
   "file_extension": ".py",
   "mimetype": "text/x-python",
   "name": "python",
   "nbconvert_exporter": "python",
   "pygments_lexer": "ipython3",
   "version": "3.10.11"
  },
  "orig_nbformat": 4
 },
 "nbformat": 4,
 "nbformat_minor": 2
}
