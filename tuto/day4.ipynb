{
 "cells": [
  {
   "cell_type": "code",
   "execution_count": 5,
   "metadata": {},
   "outputs": [
    {
     "name": "stdout",
     "output_type": "stream",
     "text": [
      "a:1\n",
      "acc :2\n",
      "a:2\n",
      "acc :4\n",
      "a:3\n",
      "acc :8\n",
      "a:4\n",
      "acc :16\n",
      "a:5\n",
      "acc :32\n",
      "a:6\n",
      "acc :64\n",
      "a:7\n",
      "acc :128\n",
      "a:8\n",
      "acc :256\n",
      "a:9\n",
      "acc :512\n",
      "a:10\n",
      "acc :1024\n"
     ]
    }
   ],
   "source": [
    "# while 문을 이용해서 2의 10제곱을 구하도록 작성\n",
    "\n",
    "# n = 1\n",
    "# while n <10:\n",
    "#     n = n+1\n",
    "#     print(2**n) \n",
    "\n",
    "\n",
    "# 강사님코드, 카운팅과 곱한숫자 해서 2개의 초기화가 필요함\n",
    "\n",
    "a = 0\n",
    "acc = 1\n",
    "while a <10:\n",
    "    a += 1\n",
    "    acc *= 2\n",
    "    print(f\"a:{a}\")\n",
    "    print(f\"acc :{acc}\")"
   ]
  },
  {
   "cell_type": "code",
   "execution_count": 7,
   "metadata": {},
   "outputs": [
    {
     "name": "stdout",
     "output_type": "stream",
     "text": [
      "1\n",
      "2\n",
      "1\n",
      "2\n",
      "1\n",
      "2\n"
     ]
    }
   ],
   "source": [
    "# continue \n",
    "# 강제로 loop를 돌게 만드는 예약어\n",
    "# 조건문의 처음으로 돌아간다 (대신 조건은 그대로 이어받음)\n",
    "\n",
    "# break\n",
    "# 반복문을 빠져 나올때 사용한다.\n",
    "# 같은 코드블럭에게 영향을 주는 범위이다.\n",
    "\n",
    "\n",
    "for i in range(3):\n",
    "    print(\"1\")\n",
    "    # break\n",
    "    for j in range(3):\n",
    "        print(\"2\")\n",
    "        break"
   ]
  },
  {
   "cell_type": "code",
   "execution_count": 14,
   "metadata": {},
   "outputs": [
    {
     "name": "stdout",
     "output_type": "stream",
     "text": [
      "1<3\n",
      "2<3\n",
      "3<10\n",
      "3\n",
      "4<10\n",
      "4\n",
      "5<10\n",
      "5\n",
      "6<10\n",
      "6\n",
      "7<10\n",
      "7\n",
      "8<10\n",
      "8\n",
      "9<10\n",
      "9\n",
      "10\n",
      "11\n",
      "12\n",
      "13\n",
      "14\n",
      "15\n",
      "else break\n",
      "done\n"
     ]
    }
   ],
   "source": [
    "a = 0\n",
    "while a <15:\n",
    "    a += 1\n",
    "    if a <3:\n",
    "        print(f\"{a}<3\")\n",
    "        continue # a라는 조건을 그대로 가져가서 위로 올라간다.\n",
    "    if a <10:\n",
    "        print(f\"{a}<10\")\n",
    "        # break # while a<15:에 영향을 줘서 탈출\n",
    "    print(f\"{a}\") # a가 10이 되면 그때부터 실행\n",
    "\n",
    "else:\n",
    "    print(\"else break\")\n",
    "\n",
    "print(\"done\")"
   ]
  },
  {
   "cell_type": "code",
   "execution_count": 15,
   "metadata": {},
   "outputs": [],
   "source": [
    "# with\n",
    "# 어떤 연산들 사이의 작업을 수행할때 사용한다.\n",
    "# 파일 열기 open() - close()\n",
    "# save() - restore()\n",
    "\n",
    "! echo \"hello world\" > testfile.txt"
   ]
  },
  {
   "cell_type": "code",
   "execution_count": 17,
   "metadata": {},
   "outputs": [],
   "source": [
    "f = open(\"./testfile.txt\", \"w\")"
   ]
  },
  {
   "cell_type": "code",
   "execution_count": 18,
   "metadata": {},
   "outputs": [
    {
     "data": {
      "text/plain": [
       "<_io.TextIOWrapper name='./testfile.txt' mode='w' encoding='UTF-8'>"
      ]
     },
     "execution_count": 18,
     "metadata": {},
     "output_type": "execute_result"
    }
   ],
   "source": [
    "f"
   ]
  },
  {
   "cell_type": "code",
   "execution_count": 20,
   "metadata": {},
   "outputs": [],
   "source": [
    "f.write(\"hi\")\n",
    "f.close()"
   ]
  },
  {
   "cell_type": "code",
   "execution_count": 21,
   "metadata": {},
   "outputs": [],
   "source": [
    "with open(\"./testfile.txt\",\"w\") as f: # with로 만들어지는 객체는 f로 할당하겠다!\n",
    "    f.write(\"hello ~~\") # with가 open과 close 사이에 필요한 작업을 수행\n",
    "    # 동작을 수행할 때 준비작업 수행, 종료시 수행하는 정리 작업을 함께 수행한다."
   ]
  },
  {
   "cell_type": "code",
   "execution_count": 22,
   "metadata": {},
   "outputs": [],
   "source": [
    "# Try~except\n",
    "# 프로그램에서 예외 상황이 발생하여 프로그램이 종료되는 상황 -> 에러메세지에 따라서 종료 또는 다른 문장을 수행할 수 있도록 만들어준다.\n",
    "\n",
    "str_1 = \"hello_world\""
   ]
  },
  {
   "cell_type": "code",
   "execution_count": 25,
   "metadata": {},
   "outputs": [
    {
     "name": "stdout",
     "output_type": "stream",
     "text": [
      "ValueError가 발생했습니다.\n",
      "숫자로 입력하세요\n"
     ]
    }
   ],
   "source": [
    "try:\n",
    "    int(str_1)\n",
    "except ValueError:\n",
    "    print(\"ValueError가 발생했습니다.\")\n",
    "    print(\"숫자로 입력하세요\")"
   ]
  },
  {
   "cell_type": "code",
   "execution_count": null,
   "metadata": {},
   "outputs": [],
   "source": [
    "# for or while 문으로 작성하세요\n",
    "\n",
    "'''\n",
    "구구단을 다음과 같이 출력하세요\n",
    "2 * 1 = 2   3 * 1 = 3\n",
    "2 * 2 = 4   3 * 2 = 6 .....\n",
    "'''\n",
    "for i in range(2,)\n",
    "\n"
   ]
  },
  {
   "cell_type": "code",
   "execution_count": null,
   "metadata": {},
   "outputs": [],
   "source": [
    "for i in range(1,10):\n",
    "    print(f\"==={i}단===\")\n",
    "    for j in range(1,10):\n",
    "        print(f\"{i}x{j} = {i*j}\")"
   ]
  },
  {
   "cell_type": "code",
   "execution_count": 63,
   "metadata": {},
   "outputs": [
    {
     "name": "stdout",
     "output_type": "stream",
     "text": [
      "2 *1 = 2\t3 *1 = 3\t4 *1 = 4\t5 *1 = 5\t6 *1 = 6\t7 *1 = 7\t8 *1 = 8\t9 *1 = 9\t\n",
      "2 *2 = 4\t3 *2 = 6\t4 *2 = 8\t5 *2 = 10\t6 *2 = 12\t7 *2 = 14\t8 *2 = 16\t9 *2 = 18\t\n",
      "2 *3 = 6\t3 *3 = 9\t4 *3 = 12\t5 *3 = 15\t6 *3 = 18\t7 *3 = 21\t8 *3 = 24\t9 *3 = 27\t\n",
      "2 *4 = 8\t3 *4 = 12\t4 *4 = 16\t5 *4 = 20\t6 *4 = 24\t7 *4 = 28\t8 *4 = 32\t9 *4 = 36\t\n",
      "2 *5 = 10\t3 *5 = 15\t4 *5 = 20\t5 *5 = 25\t6 *5 = 30\t7 *5 = 35\t8 *5 = 40\t9 *5 = 45\t\n",
      "2 *6 = 12\t3 *6 = 18\t4 *6 = 24\t5 *6 = 30\t6 *6 = 36\t7 *6 = 42\t8 *6 = 48\t9 *6 = 54\t\n",
      "2 *7 = 14\t3 *7 = 21\t4 *7 = 28\t5 *7 = 35\t6 *7 = 42\t7 *7 = 49\t8 *7 = 56\t9 *7 = 63\t\n",
      "2 *8 = 16\t3 *8 = 24\t4 *8 = 32\t5 *8 = 40\t6 *8 = 48\t7 *8 = 56\t8 *8 = 64\t9 *8 = 72\t\n",
      "2 *9 = 18\t3 *9 = 27\t4 *9 = 36\t5 *9 = 45\t6 *9 = 54\t7 *9 = 63\t8 *9 = 72\t9 *9 = 81\t\n"
     ]
    }
   ],
   "source": [
    "# for i in range(1,10):\n",
    "#     for j in range(2,10):\n",
    "#         print(f\"{j} *{ i} = {j*i}\", end='\\t')\n",
    "#         if j ==9:\n",
    "#             print(\"\")\n",
    "\n",
    "\n",
    "\n",
    "for i in range(1,10): #1 / 2 / ....\n",
    "    for j in range(2,10): # 2,3,4,5,6,7,8,9 / 2,3,4,5,6,7,8,9 / ....\n",
    "        print(f\"{j} *{ i} = {j*i}\", end='\\t')\n",
    "    print(\"\") # 굳이 if 안해도 print(\"\")만 쓰면 한 루프가 끝났을 때 \"\"가 실행돼서 동일한 결과가 나온다."
   ]
  },
  {
   "cell_type": "code",
   "execution_count": 65,
   "metadata": {},
   "outputs": [
    {
     "name": "stdout",
     "output_type": "stream",
     "text": [
      "숫자를 맞춰봐\n",
      "숫자가 작습니다.\n",
      "숫자가 작습니다.\n",
      "숫자가 작습니다.\n",
      "숫자가 작습니다.\n",
      "숫자가 작습니다.\n",
      "숫자가 큽니다.\n",
      "숫자가 큽니다.\n",
      "숫자가 큽니다.\n",
      "숫자가 작습니다.\n",
      "숫자가 큽니다.\n",
      "숫자가 큽니다.\n",
      "숫자가 큽니다.\n",
      "61, 정답입니다.\n"
     ]
    }
   ],
   "source": [
    "'''\n",
    "up & down 게임을 만들어보세요\n",
    "import random\n",
    "random.randint() 숫자를 랜덤하게 뽑아주는 함수\n",
    "\n",
    "숫자를 맞춰봐\n",
    "몇일까? 31\n",
    "숫자가 작습니다\n",
    "다시맞춰봐 31\n",
    "숫자가 작습니다.\n",
    "다시맞춰봐 21\n",
    "맞췄습니다.\n",
    "\n",
    "'''\n",
    "\n",
    "# 컴퓨터가 진짜랜덤으로 뽑을 수 있을까? 아니! 랜덤으로 뽑을 수 없다. 랜덤으로 뽑는 로직이 있다.\n",
    "# 시드만 고정시키면 랜덤모듈을 돌려도 똑같은 값이 나온다.\n",
    "import random\n",
    "\n",
    "number = random.randint(1,100)\n",
    "print(\"숫자를 맞춰봐\")\n",
    "user_n = int(input(\"몇일까?\"))\n",
    "\n",
    "while (user_n != number): # 숫자가 틀린 경우 -> True True여야 돈다.\n",
    "    if number > user_n:\n",
    "        print(\"숫자가 작습니다.\")\n",
    "    else:\n",
    "        print(\"숫자가 큽니다.\")\n",
    "\n",
    "    user_n = int(input(\"몇일까?\"))\n",
    "else:\n",
    "    print(f\"{user_n}, 정답입니다.\")"
   ]
  },
  {
   "cell_type": "code",
   "execution_count": 48,
   "metadata": {},
   "outputs": [
    {
     "name": "stdout",
     "output_type": "stream",
     "text": [
      "신문 배달: 1002\n",
      "신문 배달: 1003\n",
      "신문 배달: 1004\n",
      "신문 배달: 1005\n",
      "신문 배달: 1006\n",
      "신문 배달: 2001\n",
      "신문 배달: 2002\n",
      "신문 배달: 2003\n",
      "신문 배달: 2004\n",
      "신문 배달: 2005\n",
      "신문 배달: 3001\n",
      "신문 배달: 3002\n",
      "신문 배달: 3003\n",
      "신문 배달: 3004\n",
      "신문 배달: 3006\n",
      "신문 배달: 4001\n",
      "신문 배달: 4002\n",
      "신문 배달: 4003\n",
      "신문 배달: 4005\n",
      "신문 배달: 4006\n"
     ]
    }
   ],
   "source": [
    "# 배달프로그램 작성, 단, 구독을 거부한 가구에는 배달되지 않아야합니다.\n",
    "apart = [1001,1002,1003,1004,1005,1006,2001,2002,2003,2004,2005,2006,3001,3002,3003,3004,3005,3006,4001,4002,4003,4004,4005,4006]\n",
    "refusal = [1001,2006,3005,4004] # 구독거부 가구\n",
    "\n",
    "# 내가 한 코드\n",
    "# for i in (apart):\n",
    "#     for j in (refusal):\n",
    "#         if i == j:\n",
    "#             apart.remove(i)\n",
    "#         else:\n",
    "#             continue\n",
    "#         print(f\"신문배달 :{apart}\")\n",
    "\n",
    "for door in apart:\n",
    "    if door in refusal:\n",
    "        continue\n",
    "    else:\n",
    "        print(f\"신문 배달: {door}\")\n",
    "\n",
    "\n",
    "\n",
    "for door in apart:\n",
    "    if door not in refusal:\n",
    "        print(f\"신문 배달: {door}\") "
   ]
  },
  {
   "cell_type": "code",
   "execution_count": 50,
   "metadata": {},
   "outputs": [
    {
     "data": {
      "text/plain": [
       "'가위'"
      ]
     },
     "execution_count": 50,
     "metadata": {},
     "output_type": "execute_result"
    }
   ],
   "source": [
    "# 가위바위보 랜덤뽑기\n",
    "\n",
    "# srp_list = []\n",
    "\n",
    "import random"
   ]
  },
  {
   "cell_type": "code",
   "execution_count": 63,
   "metadata": {},
   "outputs": [
    {
     "name": "stdout",
     "output_type": "stream",
     "text": [
      "비겼습니다.\n",
      "비겼습니다.\n",
      "비겼습니다.\n",
      "이겼다.\n",
      "비겼습니다.\n",
      "이겼다.\n",
      "이겼다.\n",
      "잘못내셨습니다.\n",
      "졌다\n",
      "비겼습니다.\n",
      "승리 :3, 패배 :1, 무승부 :5\n"
     ]
    }
   ],
   "source": [
    "srps = [\"가위\",\"바위\",\"보\"] \n",
    "srp_list = [random.choice(srps) for i in range(10)] # 이렇게 하면 10개의 값이 srp_list에 들어간다.\n",
    "# random.choice는 랜덤으로 값을 하나 뽑아주는 것\n",
    "win = 0\n",
    "lose = 0\n",
    "draw = 0\n",
    "for s in srp_list:\n",
    "    user_input = input(\"가위바위보\")#돌고 다시 받고 돌고 다시 받고 해야해서 for 문 안에 넣어줬다.\n",
    "    if user_input == s:\n",
    "        print(\"비겼습니다.\")\n",
    "        draw += 1\n",
    "    elif user_input == \"바위\":\n",
    "        if s == \"보\":\n",
    "            print(\"졌다\")\n",
    "            lose += 1\n",
    "        elif s == \"가위\":\n",
    "            print(\"이겼다.\")\n",
    "            win += 1\n",
    "    elif user_input == \"가위\":\n",
    "        if s == \"바위\":\n",
    "            print(\"졌다\")\n",
    "            lose += 1\n",
    "        elif s == \"보\":\n",
    "            print(\"이겼다.\")\n",
    "            win += 1\n",
    "    elif user_input == \"보\":\n",
    "        if s == \"가위\":\n",
    "            print(\"졌다\")\n",
    "            lose +=1\n",
    "        elif s == \"바위\":\n",
    "            print(\"이겼다.\")\n",
    "            win += 1\n",
    "    else:\n",
    "        print(\"잘못내셨습니다.\")\n",
    "        lose += 1\n",
    "print(f\"승리 :{win}, 패배 :{lose}, 무승부 :{draw}\")\n",
    "        "
   ]
  },
  {
   "cell_type": "code",
   "execution_count": 66,
   "metadata": {},
   "outputs": [
    {
     "name": "stdout",
     "output_type": "stream",
     "text": [
      "졌다.\n",
      "졌다.\n",
      "이겼다.\n",
      "졌다.\n",
      "졌다.\n",
      "졌다.\n",
      "졌다.\n",
      "졌다.\n",
      "졌다.\n",
      "졌다.\n",
      "잘못내셨어용\n",
      "승리:1,짐:10,비김:0\n"
     ]
    }
   ],
   "source": [
    "# 다른 방법이 없을까???\n",
    "# 3가지의 컨디션으로 나눠서 보자\n",
    "# 컨디션을 어떻게 주느냐에 따라 길고 잛아짐이 달라짐.\n",
    "\n",
    "srps = [\"가위\",\"바위\",\"보\"] \n",
    "srp_list = [random.choice(srps) for i in range(10)] # 이렇게 하면 10개의 값이 srp_list에 들어간다.\n",
    "# random.choice는 랜덤으로 값을 하나 뽑아주는 것\n",
    "win = 0\n",
    "lose = 0\n",
    "draw = 0\n",
    "for s in srp_list:  \n",
    "    user_input = input(\"가위바위보\")\n",
    "    if (user_input == \"가위\" and s ==\"보\") or (user_input ==\"바위\" and s ==\"가위\") or (user_input ==\"보\" and s ==\"바위\"):\n",
    "        print(\"이겼다.\")\n",
    "        win += 1\n",
    "    elif (user_input == s):\n",
    "        print(\"비겼다.\")\n",
    "        draw += 1\n",
    "    else:\n",
    "        print(\"졌다.\")\n",
    "        lose += 1\n",
    "\n",
    "print(f\"승리:{win},짐:{lose},비김:{draw}\")"
   ]
  },
  {
   "cell_type": "code",
   "execution_count": 69,
   "metadata": {},
   "outputs": [
    {
     "name": "stdout",
     "output_type": "stream",
     "text": [
      "1\n",
      "2\n"
     ]
    }
   ],
   "source": [
    "for i in range(1,3):\n",
    "    print(i)"
   ]
  },
  {
   "cell_type": "code",
   "execution_count": 71,
   "metadata": {},
   "outputs": [
    {
     "name": "stdout",
     "output_type": "stream",
     "text": [
      "12\n",
      "14\n",
      "16\n",
      "['12', '14', '16']\n"
     ]
    }
   ],
   "source": [
    "# 연습문제\n",
    "num = ['12','14','16']\n",
    "for i in num:\n",
    "    i = int(i)\n",
    "    print(i)\n",
    "print(num)"
   ]
  },
  {
   "cell_type": "code",
   "execution_count": 72,
   "metadata": {},
   "outputs": [
    {
     "name": "stdout",
     "output_type": "stream",
     "text": [
      "[3, 4.0]\n"
     ]
    }
   ],
   "source": [
    "number =[\"1\",2,3,float(4),str(5)]\n",
    "\n",
    "if number[4] ==5:\n",
    "    print(type(number[0]))\n",
    "elif number[3] ==4:\n",
    "    print(number[2:-1])\n",
    "\n"
   ]
  },
  {
   "cell_type": "code",
   "execution_count": 75,
   "metadata": {},
   "outputs": [
    {
     "name": "stdout",
     "output_type": "stream",
     "text": [
      "-5\n"
     ]
    }
   ],
   "source": [
    "result = 0\n",
    "for i in range(5,-5,-2):\n",
    "    if i < -3:\n",
    "        result += 1 \n",
    "    else:\n",
    "        result -= 1\n",
    "print(result)"
   ]
  },
  {
   "cell_type": "code",
   "execution_count": 82,
   "metadata": {},
   "outputs": [
    {
     "name": "stdout",
     "output_type": "stream",
     "text": [
      "986531\n"
     ]
    },
    {
     "name": "stderr",
     "output_type": "stream",
     "text": [
      "<>:5: SyntaxWarning: \"is\" with a literal. Did you mean \"==\"?\n",
      "<>:5: SyntaxWarning: \"is\" with a literal. Did you mean \"==\"?\n",
      "<>:5: SyntaxWarning: \"is\" with a literal. Did you mean \"==\"?\n",
      "<>:5: SyntaxWarning: \"is\" with a literal. Did you mean \"==\"?\n",
      "/tmp/ipykernel_597/2303718743.py:5: SyntaxWarning: \"is\" with a literal. Did you mean \"==\"?\n",
      "  elif i is 7 or i is 10:\n",
      "/tmp/ipykernel_597/2303718743.py:5: SyntaxWarning: \"is\" with a literal. Did you mean \"==\"?\n",
      "  elif i is 7 or i is 10:\n"
     ]
    }
   ],
   "source": [
    "num = \"\"\n",
    "for i in range(10):\n",
    "    if i <=5 and (i%2)==0:\n",
    "        continue\n",
    "    elif i is 7 or i is 10:\n",
    "        continue\n",
    "    else:\n",
    "        num = str(i) +num\n",
    "print(num)"
   ]
  },
  {
   "attachments": {},
   "cell_type": "markdown",
   "metadata": {},
   "source": [
    "연습문제"
   ]
  },
  {
   "attachments": {},
   "cell_type": "markdown",
   "metadata": {},
   "source": [
    "n! = n*n-1*n-2*....*3*2*1\n",
    "sig N = n+ n-1 + n-2 + ... + 3 + 2 + 1"
   ]
  },
  {
   "cell_type": "code",
   "execution_count": 87,
   "metadata": {},
   "outputs": [],
   "source": [
    "#1번\n",
    "def calculator(N):\n",
    "    if N % 2 == 0:\n",
    "        result = 1\n",
    "        for i in range(1, N + 1):\n",
    "            result = result * i\n",
    "    else:\n",
    "        result = 0\n",
    "        for i in range(1, N + 1):\n",
    "            result = result + i\n",
    "    return result"
   ]
  },
  {
   "cell_type": "code",
   "execution_count": 92,
   "metadata": {},
   "outputs": [
    {
     "name": "stdout",
     "output_type": "stream",
     "text": [
      "apple\n"
     ]
    }
   ],
   "source": [
    "#2번\n",
    "fruit = 'apple'\n",
    "if fruit == 'Apple':\n",
    "    fruit = 'Apple'\n",
    "elif fruit == 'fruit':\n",
    "    fruit = 'fruit'\n",
    "else:\n",
    "    fruit = fruit\n",
    "print(fruit)"
   ]
  },
  {
   "cell_type": "code",
   "execution_count": 96,
   "metadata": {},
   "outputs": [
    {
     "name": "stdout",
     "output_type": "stream",
     "text": [
      "['12', '34', '56']\n"
     ]
    }
   ],
   "source": [
    "#3번\n",
    "num = ['12', '34', '56']\n",
    "for i in num:\n",
    "    i = int(i)\n",
    "print(num)    # ['12', '34', '56']\n",
    "\n",
    "\n",
    "#리스트 값으로 바꾸려면,,,?\n",
    "# num = ['12', '34', '56']\n",
    "# for i in range(len(num)):\n",
    "#     num[i] = int(num[i])\n",
    "# print(num)  #[12, 34, 56]"
   ]
  },
  {
   "cell_type": "code",
   "execution_count": 94,
   "metadata": {},
   "outputs": [
    {
     "name": "stdout",
     "output_type": "stream",
     "text": [
      "[3, 4.0]\n"
     ]
    }
   ],
   "source": [
    "#4번\n",
    "number = [\"1\", 2, 3, float(4), str(5)]\n",
    "if number[4] == 5:\n",
    "    print(type(number[0]))\n",
    "elif number[3] == 4:  # 대소관계는 int,float 상관이 없다.\n",
    "    print(number[2:-1])\n",
    "\n"
   ]
  },
  {
   "cell_type": "code",
   "execution_count": null,
   "metadata": {},
   "outputs": [],
   "source": [
    "#5번\n",
    "\n",
    "num = 0\n",
    "i = 1\n",
    "\n",
    "while i < 8:\n",
    "    if i % 3 == 0:\n",
    "        break\n",
    "    i += 1\n",
    "    num += i\n",
    "print(num)"
   ]
  },
  {
   "cell_type": "code",
   "execution_count": null,
   "metadata": {},
   "outputs": [],
   "source": [
    "# 6번\n",
    "result = 0\n",
    "for i in range(5, -5, -2):\n",
    "    if i < -3:\n",
    "        result += 1\n",
    "    else:\n",
    "        result -= 1\n",
    "        \n",
    "print(result)"
   ]
  },
  {
   "cell_type": "code",
   "execution_count": null,
   "metadata": {},
   "outputs": [],
   "source": [
    "#7번\n",
    "fruit = 'apple'\n",
    "if fruit == 'Apple':\n",
    "    fruit = 'Apple'\n",
    "elif fruit == 'fruit':\n",
    "    fruit = 'fruit'\n",
    "else:\n",
    "    fruit = fruit\n",
    "print(fruit)"
   ]
  },
  {
   "cell_type": "code",
   "execution_count": 104,
   "metadata": {},
   "outputs": [
    {
     "name": "stdout",
     "output_type": "stream",
     "text": [
      "0\n"
     ]
    },
    {
     "name": "stderr",
     "output_type": "stream",
     "text": [
      "<>:5: SyntaxWarning: \"is\" with a literal. Did you mean \"==\"?\n",
      "<>:8: SyntaxWarning: \"is\" with a literal. Did you mean \"==\"?\n",
      "<>:5: SyntaxWarning: \"is\" with a literal. Did you mean \"==\"?\n",
      "<>:8: SyntaxWarning: \"is\" with a literal. Did you mean \"==\"?\n",
      "/tmp/ipykernel_597/4157217011.py:5: SyntaxWarning: \"is\" with a literal. Did you mean \"==\"?\n",
      "  if i is 5:\n",
      "/tmp/ipykernel_597/4157217011.py:8: SyntaxWarning: \"is\" with a literal. Did you mean \"==\"?\n",
      "  if i is 10:\n"
     ]
    }
   ],
   "source": [
    "#8번\n",
    "first_value = 0\n",
    "second_value = 0\n",
    "for i in range(1, 10):\n",
    "    if i is 5:\n",
    "        continue\n",
    "        first_value = i\n",
    "    if i is 10:\n",
    "        break\n",
    "        second_value = i\n",
    "        \n",
    "print(first_value + second_value)"
   ]
  },
  {
   "cell_type": "code",
   "execution_count": 106,
   "metadata": {},
   "outputs": [
    {
     "name": "stdout",
     "output_type": "stream",
     "text": [
      "135689\n"
     ]
    },
    {
     "name": "stderr",
     "output_type": "stream",
     "text": [
      "<>:6: SyntaxWarning: \"is\" with a literal. Did you mean \"==\"?\n",
      "<>:6: SyntaxWarning: \"is\" with a literal. Did you mean \"==\"?\n",
      "<>:6: SyntaxWarning: \"is\" with a literal. Did you mean \"==\"?\n",
      "<>:6: SyntaxWarning: \"is\" with a literal. Did you mean \"==\"?\n",
      "/tmp/ipykernel_597/1102234828.py:6: SyntaxWarning: \"is\" with a literal. Did you mean \"==\"?\n",
      "  elif i is 7 or i is 10:\n",
      "/tmp/ipykernel_597/1102234828.py:6: SyntaxWarning: \"is\" with a literal. Did you mean \"==\"?\n",
      "  elif i is 7 or i is 10:\n"
     ]
    }
   ],
   "source": [
    "#9번\n",
    "num = \"\"\n",
    "for i in range(10):\n",
    "    if i <= 5 and (i % 2)==0:\n",
    "        continue\n",
    "    elif i is 7 or i is 10:\n",
    "        continue\n",
    "    else:\n",
    "        # num = str(i) + num   986531 앞에 추가한거임\n",
    "        # num = num + str(i)   135689 뒤에 추가한거임\n",
    "print(num)\n"
   ]
  },
  {
   "cell_type": "code",
   "execution_count": 111,
   "metadata": {},
   "outputs": [
    {
     "name": "stdout",
     "output_type": "stream",
     "text": [
      "90\n",
      "80\n",
      "70\n",
      "60\n",
      "50\n",
      "40\n",
      "30\n",
      "20\n",
      "10\n",
      "0\n"
     ]
    }
   ],
   "source": [
    "#10번\n",
    "def work_status(task,worker,day):\n",
    "  rest_task = task\n",
    "  for k in range(day):\n",
    "    if rest_task > 0:\n",
    "      rest_task = rest_task-worker\n",
    "      print(rest_task)\n",
    "    elif rest_task <= 0:\n",
    "      print(\"Task end\")\n",
    "  if rest_task > 0:\n",
    "    print(\"Hire more workers\")\n",
    "        \n",
    "work_status(100, 11, 10)\n",
    "work_status(100, 1, 10)\n",
    "work_status(100, 9, 10)\n",
    "work_status(100, 10, 10)"
   ]
  },
  {
   "cell_type": "code",
   "execution_count": 112,
   "metadata": {},
   "outputs": [
    {
     "name": "stdout",
     "output_type": "stream",
     "text": [
      "45\n"
     ]
    }
   ],
   "source": [
    "#11번\n",
    "score_list = [5, 10, 15, 20, 25, 30]\n",
    "\n",
    "sum_of_score = 0\n",
    "i = 0\n",
    "while i < len(score_list) :\n",
    "    if i % 2 == 0 :\n",
    "        sum_of_score += score_list[i]\n",
    "    i += 1\n",
    "    \n",
    "print(sum_of_score)"
   ]
  },
  {
   "cell_type": "code",
   "execution_count": 113,
   "metadata": {},
   "outputs": [
    {
     "name": "stdout",
     "output_type": "stream",
     "text": [
      "2600\n"
     ]
    }
   ],
   "source": [
    "#12번\n",
    "coupon = 0\n",
    "money = 200000\n",
    "coffee = 3500\n",
    "while money > coffee: #money > coffee일때 True\n",
    "    if coupon < 4:\n",
    "        money = money - coffee\n",
    "        coupon += 1\n",
    "    else:\n",
    "        money += 2800 #커피쿠판이 4개이상이면 2800원을 돌려준다.\n",
    "        coupon = 0\n",
    "print(money)"
   ]
  },
  {
   "cell_type": "code",
   "execution_count": 122,
   "metadata": {},
   "outputs": [
    {
     "name": "stdout",
     "output_type": "stream",
     "text": [
      "Strike: 0 Ball: 3\n"
     ]
    }
   ],
   "source": [
    "#13번\n",
    "a = \"369\"\n",
    "b = \"693\"\n",
    "# 결과 3ball\n",
    "# a = \"396\"\n",
    "# b = \"693\"\n",
    "# 2ball 1strike\n",
    "\n",
    "strike = 0\n",
    "ball = 0\n",
    "\n",
    "for number in a:\n",
    "    if b.count(number) >= 1: # b.count(number)는 number와 동일한 값을 세어주는 것. >를 >=로 바꿔준다.\n",
    "        if b.find(number) != a.find(number): #b에서 number찾고 a에서 number 찾아서 비교 \n",
    "                                            #find가 찾아서 앞에 있는 인덱스 반환해주는 것\n",
    "            ball += 1\n",
    "        else:\n",
    "            strike += 1\n",
    "\n",
    "print(\"Strike:\", strike, \"Ball:\", ball)\n"
   ]
  },
  {
   "cell_type": "code",
   "execution_count": 123,
   "metadata": {},
   "outputs": [
    {
     "name": "stdout",
     "output_type": "stream",
     "text": [
      "6\n"
     ]
    }
   ],
   "source": [
    "#14번\n",
    "list_data_a = [1, 2]\n",
    "list_data_b = [3, 4]\n",
    "\n",
    "for i in list_data_a:\n",
    "    for j in list_data_b:\n",
    "        result = i + j #재귀적으로 돌리고 마지막 것만 답이 나오기 때문에\n",
    "print(result)"
   ]
  },
  {
   "cell_type": "code",
   "execution_count": 124,
   "metadata": {},
   "outputs": [
    {
     "name": "stdout",
     "output_type": "stream",
     "text": [
      "[1, 2, 3, 4, 5, 6]\n"
     ]
    }
   ],
   "source": [
    "#15번\n",
    "list_1 = [[1, 2], [3], [4, 5, 6]]\n",
    "a,b,c = list_1\n",
    "list_2 = a + b + c\n",
    "\n",
    "print(list_2)"
   ]
  },
  {
   "cell_type": "code",
   "execution_count": 121,
   "metadata": {},
   "outputs": [
    {
     "data": {
      "text/plain": [
       "2"
      ]
     },
     "execution_count": 121,
     "metadata": {},
     "output_type": "execute_result"
    }
   ],
   "source": [
    "\"399\".count(\"9\")"
   ]
  },
  {
   "cell_type": "code",
   "execution_count": 125,
   "metadata": {},
   "outputs": [
    {
     "name": "stdout",
     "output_type": "stream",
     "text": [
      "[1, 2, 3, 4]\n"
     ]
    }
   ],
   "source": [
    "a = [1,2]\n",
    "b=[3,4]\n",
    "\n",
    "print(a+b)"
   ]
  },
  {
   "attachments": {},
   "cell_type": "markdown",
   "metadata": {},
   "source": [
    "#### 함수"
   ]
  },
  {
   "attachments": {},
   "cell_type": "markdown",
   "metadata": {},
   "source": [
    "매개변수 : 입력값을 전달받는 변수\n",
    "\n",
    "f(x) = 2x\n",
    "f(x,y) = x+y =x^2+y^2\n",
    "\n",
    "함수는 믹서기를 떠올리면 된다.\n",
    "\n"
   ]
  },
  {
   "cell_type": "code",
   "execution_count": 126,
   "metadata": {},
   "outputs": [],
   "source": [
    "def add(a,b):\n",
    "    c = a+b\n",
    "    return c"
   ]
  },
  {
   "cell_type": "code",
   "execution_count": 127,
   "metadata": {},
   "outputs": [
    {
     "data": {
      "text/plain": [
       "3"
      ]
     },
     "execution_count": 127,
     "metadata": {},
     "output_type": "execute_result"
    }
   ],
   "source": [
    "add(1,2)"
   ]
  },
  {
   "cell_type": "code",
   "execution_count": 128,
   "metadata": {},
   "outputs": [
    {
     "data": {
      "text/plain": [
       "function"
      ]
     },
     "execution_count": 128,
     "metadata": {},
     "output_type": "execute_result"
    }
   ],
   "source": [
    "type(add) #데이터타입자체가 함수임."
   ]
  },
  {
   "cell_type": "code",
   "execution_count": 135,
   "metadata": {},
   "outputs": [],
   "source": [
    "# 함수 입력, 결과 (출력이 아니고 결과 이다!)\n",
    "# 입력 o, 결과 o (기본) / 입력 x, 결과 o / 입력 o, 결과 x / 입력 x, 결과 x \n",
    "\n",
    "\n",
    " # 입력 x, 결과 o \n",
    "def func_1(): \n",
    "    result = \"hello world\"\n",
    "    return result\n",
    "\n",
    "# 입력 o, 결과 x \n",
    "def func_2(arg_1,arg_2):\n",
    "    result = arg_1 + arg_2  #어디에 쓰이지?\n",
    "\n",
    "# 입력 x, 결과 x 어디에 쓰이지??\n",
    "#  --> print같은 함수들이라든지 코드를 만들어놓고 다 실행시켜야하는 경우\n",
    "def func_3():\n",
    "    result = \"hello world\""
   ]
  },
  {
   "cell_type": "code",
   "execution_count": null,
   "metadata": {},
   "outputs": [],
   "source": [
    "#입력 x, 결과 x 쓰이는 예시\n",
    "def func_1(a,b):\n",
    "    return a+b\n",
    "\n",
    "def func_2(a,b):\n",
    "    return a*b\n",
    "\n",
    "def main():\n",
    "    val_1 = 1\n",
    "    val_2 = 2\n",
    "    val_3 = func_1(val_1, val_2)\n",
    "    func_2(val_3, val_2)\n",
    "\n",
    "if __name__ == \"__main__\":\n",
    "    main()"
   ]
  },
  {
   "cell_type": "code",
   "execution_count": 142,
   "metadata": {},
   "outputs": [],
   "source": [
    "list_1 = [1,2,3,4,5]"
   ]
  },
  {
   "cell_type": "code",
   "execution_count": 144,
   "metadata": {},
   "outputs": [],
   "source": [
    "list_1.append(['hello','world'])"
   ]
  },
  {
   "cell_type": "code",
   "execution_count": 147,
   "metadata": {},
   "outputs": [
    {
     "name": "stdout",
     "output_type": "stream",
     "text": [
      "None\n"
     ]
    }
   ],
   "source": [
    "# append는 동작들만 수행하는 것이다. 자기가 액션해서 출력하는 결과물은 없는 애다.\n",
    "list_2 = list_1.append(['hi','world'])\n",
    "print(list_2)"
   ]
  },
  {
   "cell_type": "code",
   "execution_count": 148,
   "metadata": {},
   "outputs": [],
   "source": [
    "#print 는 표준출력이고..\n",
    "def func_4():\n",
    "    print(\"hello world\")"
   ]
  },
  {
   "cell_type": "code",
   "execution_count": 151,
   "metadata": {},
   "outputs": [
    {
     "name": "stdout",
     "output_type": "stream",
     "text": [
      "hello world\n",
      "None\n"
     ]
    }
   ],
   "source": [
    "hi = func_4()\n",
    "print(hi) # None"
   ]
  },
  {
   "cell_type": "code",
   "execution_count": 152,
   "metadata": {},
   "outputs": [],
   "source": [
    "def swap(a,b,c):\n",
    "    return c,a,b # 함수에서 출력되는 결과는 변경이되면 안돼서 튜플자료형으로 내보내는 것이다. 튜플 = ,로 구분되는 것"
   ]
  },
  {
   "cell_type": "code",
   "execution_count": 153,
   "metadata": {},
   "outputs": [
    {
     "data": {
      "text/plain": [
       "(5, 3, 4)"
      ]
     },
     "execution_count": 153,
     "metadata": {},
     "output_type": "execute_result"
    }
   ],
   "source": [
    "swap(3,4,5) # 매개변수 지정하지 않았을때 자동 할당"
   ]
  },
  {
   "cell_type": "code",
   "execution_count": 154,
   "metadata": {},
   "outputs": [
    {
     "data": {
      "text/plain": [
       "(3, 4, 5)"
      ]
     },
     "execution_count": 154,
     "metadata": {},
     "output_type": "execute_result"
    }
   ],
   "source": [
    "swap(c=3,a=4,b=5) #매개변수를 지정하여 값을 입력할 수 있다."
   ]
  },
  {
   "cell_type": "code",
   "execution_count": 160,
   "metadata": {},
   "outputs": [],
   "source": [
    "def sum(*b):\n",
    "    acc = 0\n",
    "    for i in b:\n",
    "        acc += i\n",
    "    return acc\n",
    "    "
   ]
  },
  {
   "cell_type": "code",
   "execution_count": 161,
   "metadata": {},
   "outputs": [
    {
     "data": {
      "text/plain": [
       "15"
      ]
     },
     "execution_count": 161,
     "metadata": {},
     "output_type": "execute_result"
    }
   ],
   "source": [
    "sum(1,2,3,4,5)"
   ]
  },
  {
   "cell_type": "code",
   "execution_count": 158,
   "metadata": {},
   "outputs": [
    {
     "data": {
      "text/plain": [
       "(3, 1, 2)"
      ]
     },
     "execution_count": 158,
     "metadata": {},
     "output_type": "execute_result"
    }
   ],
   "source": [
    "# 요새 많이 쓰이는 방식이다. **는 입력값들을 전부 모아서 딕셔너리로 만들어준다.....\n",
    "args = {\"a\":1,\"b\":2,\"c\":3}\n",
    "swap(**args)"
   ]
  },
  {
   "attachments": {},
   "cell_type": "markdown",
   "metadata": {},
   "source": [
    "#### 함수 예제"
   ]
  },
  {
   "cell_type": "code",
   "execution_count": 165,
   "metadata": {},
   "outputs": [],
   "source": [
    "'''\n",
    "문제\n",
    "AND 연산자를 코드로 구현하시오. and연산 = (1,1)일때만 1\n",
    "OR 연산자를 코드로 구현하시오. or연산 (0,0)일때만 0\n",
    "\n",
    "단, 1 and 1 과 1 or 1과 같이 예약어를 사용하지 않습니다.\n",
    "\n",
    "상태를 나누라는 뜻임\n",
    "'''\n",
    "def fun_and(x, y):\n",
    "    if x == 1:\n",
    "        if x == y:\n",
    "            result = 1\n",
    "        else:\n",
    "            result = 0\n",
    "    else:\n",
    "        result = 0\n",
    "    return result\n",
    "\n",
    "# fun_and(1,0) -> 0\n",
    "# fun_and(0,0) -> 0\n",
    "# fun_and(0,1) -> 0\n",
    "# fun_and(1,1) -> 1\n",
    "\n",
    "\n",
    "def fun_or(x, y):\n",
    "    if x == 0:\n",
    "        if x == y:\n",
    "            result = 0\n",
    "        else:\n",
    "            result = 1\n",
    "    else:\n",
    "        result = 1 \n",
    "    return result\n",
    "\n",
    "# fun_or(1,0) -> 1\n",
    "# fun_or(0,0) -> 0\n",
    "# fun_or(0,1) -> 1\n",
    "# fun_or(1,1) -> 1\n"
   ]
  },
  {
   "cell_type": "code",
   "execution_count": 167,
   "metadata": {},
   "outputs": [
    {
     "name": "stdout",
     "output_type": "stream",
     "text": [
      "1 0 1 1\n"
     ]
    }
   ],
   "source": [
    "print(fun_or(1,0),fun_or(0,0),fun_or(0,1),fun_or(1,1))"
   ]
  },
  {
   "cell_type": "code",
   "execution_count": 168,
   "metadata": {},
   "outputs": [
    {
     "name": "stdout",
     "output_type": "stream",
     "text": [
      "1 0 1 0\n"
     ]
    }
   ],
   "source": [
    "'''\n",
    "문제\n",
    "위에서 만든 AND연산자 코드와 OR 연산자 코드를 함수로 만들고\n",
    "이를 이용해 XOR 연산을 구현하시오\n",
    "\n",
    "*XOR게이트 = and랑 or를 적당히... 이용? 모르겠으면 찾아보기\n",
    "\n",
    "퍼셉트론 설명\n",
    "https://bcho.tistory.com/1147\n",
    "\n",
    "'''\n",
    "\n",
    "def fun_xor(x, y):\n",
    "    if x == 0:\n",
    "        if x == y:\n",
    "            result = 0\n",
    "        else:\n",
    "            result = 1\n",
    "    if x == 1:\n",
    "        if x == y:\n",
    "            result = 0\n",
    "        else:\n",
    "            result = 1\n",
    "    return result\n",
    "\n",
    "# fun_xor(1,0) -> 1\n",
    "# fun_xor(0,0) -> 0\n",
    "# fun_xor(0,1) -> 1\n",
    "# fun_xor(1,1) -> 0\n",
    "\n"
   ]
  },
  {
   "cell_type": "code",
   "execution_count": 163,
   "metadata": {},
   "outputs": [],
   "source": [
    "'''\n",
    "문제\n",
    "삼각형의 밑변과 높이를 입력받은후 삼각형의 면적을 계산하는 함수를 작성하시오.\n",
    "'''\n",
    "\n",
    "def triangle(l,h):\n",
    "    result = l * h * 1/2\n",
    "    return result\n"
   ]
  },
  {
   "cell_type": "code",
   "execution_count": 9,
   "metadata": {},
   "outputs": [],
   "source": [
    "def input_user():\n",
    "\n",
    "    result = [] \n",
    "    a = int(input(\"값을 입력하세요\"))\n",
    "    while a ==1: \n",
    "        if a ==1:\n",
    "            a = int(input(\"값을 입력하세요\"))\n",
    "            b = input(\"도시를 영어로 입력해주세요\")\n",
    "            result.append(b)\n",
    "        if a ==2 or a ==3:\n",
    "            break\n",
    "            \n",
    "        \n",
    "    return result\n"
   ]
  },
  {
   "cell_type": "code",
   "execution_count": 4,
   "metadata": {},
   "outputs": [
    {
     "name": "stdout",
     "output_type": "stream",
     "text": [
      "'\n",
      "1. 도시를 추가\n",
      "2. 추가 완료\n",
      "3. 종료\n",
      "\n",
      "'\n",
      "1. 도시를 추가\n",
      "2. 추가 완료\n",
      "3. 종료\n",
      "\n",
      "'\n",
      "1. 도시를 추가\n",
      "2. 추가 완료\n",
      "3. 종료\n",
      "\n",
      "['seo', 'bus']\n"
     ]
    }
   ],
   "source": [
    "\n",
    "\n",
    "'''\n",
    "문제\n",
    "도시를 추가하여 도시의 앞글자 3개만 출력하는 코드를 작성하시오.\n",
    "\n",
    "1. 도시를 추가\n",
    "2. 추가 완료\n",
    "3. 종료\n",
    "값을 입력하세요:  1\n",
    "도시를 영어로 입력하세요:  seoul\n",
    "1. 도시를 추가\n",
    "2. 추가 완료\n",
    "3. 종료\n",
    "값을 입력하세요:  1\n",
    "도시를 영어로 입력하세요:  busan\n",
    "1. 도시를 추가\n",
    "2. 추가 완료\n",
    "3. 종료\n",
    "값을 입력하세요:  2\n",
    "['seo', 'bus']\n",
    "종료\n",
    "\n",
    "\n",
    "while 2,3누르면 브레이크..\n",
    "while 1은 재귀..?\n",
    "\n",
    "'''\n",
    "\n",
    "number = 0\n",
    "prompt = ''''\n",
    "1. 도시를 추가\n",
    "2. 추가 완료\n",
    "3. 종료\n",
    "'''\n",
    "\n",
    "\n",
    "\n",
    "#리스트로 결과를 출력하면서, 결과를 입력 받는 것\n",
    "def input_user(list_data):\n",
    "    data = input(\"도시를 영어로 입력하세요: \")\n",
    "    # result = [] 초기화가 되어버린다. 이거에 대한 해결책으로 list_data를 넣었다. 함수 밖에다가 선언함\n",
    "    list_data.append(data)\n",
    "    # return result\n",
    "\n",
    "# 3글자씩 출력만 해주는 것\n",
    "def get_addr(list_data): #주소를 가져오는 것들\n",
    "    result = []\n",
    "    for i in list_data:\n",
    "        result.append(i[:3]) #리스트는 자료를 받는 공간\n",
    "    return result \n",
    "\n",
    "\n",
    "\n",
    "cities = [] #함수 외부에서 선언했다\n",
    "\n",
    "while number != 3: #number가 3이 아니면 계속 동작\n",
    "    print(prompt)\n",
    "    number = int(input(\"값을 입력하세요\"))\n",
    "    if number == 1:\n",
    "        input_user(cities) #내부 값을 변경하도록 만들어주는 애임 아, 여기서 list_data는 cities구나\n",
    "    elif number ==2:\n",
    "        prt = get_addr(cities)\n",
    "        print(prt)\n",
    "        break #만들고 종료\n",
    "    else:\n",
    "        break\n",
    "\n",
    "# def main(): #메인함수 실행하면 돌아가면서 .. 뭐 할수있는?\n",
    "#     while : # while문을 적을때는 적당한 컨디션을 하는게 낫다. 안그러면 무한루프\n",
    "#         pass\n",
    "\n",
    "# main() #실행"
   ]
  },
  {
   "cell_type": "code",
   "execution_count": null,
   "metadata": {},
   "outputs": [],
   "source": []
  }
 ],
 "metadata": {
  "kernelspec": {
   "display_name": "tuto",
   "language": "python",
   "name": "python3"
  },
  "language_info": {
   "codemirror_mode": {
    "name": "ipython",
    "version": 3
   },
   "file_extension": ".py",
   "mimetype": "text/x-python",
   "name": "python",
   "nbconvert_exporter": "python",
   "pygments_lexer": "ipython3",
   "version": "3.10.11"
  },
  "orig_nbformat": 4
 },
 "nbformat": 4,
 "nbformat_minor": 2
}
