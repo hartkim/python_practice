{
 "cells": [
  {
   "attachments": {},
   "cell_type": "markdown",
   "metadata": {},
   "source": [
    "변수를 밖에서 선언하고 안에서 쓰는 것에 대해 얘기\n",
    "\n",
    "변수의 유효범위\n",
    "- 변수가 어느 범위에서 유효한지를 나타낸다.\n",
    "- 함수 내부에서 정의되는 변수. 지역(local)변수라고 한다\n",
    "- 함수 외부에서 정의되는 변수. 전역(global)변수라고 한다.\n",
    "- 보통 파이썬에서는 전역변수 쓰는걸 그렇게 좋아하지 않는다.\n",
    "- 왜냐면 파이썬의 기본 철학자체가 기능적으로 분리를 시키는 것에 초점을 뒀는데, 전역변수 쓰면 분리가 어렵기 때문이다.\n",
    "- 변수를 호출하는 순서 : 지역변수 -> 전역변수\n"
   ]
  },
  {
   "cell_type": "code",
   "execution_count": null,
   "metadata": {},
   "outputs": [
    {
     "name": "stdout",
     "output_type": "stream",
     "text": [
      "lv\n"
     ]
    }
   ],
   "source": [
    "#지역변수\n",
    "\n",
    "def func_1():\n",
    "    str_1 = \"lv\"\n",
    "    print(str_1)\n",
    "\n",
    "func_1()"
   ]
  },
  {
   "cell_type": "code",
   "execution_count": null,
   "metadata": {},
   "outputs": [
    {
     "name": "stdout",
     "output_type": "stream",
     "text": [
      "lv\n"
     ]
    }
   ],
   "source": [
    "str_1 = \"gv\" #global\n",
    "def func_2():\n",
    "    str_1 =\"lv\" # local\n",
    "    print(str_1)\n",
    "\n",
    "func_2() #lv가 출력된다."
   ]
  },
  {
   "cell_type": "code",
   "execution_count": 93,
   "metadata": {},
   "outputs": [
    {
     "name": "stdout",
     "output_type": "stream",
     "text": [
      "lv\n"
     ]
    }
   ],
   "source": [
    "str_1 = \"gv\" #global\n",
    "def func_2():\n",
    "    # str_1 =\"lv\" # local\n",
    "    print(str_1)\n",
    "\n",
    "func_2() #gv가 출력된다.\n",
    "\n",
    "# 일단 함수 내부에서 찾아본다. 있으면 출력 / 없다면 외부에서 찾아본다. 있으면 가져오기"
   ]
  },
  {
   "cell_type": "code",
   "execution_count": 94,
   "metadata": {},
   "outputs": [
    {
     "name": "stdout",
     "output_type": "stream",
     "text": [
      "lv\n"
     ]
    },
    {
     "data": {
      "text/plain": [
       "'lv'"
      ]
     },
     "execution_count": 94,
     "metadata": {},
     "output_type": "execute_result"
    }
   ],
   "source": [
    "str_1 = \"gv\" #global\n",
    "def func_4():\n",
    "    global str_1 #글로벌 변수를 가져온다. 함수 안에 재할당이 가능하게 만들어준다.\n",
    "    str_1 =\"lv\" # local\n",
    "    print(str_1)\n",
    "\n",
    "func_4() #lv가 출력된다.\n",
    "str_1 # lv가 출력, global 쓰기 전에는 gv가 나왔음"
   ]
  },
  {
   "cell_type": "code",
   "execution_count": null,
   "metadata": {},
   "outputs": [],
   "source": [
    "str_1 =\"gv\"\n",
    "def fun_5():\n",
    "    str_1 = \"lv\"\n",
    "    global str_1\n",
    "    print(str_1)  #일단, 글로벌에서 먼저 할당이 되어있는 애들을 가져오는거야. 그래서 오류가 난다 음 이해 안됨"
   ]
  },
  {
   "cell_type": "code",
   "execution_count": null,
   "metadata": {},
   "outputs": [],
   "source": [
    "# list는 좀 특별하다!\n",
    "list_1 = []\n",
    "def func_6():\n",
    "    list_1.append(\"hi\") #append를 쓰면 굳이 global 안쓰고 할당할 수 있다.\n",
    "\n",
    "#리스트는.... append된다고 뭐가 바뀌는게 아니고 그냥 가르키고 있는 곳 뒤에 하나 붙는 것이기 때문에 ... 상관없다\n",
    "#근데 쓰이는 모듈같은 곳에서는 밖에 호출을 잘 안쓴다는 것 같다.\n"
   ]
  },
  {
   "attachments": {},
   "cell_type": "markdown",
   "metadata": {},
   "source": [
    "### 일급 시민 함수 \n",
    "- 3가지 조건이 있는데 3가지 조건을 만족하는 함수임\n",
    "- 조건 1. 함수를 다른 함수에 인수로 전달 가능\n",
    "- 조건 2. 함수의 반환값으로 전달가능\n",
    "- 조건 3. 변수나 자료구조에 함수를 저장할 수 있다.\n",
    "\n",
    "def add(a,b):"
   ]
  },
  {
   "cell_type": "code",
   "execution_count": null,
   "metadata": {},
   "outputs": [],
   "source": [
    "def add(a,b):\n",
    "    return a+b"
   ]
  },
  {
   "cell_type": "code",
   "execution_count": null,
   "metadata": {},
   "outputs": [],
   "source": [
    "#조건1\n",
    "var_1 = add #이렇게할당이 가능하다. 약간 이름을 바꿔서 쓰는 느낌\n",
    "var_1(1,2)"
   ]
  },
  {
   "cell_type": "code",
   "execution_count": null,
   "metadata": {},
   "outputs": [],
   "source": [
    "#조건2 객체를 리스트에 넣는거임\n",
    "def diff(a,b):\n",
    "    return a-b\n",
    "\n",
    "def mul(a,b):\n",
    "    return a*b"
   ]
  },
  {
   "cell_type": "code",
   "execution_count": null,
   "metadata": {},
   "outputs": [],
   "source": [
    "func_list = [add,diff,mul]"
   ]
  },
  {
   "cell_type": "code",
   "execution_count": null,
   "metadata": {},
   "outputs": [
    {
     "data": {
      "text/plain": [
       "3"
      ]
     },
     "metadata": {},
     "output_type": "display_data"
    }
   ],
   "source": [
    "func_list[0](1,2) # add(1,2) 값이 된다."
   ]
  },
  {
   "cell_type": "code",
   "execution_count": null,
   "metadata": {},
   "outputs": [
    {
     "name": "stdout",
     "output_type": "stream",
     "text": [
      "7\n",
      "-1\n",
      "12\n"
     ]
    }
   ],
   "source": [
    "for i in func_list: #객체로 되어있어서..?\n",
    "    result = i(3,4)\n",
    "    print(result)\n"
   ]
  },
  {
   "cell_type": "code",
   "execution_count": null,
   "metadata": {},
   "outputs": [],
   "source": [
    "def func_7(g,a,b):\n",
    "    result = g(a,b)\n",
    "    return result"
   ]
  },
  {
   "cell_type": "code",
   "execution_count": null,
   "metadata": {},
   "outputs": [
    {
     "data": {
      "text/plain": [
       "7"
      ]
     },
     "metadata": {},
     "output_type": "display_data"
    }
   ],
   "source": [
    "func_7(add,3,4)"
   ]
  },
  {
   "attachments": {},
   "cell_type": "markdown",
   "metadata": {},
   "source": [
    "## 함수의 호출\n",
    "- 함수로 인수를 전달하는 방법\n",
    "    - call vy value : C\n",
    "        - 값에 의한 호출, 계산한 결과값이 함수의 인수로 전달된다.\n",
    "        - 함수 내에서 인수값이 변경되어도 호출하는 측에는 아무런 영향을 주지 않는다.\n",
    "        - 원본의 내용을 함수 내부에서 변경하는게 불가능하다.\n",
    "    - call by Reference : java\n",
    "        - 호출하는 변수의 참조 주소가 전달받는 함수의 인수로 전달된다.\n",
    "        - 함수 내부에서 변수가 변경되면 호출당하는 변수에도 영향을 미친다.\n",
    "        - 함수 내부에서 원본의 내용을 변경하는게 가능하다.\n",
    "    - call by object Reference(call by sharing) : python\n",
    "        - 파이썬은 함수로 인수를 전달할때 오브젝트(객체)정보 자체를 전달한다. = 객체의 참조를 전달한다.\n",
    "        - 객체가 mutable 이나 immutable 이냐에 따라서 결과가 달라진다."
   ]
  },
  {
   "attachments": {},
   "cell_type": "markdown",
   "metadata": {},
   "source": [
    "## mutable(값이 변함, 리스트,딕셔너리) , immutable(값이 안변함, 숫자,문자,튜플)\n",
    "- 변수\n",
    "    - 변수는 객체를 가리킨다.\n",
    "    - a =1 메모리에 1이 저장, a는 메모리의 위치를 가리킨다.\n",
    "    - 숫자형 : immutable\n",
    "        - x -> 1 <- y : x와 y가 동시에 1을 가리킨다.\n",
    "        - y += 1 \n",
    "        - x -> 1, y ->2 / 계산한 결과를 가리키고 있는거임"
   ]
  },
  {
   "cell_type": "code",
   "execution_count": 5,
   "metadata": {},
   "outputs": [],
   "source": [
    "x = 1\n",
    "y = x\n"
   ]
  },
  {
   "cell_type": "code",
   "execution_count": 2,
   "metadata": {},
   "outputs": [],
   "source": [
    "y += 1"
   ]
  },
  {
   "cell_type": "code",
   "execution_count": 3,
   "metadata": {},
   "outputs": [
    {
     "data": {
      "text/plain": [
       "2"
      ]
     },
     "execution_count": 3,
     "metadata": {},
     "output_type": "execute_result"
    }
   ],
   "source": [
    "y"
   ]
  },
  {
   "cell_type": "code",
   "execution_count": 4,
   "metadata": {},
   "outputs": [
    {
     "data": {
      "text/plain": [
       "1"
      ]
     },
     "execution_count": 4,
     "metadata": {},
     "output_type": "execute_result"
    }
   ],
   "source": [
    "x"
   ]
  },
  {
   "cell_type": "code",
   "execution_count": 6,
   "metadata": {},
   "outputs": [],
   "source": [
    "# x -> \"abcd\" <- y\n",
    "#y += \"e\"\n",
    "x = \"abcd\" #선언하는 순간 할당이 됨\n",
    "y =x\n"
   ]
  },
  {
   "cell_type": "code",
   "execution_count": 8,
   "metadata": {},
   "outputs": [],
   "source": [
    "y += \"e\""
   ]
  },
  {
   "cell_type": "code",
   "execution_count": 9,
   "metadata": {},
   "outputs": [
    {
     "data": {
      "text/plain": [
       "'abcde'"
      ]
     },
     "execution_count": 9,
     "metadata": {},
     "output_type": "execute_result"
    }
   ],
   "source": [
    "y"
   ]
  },
  {
   "cell_type": "code",
   "execution_count": 11,
   "metadata": {},
   "outputs": [],
   "source": [
    "x = [1,2]\n",
    "y =x"
   ]
  },
  {
   "cell_type": "code",
   "execution_count": 13,
   "metadata": {},
   "outputs": [],
   "source": [
    "y += [3]"
   ]
  },
  {
   "cell_type": "code",
   "execution_count": 14,
   "metadata": {},
   "outputs": [
    {
     "name": "stdout",
     "output_type": "stream",
     "text": [
      "[1, 2, 3]\n",
      "[1, 2, 3]\n"
     ]
    }
   ],
   "source": [
    "print(x)  # 리스트 라는 객체가 뮤터블 한 애라서 하나가 바뀌면 같이 바뀐다.\n",
    "print(y)"
   ]
  },
  {
   "attachments": {},
   "cell_type": "markdown",
   "metadata": {},
   "source": [
    "### 람다 함수 : 한줄짜리 함수 그떄만 사용하고 사라짐\n",
    "- 이름이 없는 한줄짜리 함수\n",
    "- 일반 함수는 함수를 정의하고 함수를 인수로 전달\n",
    "- 람다 함수는 함수를 정의하면서 동시에 인수로 전달 = 람다 함수는 정의와 동시에 함수 객체로 사용 / 같은 말임\n",
    "\n",
    "()를 하면 함수로 변함\n",
    "(lambda<인수들> : <반환할 식>)(val)\n",
    "\n"
   ]
  },
  {
   "cell_type": "code",
   "execution_count": 15,
   "metadata": {},
   "outputs": [
    {
     "data": {
      "text/plain": [
       "3"
      ]
     },
     "execution_count": 15,
     "metadata": {},
     "output_type": "execute_result"
    }
   ],
   "source": [
    "(lambda x,y : x+y)(1,2)"
   ]
  },
  {
   "cell_type": "code",
   "execution_count": 18,
   "metadata": {},
   "outputs": [],
   "source": [
    "func_8 = lambda x,y : x+y"
   ]
  },
  {
   "cell_type": "code",
   "execution_count": 19,
   "metadata": {},
   "outputs": [
    {
     "data": {
      "text/plain": [
       "3"
      ]
     },
     "execution_count": 19,
     "metadata": {},
     "output_type": "execute_result"
    }
   ],
   "source": [
    "func_8(1,2) # 함수만을 입력값으로 받는 애들이 있다. 그런 애들한테 넣을 때 람다함수 많이 쓰인다."
   ]
  },
  {
   "cell_type": "code",
   "execution_count": 21,
   "metadata": {},
   "outputs": [
    {
     "data": {
      "text/plain": [
       "5"
      ]
     },
     "execution_count": 21,
     "metadata": {},
     "output_type": "execute_result"
    }
   ],
   "source": [
    "(lambda x, acc=0 : acc +x)(5) # 0 + 5가 된거임"
   ]
  },
  {
   "cell_type": "code",
   "execution_count": 22,
   "metadata": {},
   "outputs": [],
   "source": [
    "x = [1,2]\n",
    "y = [3,4]\n",
    "\n",
    "x = y"
   ]
  },
  {
   "cell_type": "code",
   "execution_count": 23,
   "metadata": {},
   "outputs": [
    {
     "name": "stdout",
     "output_type": "stream",
     "text": [
      "[3, 4]\n",
      "[3, 4]\n"
     ]
    }
   ],
   "source": [
    "print(x)\n",
    "print(y)"
   ]
  },
  {
   "attachments": {},
   "cell_type": "markdown",
   "metadata": {},
   "source": [
    "# 연습문제"
   ]
  },
  {
   "cell_type": "code",
   "execution_count": null,
   "metadata": {},
   "outputs": [],
   "source": [
    "# 1. 다음 코드의 실행 결과를 쓰시오.\n",
    "def test(t):\n",
    "    t = 20\n",
    "    print (\"In Function:\", t)\n",
    "    \n",
    "x = 10\n",
    "print (\"Before:\", x)\n",
    "test(x)\n",
    "print (\"After:\", x)"
   ]
  },
  {
   "cell_type": "code",
   "execution_count": null,
   "metadata": {},
   "outputs": [],
   "source": [
    "# 2. 다음 코드의 실행 결과를 쓰시오.\n",
    "def sotring_function(list_value):\n",
    "    return list_value.sort()\n",
    "\n",
    "print(sotring_function([5,4,3,2,1])) #None이 나온다. return한 값은 없는거다. 이해가 안됨"
   ]
  },
  {
   "cell_type": "code",
   "execution_count": null,
   "metadata": {},
   "outputs": [],
   "source": [
    "list_value = [5,4,3,2,1]\n",
    "list_value.sort()\n",
    "\n",
    "list_value"
   ]
  },
  {
   "cell_type": "code",
   "execution_count": 61,
   "metadata": {},
   "outputs": [
    {
     "name": "stdout",
     "output_type": "stream",
     "text": [
      "True\n",
      "여기걸림11\n"
     ]
    },
    {
     "name": "stderr",
     "output_type": "stream",
     "text": [
      "<>:9: SyntaxWarning: \"is\" with a literal. Did you mean \"==\"?\n",
      "<>:9: SyntaxWarning: \"is\" with a literal. Did you mean \"==\"?\n",
      "/tmp/ipykernel_558/3678075748.py:9: SyntaxWarning: \"is\" with a literal. Did you mean \"==\"?\n",
      "  if number/10 is 1:\n"
     ]
    },
    {
     "data": {
      "text/plain": [
       "''"
      ]
     },
     "execution_count": 61,
     "metadata": {},
     "output_type": "execute_result"
    }
   ],
   "source": [
    "# 3. 다음 코드의 실행 결과를 쓰시오.\n",
    "'''\n",
    "str.isdigit()\n",
    "\n",
    "문자열이 '숫자'로만 이루어져있는지 확인하는 함수 입니다.\n",
    "'''\n",
    "\n",
    "number = \"100\"\n",
    "def midterm(number):\n",
    "    print(number.isdigit())\n",
    "    result = \"\"\n",
    "    if number.isdigit() is True:\n",
    "        print(\"여기걸림11\")\n",
    "        if number == 100:\n",
    "            if number/10 is 1:\n",
    "                result = True\n",
    "        # else:\n",
    "        #     result = 3\n",
    "    else:\n",
    "        print(\"여기걸림\")\n",
    "        result = False\n",
    "\n",
    "    return result\n",
    "midterm(number)"
   ]
  },
  {
   "cell_type": "code",
   "execution_count": 50,
   "metadata": {},
   "outputs": [
    {
     "data": {
      "text/plain": [
       "''"
      ]
     },
     "execution_count": 50,
     "metadata": {},
     "output_type": "execute_result"
    }
   ],
   "source": [
    "midterm(number)"
   ]
  },
  {
   "cell_type": "code",
   "execution_count": 28,
   "metadata": {},
   "outputs": [
    {
     "name": "stdout",
     "output_type": "stream",
     "text": [
      "None\n"
     ]
    }
   ],
   "source": [
    "# 4. 다음과 같이 코드를 작성했을 때, 실행 결과로 알맞은 것은?\n",
    "\n",
    "#return이 없음 / None이 나옴\n",
    "def is_yes(your_answer):\n",
    "    if your_answer.upper() == \"YES\" or your_answer.upper() == \"Y\":\n",
    "        result = your_answer.lower()\n",
    "\n",
    "print(is_yes(\"Yes\"))"
   ]
  },
  {
   "cell_type": "code",
   "execution_count": null,
   "metadata": {},
   "outputs": [],
   "source": [
    "#retrun이 있음\n",
    "\n",
    "def is_yes(your_answer):\n",
    "    if your_answer.upper() == \"YES\" or your_answer.upper() == \"Y\":\n",
    "        result = your_answer.lower()\n",
    "    return result\n",
    "\n",
    "print(is_yes(\"Yes\"))"
   ]
  },
  {
   "cell_type": "code",
   "execution_count": 29,
   "metadata": {},
   "outputs": [
    {
     "name": "stdout",
     "output_type": "stream",
     "text": [
      "False\n"
     ]
    }
   ],
   "source": [
    "# 5. 다음과 같이 코드를 작성했을 때, 실행 결과로 알맞은 것은?\n",
    "def add_and_mul(a, b, c):\n",
    "    return b + a * c + b\n",
    "\n",
    "print(add_and_mul(3, 4, 5) == 63)"
   ]
  },
  {
   "cell_type": "code",
   "execution_count": 47,
   "metadata": {},
   "outputs": [
    {
     "name": "stdout",
     "output_type": "stream",
     "text": [
      "18\n",
      "(5, 6)\n",
      "5\n"
     ]
    }
   ],
   "source": [
    "# 6. 다음과 같이 코드를 작성했을 때, 실행 결과로 알맞은 것은?\n",
    "def args_test_3(one, two, *args, three):\n",
    "    print(one + two + sum(args))\n",
    "    print(args)\n",
    "    print(args[0])\n",
    "\n",
    "args_test_3(3, 4, 5, 6, three=7) #원래는 7만 있는데 그러면 오류가 난다. 그래서 실행되게 강사님이 바꾸신 것 \n",
    "                                 #7만 있으면 args에 나머지가 할당 되고 three에는 할당이 안된다."
   ]
  },
  {
   "cell_type": "code",
   "execution_count": 38,
   "metadata": {},
   "outputs": [
    {
     "name": "stdout",
     "output_type": "stream",
     "text": [
      "['green', 'blue']\n"
     ]
    }
   ],
   "source": [
    "# 7. 다음 코드의 실행 결과를 쓰시오.\n",
    "def rain(colors):\n",
    "    colors.append(\"purple\") #append 하면 메모리에 있는 value가 바뀐다.\n",
    "    colors = [\"green\", \"blue\"]\n",
    "    return colors\n",
    "    \n",
    "rainbow = [\"red\", \"orange\"] # 얘는 어디로 가지?\n",
    "print(rain(rainbow))"
   ]
  },
  {
   "cell_type": "code",
   "execution_count": 33,
   "metadata": {},
   "outputs": [
    {
     "data": {
      "text/plain": [
       "['red', 'orange', 'purple']"
      ]
     },
     "execution_count": 33,
     "metadata": {},
     "output_type": "execute_result"
    }
   ],
   "source": [
    "rainbow"
   ]
  },
  {
   "cell_type": "code",
   "execution_count": 39,
   "metadata": {},
   "outputs": [
    {
     "name": "stdout",
     "output_type": "stream",
     "text": [
      "8\n",
      "None\n"
     ]
    }
   ],
   "source": [
    "# 8. 다음 코드의 실행 결과를 쓰시오.\n",
    "def function(value):\n",
    "    print(value ** 3) #함수가 동작하면서 발생하는 표준 출력\n",
    "    # return value**3\n",
    "\n",
    "print(function(2)) #함수의 결과를 출력해주는 것. 근데 함수에 결과가 없기 때문에 None "
   ]
  },
  {
   "cell_type": "code",
   "execution_count": 45,
   "metadata": {},
   "outputs": [
    {
     "name": "stdout",
     "output_type": "stream",
     "text": [
      "appl\n"
     ]
    }
   ],
   "source": [
    "# 9. 다음 코드의 실행 결과를 쓰시오. \n",
    "def get_apple(fruit): \n",
    "    fruit = list(fruit)\n",
    "    fruit.append(\"e\")\n",
    "    fruit = [\"apple\"]\n",
    "    return fruit\n",
    "\n",
    "fruit = \"appl\"\n",
    "get_apple(fruit)\n",
    "print(fruit)\n",
    "\n",
    "#fruit는 리스트일까 문자일까??? 문자입니다~!"
   ]
  },
  {
   "cell_type": "code",
   "execution_count": 42,
   "metadata": {},
   "outputs": [
    {
     "data": {
      "text/plain": [
       "['appl']"
      ]
     },
     "execution_count": 42,
     "metadata": {},
     "output_type": "execute_result"
    }
   ],
   "source": [
    "fruit = \"appl\"\n",
    "list(fruit) #산산조각남\n",
    "[fruit] # 얘는 한개짜리"
   ]
  },
  {
   "cell_type": "code",
   "execution_count": 62,
   "metadata": {},
   "outputs": [
    {
     "name": "stdout",
     "output_type": "stream",
     "text": [
      "I Love You543210\n"
     ]
    }
   ],
   "source": [
    "# 10. 다음과 같이 코드를 작성했을 때, 실행 결과로 알맞은 것은?\n",
    "def return_sentence(sentence, n):\n",
    "    sentence += str(n)\n",
    "    n -= 1\n",
    "    if n < 0: # n이 0일때까지 반복을 해준다.\n",
    "        return sentence\n",
    "    else:\n",
    "        return(return_sentence(sentence, n))\n",
    "\n",
    "sentence = \"I Love You\"\n",
    "print(return_sentence(sentence, 5))"
   ]
  },
  {
   "cell_type": "code",
   "execution_count": 65,
   "metadata": {},
   "outputs": [
    {
     "name": "stdout",
     "output_type": "stream",
     "text": [
      "['x']\n",
      "['y']\n",
      "None\n",
      "['x']\n"
     ]
    }
   ],
   "source": [
    "# 11. 다음 코드의 실행 결과를 쓰시오. \n",
    "def test(x, y): # x =[\"y\"], y=[\"x\"]\n",
    "    tmp = x #임시저장일때 tmp를 많이 쓴다.\n",
    "    x = y # x =[\"x\"]\n",
    "    print(x)\n",
    "    y = tmp #y =[\"y\"]\n",
    "    print(y)\n",
    "    print(y.append(x)) # None 왜 ?? append 니까 none / append 하면 메모리에 할당 돼서 그런가??\n",
    "    return y.append(x)  \n",
    "    \n",
    "x = [\"y\"]\n",
    "y = [\"x\"]\n",
    "test(x, y)\n",
    "print(y)"
   ]
  },
  {
   "cell_type": "code",
   "execution_count": 67,
   "metadata": {},
   "outputs": [
    {
     "name": "stdout",
     "output_type": "stream",
     "text": [
      "['x', ['z']]\n"
     ]
    }
   ],
   "source": [
    "a = [\"x\"]\n",
    "b = [\"z\"]\n",
    "\n",
    "a.append(b)\n",
    "print(a)"
   ]
  },
  {
   "cell_type": "code",
   "execution_count": 70,
   "metadata": {},
   "outputs": [
    {
     "name": "stdout",
     "output_type": "stream",
     "text": [
      "Even\n"
     ]
    }
   ],
   "source": [
    "# 12. 다음 코드의 실행 결과를 쓰시오.\n",
    "def countdown(n):\n",
    "    if n %2 == 0:\n",
    "        print (\"Even\")\n",
    "    else:\n",
    "        print (\"Odd\")\n",
    "        countdown(n-1)\n",
    "countdown(3)\n"
   ]
  },
  {
   "cell_type": "code",
   "execution_count": 71,
   "metadata": {},
   "outputs": [
    {
     "name": "stdout",
     "output_type": "stream",
     "text": [
      "120\n"
     ]
    }
   ],
   "source": [
    "# 13. 다음 코드를 실행하면 결과값으로 120이 나온다. 빈칸에 들어갈 알맞은 코드를 작성하시오.\n",
    "def factorial_calculator(n):\n",
    "    if n in (0, 1):\n",
    "        return 1\n",
    "    else:\n",
    "        return n * factorial_calculator(n-1)\n",
    "        \n",
    "print(factorial_calculator(5))"
   ]
  },
  {
   "cell_type": "code",
   "execution_count": 74,
   "metadata": {},
   "outputs": [
    {
     "data": {
      "text/plain": [
       "15"
      ]
     },
     "execution_count": 74,
     "metadata": {},
     "output_type": "execute_result"
    }
   ],
   "source": [
    "# 14. 다음 코드의 실행 결과를 쓰시오. \n",
    "def calculrate_rectangle_area(rectangle_x,rectangle_y):\n",
    "    rectangle_x = 3\n",
    "    rectangle_y = 5\n",
    "    result = rectangle_x * rectangle_y\n",
    "    return result\n",
    "    \n",
    "rectangle_x = 2\n",
    "rectangle_y = 4\n",
    "# calculrate_rectangle_area(rectangle_x, rectangle_y)"
   ]
  },
  {
   "cell_type": "code",
   "execution_count": 76,
   "metadata": {},
   "outputs": [
    {
     "data": {
      "text/plain": [
       "8"
      ]
     },
     "execution_count": 76,
     "metadata": {},
     "output_type": "execute_result"
    }
   ],
   "source": [
    "# 14. 다음 코드의 실행 결과를 쓰시오. \n",
    "# 매개변수의 기본값을 정해주는 경우\n",
    "\n",
    "def calculrate_rectangle_area(rectangle_x=3,rectangle_y=5): #기본값으로 3,5를 할당 아무것도 안쓰면 3,5가 들어가서 실행됨\n",
    "    result = rectangle_x * rectangle_y\n",
    "    return result\n",
    "    \n",
    "rectangle_x = 2\n",
    "rectangle_y = 4\n",
    "calculrate_rectangle_area(rectangle_x, rectangle_y)"
   ]
  },
  {
   "cell_type": "code",
   "execution_count": 77,
   "metadata": {},
   "outputs": [
    {
     "data": {
      "text/plain": [
       "15"
      ]
     },
     "execution_count": 77,
     "metadata": {},
     "output_type": "execute_result"
    }
   ],
   "source": [
    "calculrate_rectangle_area()"
   ]
  },
  {
   "cell_type": "code",
   "execution_count": 84,
   "metadata": {},
   "outputs": [
    {
     "name": "stdout",
     "output_type": "stream",
     "text": [
      "Value: 10\n",
      "Value: 10\n",
      "10\n"
     ]
    }
   ],
   "source": [
    "# 15. 다음 코드의 실행 결과를 쓰시오.\n",
    "def exam_func(): #매개변수 어데갔노!!\n",
    "    global x\n",
    "    x = 10\n",
    "    print(\"Value:\", x)\n",
    "\n",
    "x = 20\n",
    "exam_func()\n",
    "print(\"Value:\", x)\n",
    "\n",
    "print(x)"
   ]
  },
  {
   "cell_type": "code",
   "execution_count": 89,
   "metadata": {},
   "outputs": [
    {
     "name": "stdout",
     "output_type": "stream",
     "text": [
      "['Korea', 'Japan', 'China', 'Remove']\n"
     ]
    }
   ],
   "source": [
    "# 16. 다음 코드의 실행 결과를 쓰고, 그 결과값이 나오는 이유를 설명하시오.\n",
    "country = [\"Korea\", \"Japan\", \"China\"]\n",
    "country.append(\"Remove\")\n",
    "print(country)\n",
    "# print(country.remove(\"Remove\")) #return값이 없다.\n",
    "# country.remove(\"Remove\") 이거는 또 값이 나온다.."
   ]
  },
  {
   "cell_type": "code",
   "execution_count": 90,
   "metadata": {},
   "outputs": [],
   "source": []
  },
  {
   "cell_type": "code",
   "execution_count": 91,
   "metadata": {},
   "outputs": [
    {
     "data": {
      "text/plain": [
       "['Korea', 'Japan', 'China']"
      ]
     },
     "execution_count": 91,
     "metadata": {},
     "output_type": "execute_result"
    }
   ],
   "source": []
  },
  {
   "cell_type": "code",
   "execution_count": 102,
   "metadata": {},
   "outputs": [],
   "source": [
    "# map, filter 함수\n",
    "# - 함수를 매개변수로 전달하는 내장함수\n",
    "\n",
    "# map() // map(function, iterable, *iterables) docs 봐보기\n",
    "#   - 리스트의 요소를 함수에 넣고 리턴된 값으로 새로운 리스트를 구성해 반환 한다.\n",
    "# 많이 쓰인다. 코테 보니까 split 해가지고 많이 쓰이는듯\n",
    "\n",
    "list_input_a = [1,2,3,4,5]\n",
    "\n",
    "def power(items): #곱한다는 뜻\n",
    "    return items * items * items"
   ]
  },
  {
   "cell_type": "code",
   "execution_count": 103,
   "metadata": {},
   "outputs": [],
   "source": [
    "map_output = map(power,list_input_a)"
   ]
  },
  {
   "cell_type": "code",
   "execution_count": 104,
   "metadata": {},
   "outputs": [
    {
     "data": {
      "text/plain": [
       "[1, 8, 27, 64, 125]"
      ]
     },
     "execution_count": 104,
     "metadata": {},
     "output_type": "execute_result"
    }
   ],
   "source": [
    "list(map_output)"
   ]
  },
  {
   "cell_type": "code",
   "execution_count": 106,
   "metadata": {},
   "outputs": [],
   "source": [
    "#filter // filter(function, iterable)\n",
    "# map이랑 차이가 뭐냐면, 어떤 컨디션이 있을때 컨디션 True인 애들만 반환해준다.\n",
    "#   - 리스트의 요소\n",
    "\n",
    "list_input_a = [1,2,3,4,5,6,7,8]\n",
    "def under_5(items):\n",
    "    return items < 5"
   ]
  },
  {
   "cell_type": "code",
   "execution_count": 108,
   "metadata": {},
   "outputs": [
    {
     "data": {
      "text/plain": [
       "[1, 2, 3, 4]"
      ]
     },
     "execution_count": 108,
     "metadata": {},
     "output_type": "execute_result"
    }
   ],
   "source": [
    "list(filter(under_5,list_input_a)) #5보다 작은애들을 반환, 내장함수 이다. 컨디션을 보고 판단 그리고 value값을 반환해줌"
   ]
  },
  {
   "cell_type": "code",
   "execution_count": 3,
   "metadata": {},
   "outputs": [],
   "source": [
    "# 재귀함수\n",
    "\n",
    "def factorial(n):\n",
    "    output = 1\n",
    "    for i in range(1, n+1):\n",
    "        output *= i\n",
    "    return output"
   ]
  },
  {
   "cell_type": "code",
   "execution_count": 4,
   "metadata": {},
   "outputs": [
    {
     "data": {
      "text/plain": [
       "3628800"
      ]
     },
     "execution_count": 4,
     "metadata": {},
     "output_type": "execute_result"
    }
   ],
   "source": [
    "factorial(10)"
   ]
  },
  {
   "cell_type": "code",
   "execution_count": 5,
   "metadata": {},
   "outputs": [],
   "source": [
    "# n! = n * (n-1) * (n-2) * ... *3 *2 *1\n",
    "#    = n *(n-1)! 로 치환될 수 있다.\n",
    "#    = (n-1)! = n-1 * (n-2)! 로 치환될 수 있다.\n",
    "# ...\n",
    "# 2! = 2*1!\n",
    "# 1! = 1*0!\n",
    "# 0! = 1\n",
    "\n",
    "\n",
    "# 재귀함수 기본형\n",
    "'''\n",
    "\n",
    "def func(n):\n",
    "    if <condition>:   condition 부분에 집중!\n",
    "        return value\n",
    "\n",
    "    else:\n",
    "        return value * func(n-1)\n",
    "\n",
    "'''\n",
    "#재귀함수에서는 탈출조건(특정 시점에서 멈추도록)이 중요하다.\n",
    "\n",
    "def factorial_r(n):\n",
    "    if n == 0: # 이게 탈출 조건임\n",
    "        return 1\n",
    "    else:\n",
    "        return n * factorial_r(n-1)"
   ]
  },
  {
   "cell_type": "code",
   "execution_count": 22,
   "metadata": {},
   "outputs": [],
   "source": [
    "# x^n을 구하는 함수를 만들어보세요 (x를 n번 곱하는 함수)\n",
    "\n",
    "# x^n = x * x(n-1)\n",
    "\n",
    "def pow(x,n):\n",
    "    if n == 0:\n",
    "        return 1 \n",
    "    else:\n",
    "        return x * pow(x,n-1)"
   ]
  },
  {
   "cell_type": "code",
   "execution_count": 23,
   "metadata": {},
   "outputs": [
    {
     "data": {
      "text/plain": [
       "59049"
      ]
     },
     "execution_count": 23,
     "metadata": {},
     "output_type": "execute_result"
    }
   ],
   "source": [
    "pow(3,10)"
   ]
  },
  {
   "attachments": {},
   "cell_type": "markdown",
   "metadata": {},
   "source": [
    "## 실습 과제"
   ]
  },
  {
   "cell_type": "code",
   "execution_count": null,
   "metadata": {},
   "outputs": [],
   "source": [
    "# #  과제1\n",
    "# - 힌트 과목과 점수를 리스트에 저장 받으세요\n",
    "\n",
    "'''\n",
    "국어:점수\n",
    "영어:점수\n",
    "수학:점수\n",
    ".\n",
    ".\n",
    ".\n",
    "등을 입력했을 경우 평균을 내어주는 함수를 작성해보시오.\n",
    "(과목의 제한은 없다.)\n",
    "\n",
    "과목: 수학\n",
    "점수: 20\n",
    "추가 하실 건가요?\n",
    "    yes or no : yes\n",
    "과목: 국어\n",
    "점수: 50\n",
    "추가 하실 건가요?\n",
    "    yes or no : no\n",
    "수학 : 20 \n",
    "국어 : 50 \n",
    "평균 : 35\n",
    "'''\n",
    "\n",
    "score_list = []\n",
    "subject_list = []\n",
    "\n",
    "\n",
    "def input_sub(list_data):\n",
    "    data = input(\"과목:\")\n",
    "    list_data.append(data)\n",
    "    return data\n",
    "\n",
    "def input_sco(list_data):\n",
    "    data = int(input(\"점수:\"))\n",
    "    list_data.append(data)\n",
    "    return data\n",
    "\n",
    "def average(list_data):\n",
    "    data = sum(list_data) / len(list_data)\n",
    "    return data\n",
    "\n",
    "\n",
    "prompt = '''\n",
    "\n",
    "추가 하실건가요? yes or no\n",
    "\n",
    "'''\n",
    "answer = []\n",
    "while answer != \"no\": \n",
    "    print(prompt)\n",
    "    answer = input(\"값을 입력하세요\")\n",
    "    if answer == \"yes\":\n",
    "        input_sub(subject_list)\n",
    "        input_sco(score_list)\n",
    "        for j in range(len(subject_list)):\n",
    "            print(f\"과목 : {subject_list[j]}\")\n",
    "            print(f\"점수 : {score_list[j]}\")\n",
    "    else:\n",
    "        prt = average(score_list)\n",
    "        for i in range(len(subject_list)):\n",
    "            print(f\"{subject_list[i]} : {score_list[i]}\")\n",
    "        print(f\"평균 : {prt}\")\n",
    "        break\n",
    "\n",
    "\n",
    "# while True:\n",
    "#     break\n",
    "\n"
   ]
  },
  {
   "cell_type": "code",
   "execution_count": 64,
   "metadata": {},
   "outputs": [],
   "source": [
    "a = ['국어','수학']\n",
    "b = [100,40]"
   ]
  },
  {
   "cell_type": "code",
   "execution_count": 67,
   "metadata": {},
   "outputs": [
    {
     "name": "stdout",
     "output_type": "stream",
     "text": [
      "국어:100\n",
      "수학:40\n"
     ]
    }
   ],
   "source": [
    "for i in range(len(a)):\n",
    "    print(f\"{a[i]}:{b[i]}\")"
   ]
  },
  {
   "cell_type": "code",
   "execution_count": 35,
   "metadata": {},
   "outputs": [],
   "source": [
    "\n",
    "def input_sub():\n",
    "    data = input(\"과목:\")\n",
    "    subject_list.append(data)\n",
    "    return data"
   ]
  },
  {
   "cell_type": "code",
   "execution_count": 52,
   "metadata": {},
   "outputs": [],
   "source": [
    "def input_sco():\n",
    "    data = int(input(\"점수:\"))\n",
    "    score_list.append(data)\n",
    "    return data\n",
    "\n",
    "def average():\n",
    "    data = sum(score_list) / len(score_list)\n",
    "    return data"
   ]
  },
  {
   "cell_type": "code",
   "execution_count": 53,
   "metadata": {},
   "outputs": [
    {
     "data": {
      "text/plain": [
       "15.0"
      ]
     },
     "execution_count": 53,
     "metadata": {},
     "output_type": "execute_result"
    }
   ],
   "source": [
    "average()"
   ]
  },
  {
   "cell_type": "code",
   "execution_count": 36,
   "metadata": {},
   "outputs": [
    {
     "data": {
      "text/plain": [
       "'국어'"
      ]
     },
     "execution_count": 36,
     "metadata": {},
     "output_type": "execute_result"
    }
   ],
   "source": [
    "input_sub()"
   ]
  },
  {
   "cell_type": "code",
   "execution_count": 76,
   "metadata": {},
   "outputs": [],
   "source": [
    "\n",
    "# 과제2 최대공약수\n",
    "# gcd(15, 12) -> 3\n",
    "\n",
    "# 15          12 gcd(15, 12)\n",
    "# (15-12)=3   12 gcd(3, 12)\n",
    "# 12          3  gcd(12, 3)\n",
    "# 12-12=0     3  gcd(0, 3)\n",
    "\n",
    "# 16          21 gcd(16,21)\n",
    "# 21          16 gcd(21,16)\n",
    "# 21-16=5     16 gcd(5,16)\n",
    "# 16          5  gcd(16,5)\n",
    "# 16-15=1     5  gcd(1, 5)\n",
    "# 5           1  gcd(5, 1)\n",
    "# 5-5=0       1  gcd(0, 1)\n",
    "\n",
    "# gcd(m,n)\n",
    "# 경우 1. m < n\n",
    "#     - m과 n의 위치를 바꿔 준다\n",
    "# 경우 2. m >= n 인경우\n",
    "#     - m에서 n을 나눠 나머지만 갖고 온다.\n",
    "#     - 탈출조건) m에서 n을 나눠 나머지가 0이면 종료  n을 반환\n",
    "\n",
    "\n",
    "def gcd(m,n):\n",
    "    if m%n ==0:\n",
    "        return n\n",
    "    else:\n",
    "        if m<n:\n",
    "            temp =m\n",
    "            m = n\n",
    "            n = temp\n",
    "            return gcd(m,n)\n",
    "        elif m >= n:\n",
    "            m = m%n\n",
    "            return gcd(m,n)"
   ]
  },
  {
   "cell_type": "code",
   "execution_count": 75,
   "metadata": {},
   "outputs": [
    {
     "name": "stdout",
     "output_type": "stream",
     "text": [
      "10 1\n"
     ]
    }
   ],
   "source": [
    "# https://codinglevelup.tistory.com/49  \n",
    "# low 언어 방식이라고 한다.\n",
    "\n",
    "a = 1\n",
    "b = 10\n",
    "\n",
    "temp = a\n",
    "a = b\n",
    "b = temp\n",
    "\n",
    "print(a,b)"
   ]
  },
  {
   "cell_type": "code",
   "execution_count": 235,
   "metadata": {},
   "outputs": [],
   "source": [
    "# 과제3 피보나치 수열 (구현 해보세요)\n",
    "\n",
    "def pivo(n):\n",
    "        if n <=1:\n",
    "            return 1\n",
    "        elif n ==2:\n",
    "            return 1 + pivo(n-1)\n",
    "        else:\n",
    "            return pivo(n-2) + pivo(n-1)\n",
    "\n",
    "\n",
    "                \n",
    "\n",
    "\n"
   ]
  },
  {
   "cell_type": "code",
   "execution_count": 237,
   "metadata": {},
   "outputs": [
    {
     "data": {
      "text/plain": [
       "34"
      ]
     },
     "execution_count": 237,
     "metadata": {},
     "output_type": "execute_result"
    }
   ],
   "source": [
    "pivo(8)"
   ]
  },
  {
   "cell_type": "code",
   "execution_count": 159,
   "metadata": {},
   "outputs": [
    {
     "name": "stdout",
     "output_type": "stream",
     "text": [
      "0\n",
      "1\n",
      "2\n",
      "3\n",
      "4\n",
      "5\n",
      "6\n",
      "7\n",
      "8\n",
      "9\n"
     ]
    }
   ],
   "source": [
    "for i in range(10):\n",
    "    print(i)"
   ]
  },
  {
   "cell_type": "code",
   "execution_count": null,
   "metadata": {},
   "outputs": [],
   "source": [
    "        if p_list[n+3]\n",
    "            return n\n",
    "        else:"
   ]
  },
  {
   "cell_type": "code",
   "execution_count": 138,
   "metadata": {},
   "outputs": [
    {
     "data": {
      "text/plain": [
       "3"
      ]
     },
     "execution_count": 138,
     "metadata": {},
     "output_type": "execute_result"
    }
   ],
   "source": [
    "a = [1,2,3,3]\n",
    "a[-1]"
   ]
  },
  {
   "cell_type": "code",
   "execution_count": 134,
   "metadata": {},
   "outputs": [
    {
     "ename": "IndexError",
     "evalue": "list index out of range",
     "output_type": "error",
     "traceback": [
      "\u001b[0;31m---------------------------------------------------------------------------\u001b[0m",
      "\u001b[0;31mIndexError\u001b[0m                                Traceback (most recent call last)",
      "Cell \u001b[0;32mIn[134], line 1\u001b[0m\n\u001b[0;32m----> 1\u001b[0m pivo(\u001b[39m3\u001b[39;49m)\n",
      "Cell \u001b[0;32mIn[133], line 6\u001b[0m, in \u001b[0;36mpivo\u001b[0;34m(n)\u001b[0m\n\u001b[1;32m      4\u001b[0m \u001b[39mdef\u001b[39;00m \u001b[39mpivo\u001b[39m(n):\n\u001b[1;32m      5\u001b[0m     \u001b[39mfor\u001b[39;00m i \u001b[39min\u001b[39;00m \u001b[39mrange\u001b[39m(\u001b[39m0\u001b[39m,n):\n\u001b[0;32m----> 6\u001b[0m         \u001b[39mif\u001b[39;00m p_list[n] \u001b[39m==\u001b[39m p_list[n\u001b[39m-\u001b[39m\u001b[39m1\u001b[39m]:\n\u001b[1;32m      7\u001b[0m             \u001b[39mreturn\u001b[39;00m n\n\u001b[1;32m      8\u001b[0m         \u001b[39melse\u001b[39;00m:\n",
      "\u001b[0;31mIndexError\u001b[0m: list index out of range"
     ]
    }
   ],
   "source": [
    "pivo(3)"
   ]
  },
  {
   "cell_type": "code",
   "execution_count": 129,
   "metadata": {},
   "outputs": [
    {
     "data": {
      "text/plain": [
       "[1, 1, 1]"
      ]
     },
     "execution_count": 129,
     "metadata": {},
     "output_type": "execute_result"
    }
   ],
   "source": [
    "p_list"
   ]
  },
  {
   "cell_type": "code",
   "execution_count": null,
   "metadata": {},
   "outputs": [],
   "source": [
    "pivo(2)"
   ]
  },
  {
   "cell_type": "code",
   "execution_count": 111,
   "metadata": {},
   "outputs": [
    {
     "name": "stdout",
     "output_type": "stream",
     "text": [
      "1  2  3  4  5  6  7  8  9  "
     ]
    }
   ],
   "source": [
    "    for i in a:\n",
    "        b = print(i,\" \", end=\"\")"
   ]
  },
  {
   "cell_type": "code",
   "execution_count": 86,
   "metadata": {},
   "outputs": [
    {
     "name": "stdout",
     "output_type": "stream",
     "text": [
      "range(0, 10)\n"
     ]
    }
   ],
   "source": [
    "pivo(10)"
   ]
  },
  {
   "cell_type": "code",
   "execution_count": null,
   "metadata": {},
   "outputs": [],
   "source": []
  }
 ],
 "metadata": {
  "kernelspec": {
   "display_name": "tuto",
   "language": "python",
   "name": "python3"
  },
  "language_info": {
   "codemirror_mode": {
    "name": "ipython",
    "version": 3
   },
   "file_extension": ".py",
   "mimetype": "text/x-python",
   "name": "python",
   "nbconvert_exporter": "python",
   "pygments_lexer": "ipython3",
   "version": "3.10.11"
  },
  "orig_nbformat": 4
 },
 "nbformat": 4,
 "nbformat_minor": 2
}
